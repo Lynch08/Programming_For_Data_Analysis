{
 "cells": [
  {
   "cell_type": "markdown",
   "id": "326c497b-390a-49aa-b8c3-458e9b56e586",
   "metadata": {},
   "source": [
    " # Example Notebook"
   ]
  },
  {
   "cell_type": "code",
   "execution_count": 1,
   "id": "83494a1b-66e5-42d7-91d3-10fa22c7c7ab",
   "metadata": {},
   "outputs": [],
   "source": [
    "import numpy as np"
   ]
  },
  {
   "cell_type": "code",
   "execution_count": 2,
   "id": "30923eba-0855-4baf-9cc2-eb760a8528e1",
   "metadata": {},
   "outputs": [],
   "source": [
    "a = 1"
   ]
  },
  {
   "cell_type": "code",
   "execution_count": 3,
   "id": "ebcd39a2-8ee9-4e0b-b8c6-d12fe72c0f2f",
   "metadata": {},
   "outputs": [
    {
     "name": "stdout",
     "output_type": "stream",
     "text": [
      "8.524669366256445\n",
      "119.82034669066147\n"
     ]
    }
   ],
   "source": [
    "print (np.random.uniform(0.0, 10.0))\n",
    "print (np.random.uniform (100.0, 200.0))"
   ]
  },
  {
   "cell_type": "code",
   "execution_count": 4,
   "id": "cce31c6f-1f86-4eb7-84af-ef7cd9adfdc9",
   "metadata": {},
   "outputs": [
    {
     "name": "stdout",
     "output_type": "stream",
     "text": [
      "1\n"
     ]
    }
   ],
   "source": [
    "print(a)"
   ]
  },
  {
   "cell_type": "code",
   "execution_count": null,
   "id": "5f958be4-1d85-483c-8c39-df3e52cf5379",
   "metadata": {},
   "outputs": [],
   "source": []
  }
 ],
 "metadata": {
  "kernelspec": {
   "display_name": "Python 3",
   "language": "python",
   "name": "python3"
  },
  "language_info": {
   "codemirror_mode": {
    "name": "ipython",
    "version": 3
   },
   "file_extension": ".py",
   "mimetype": "text/x-python",
   "name": "python",
   "nbconvert_exporter": "python",
   "pygments_lexer": "ipython3",
   "version": "3.8.8"
  }
 },
 "nbformat": 4,
 "nbformat_minor": 5
}
