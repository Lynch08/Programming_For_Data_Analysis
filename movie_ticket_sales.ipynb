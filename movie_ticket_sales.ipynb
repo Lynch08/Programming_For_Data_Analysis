{
 "cells": [
  {
   "cell_type": "markdown",
   "id": "0fb82771-1193-4810-9ce7-5dbc65dff44c",
   "metadata": {},
   "source": [
    "### Table of Contents\n",
    "\n",
    "[1. Introduction](#Intro)  \n",
    "1.1 Project objective  \n",
    "1.2 Choice of real world phenomenon  \n",
    "1.3 Choosing the original data set  \n",
    "1.4 Contents of the original data set  \n",
    "1.5 About this notebook and python libraries used  \n",
    "\n",
    "[2. Disclaimer](#Discl)  \n",
    "\n",
    "[3. Import Packages for notebook](#import)  \n",
    "\n",
    "[4. Read in and Clean original data for analysis](#Read_in)  \n",
    "\n",
    "[5. Beginning my analysis](#Ana)  \n",
    "5.1 First Plot  \n",
    "5.2 AVERAGE TICKET PRICE - Analysis  \n",
    "5.3 TICKETS SOLD - Analysis  \n",
    "5.4 TOTAL BOX OFFICE and TOT INFLATION ADJ BOX OFFICE - Analysis  \n",
    "5.5 Describing each Column  \n",
    "\n",
    "[6. Recreating the data](#Recreat)  \n",
    "6.1 Year and Months  \n",
    "6.2 Ticket sales by Month  \n",
    "6.3 Ave Ticket Price by month  \n",
    "6.4 Adding Inflation %  \n",
    "\n",
    "[7. Thoughts and Conclusions](#Conclu) \n",
    "\n",
    "[8. Citations](#Cite)  "
   ]
  },
  {
   "cell_type": "markdown",
   "id": "d3c09f32-6b7c-4ef0-a04d-d12c2ec2e032",
   "metadata": {},
   "source": [
    "<a id='Intro'></a>\n",
    "# Introduction"
   ]
  },
  {
   "cell_type": "markdown",
   "id": "f48df33e-a3ad-44c1-b8d3-c94143e46bd8",
   "metadata": {},
   "source": [
    "This repository contains all of the files pertaining to my 2021 project submission for the Programming for Data Analysis module of the GMIT H.Dip program in Data Analytics. All of the work contained within this repository was carried out over the course of a 3 week period in December 2021. This Jupyter notebook contains the complete documentation for the project."
   ]
  },
  {
   "cell_type": "markdown",
   "id": "ab583655-10b2-400f-be5f-ae07994ae175",
   "metadata": {},
   "source": [
    "### 1.1 Project objective\n",
    "The objective of this project is to synthesise a data set based on some real world phenomenon. This requires investigation in to the phenomenon and then using the numpy.random package in Python to simulated some data based on this. The problem statement for the assignment is as follows :\n",
    "\n",
    "1. Choose a real-world phenomenon that can be measured and for which you could collect at least one-hundred data points across at least four different variables.  \n",
    "2. Investigate the types of variables involved, their likely distributions, and their relationships with each other.\n",
    "3. Synthesise/simulate a data set as closely matching their properties as possible.\n",
    "4. Detail your research and implement the simulation in a Jupyter notebook – the data set itself can simply be displayed in an output cell within the notebook."
   ]
  },
  {
   "cell_type": "markdown",
   "id": "7d1ed2cb-6a1b-437a-8cf4-1043255db275",
   "metadata": {},
   "source": [
    "### 1.2 Choice of real world phenomenon"
   ]
  },
  {
   "cell_type": "markdown",
   "id": "a66a8a46-db89-4595-9634-b5085071b67d",
   "metadata": {},
   "source": [
    "The dataset I have choosen to synthesise is not a big data set but it is of interest to me as I like to consider myself a movie buff, like a high percentage of 30 somethings who need to justify the amount of time we spend in front of the screen.  \n",
    "The dataset I am going to synthesise lists various information such as the tickets sold each year along with its total box office (including adjusted box office due to inflammation) and average ticket price from 1995 to 2021.  \n",
    "**NB. This is based on the US Box office.**\n",
    "\n",
    "As we all know (or at least could have guessed) the movie industry - espically the cinema industry - like many others has been decimated in the last two years because of covid-19. We know that attendance and profits will be way way down to the previous 24 years, as the cinemas were simply not allowed to open.  However before this pandemic there were already rumblings of how the profit margins and attendance for theatrical releases was not as stable as it had been in recent years.  \n",
    "This is due to a number of factors such as the advent of the the Netflix streaming models and technologiy advancement, many of the public are now able to recreate the cinema expierence at home with surround sound and high definition televisions.\n",
    "Also this type of data may be extremly valuable in the years to come as the cinema industry tries to bounce back after its back to back least profitable years in a long time, as it may use this type of historical data to analyse in order to help with decision makings in the future. Althogh the data they will be analyising would almost certinaly be more granular to inculude things like what movie generes are making the most money and the data would probably be broken down daily or weekly rather than anually - however for the purposes of this project \"data simulation\" this should suffice.\n",
    "\n",
    "\n"
   ]
  },
  {
   "cell_type": "markdown",
   "id": "3cafbf86-9138-42f4-81b5-64b03a6213f5",
   "metadata": {},
   "source": [
    "### 1.3 Choosing the original data set"
   ]
  },
  {
   "cell_type": "markdown",
   "id": "71433ecb-1097-492e-8cbb-7b0b33c9e2c8",
   "metadata": {},
   "source": [
    "The original data set I found to try to simulate is on Kaggle - a website that has a wide selection of datasets to choose from - to the point the choosing of the data set was more stressful than the analysis and simulation.  \n",
    "Scrolling through the datasets I was trying to give myself the best oppertunity and was looking at massive datasets, some to do with the rate astroids hit our atmosphere, a popular dataset about the titanic kept popping up and plenty of weather related and health related datasets.\n",
    "I must have gone throgh 50-60 data sets before settling on a sports dataset - NFL(American Football) - and then changed my mind a week later. \n",
    "I passed on some of the datasets for reasons that if I had to do over I may not have. For example I excluded many of the original datasets to work off simply because they did not have enough numerical values in the columns - after the project and some research I feel that this was a mistake, I was afraid of how difficult it would be to generate specific strings in specific trends using numpy - after doing further research that cropped up during the project it turns out it would probably not have been that bad. Of course the Iris Data set was also an option - but that dataset cannot be the cornersone of every project.  \n",
    "The reason I changed my mind from the NFL data was a little differnt - it was all numerical so no problem there, however there was so much of it - up to 20 columns in some data sets and because I watch the games and follow the sport alot I found everything was important and I just knew that trying to corrolate how each column effects the other was going to be a nightmare and to be honest I did not think I was prepared for that type of complexity as of yet.  \n",
    "The reason I chose the cinema attendance data set was for a number of reasons:\n",
    "1. As I said above I like movies and going to the cinema and was interested to visualise how the industry had been effected over the past quarter century.\n",
    "2. It was a small data set, annual takings, so I had the idea to use the annual data to simulate monthly data over the same period. \n",
    "3. I wanted to see if the mutterings were true - was the cinema expierence dying pre covid anyway and the pandemic just sped up the process?\n",
    "4. The dataset was interesting as it has a couple of different distribution types that will be dicussed further on in the notebook - for example the avrage ticket price was almost certanly going to go up every year to match inflation, but how would the attendance and box-office intake reflect that? These questions and analysis would determin what tools I used when simulating the data\n",
    "5. The dataset looked more interesting to me and I was able to make some obvious assumptions about which variables and their values were most closely related - this helped with the anxiety.\n",
    "\n",
    "\n",
    "\n",
    "https://www.kaggle.com/johnharshith/hollywood-theatrical-market-synopsis-1995-to-2021\n"
   ]
  },
  {
   "cell_type": "markdown",
   "id": "8722b578-11f0-4d2e-bc68-4efd3d714e11",
   "metadata": {},
   "source": [
    "### 1.4 Contents of the original data set"
   ]
  },
  {
   "cell_type": "markdown",
   "id": "1460c054-e8ad-466e-993e-2073a0d07c96",
   "metadata": {},
   "source": [
    "The original dataset consists of 5 columns each with 26 rows (one row for each year from 1995 - 2021).  \n",
    "The Column headers are:\n",
    "1. **YEAR** - Year in which the corresponding theatrical market data has been collected.  \n",
    "2. **TICKETS SOLD** - The total number of domestic movie tickets sold in each of the respective years,  \n",
    "3. **TOTAL BOX OFFICE** - Total box office collection combined of all movies released that particular year considered.  \n",
    "4. **TOTAL INFLATION ADJUSTED BOX OFFICE** - Adjusted box office collection with respect to the inflation that has been caused over time.  \n",
    "5. **AVERAGE TICKET PRICE** - The average ticket price considering all films released that particular year considered.  \n",
    "\n",
    "There are 135 datapoints across the 5 columns. This is a small data set by any standards however, hopefully I will be able to determine the disrtibutions and relationshios and I will be able to simulate a similar dataset over the same period monthy or weekly."
   ]
  },
  {
   "cell_type": "markdown",
   "id": "088fa308-8ad2-4900-a57c-17882a37cd28",
   "metadata": {},
   "source": [
    "### About this notebook and python libraries used\n",
    "\n",
    "This project was developed using python and its following packages:\n",
    "\n",
    " - Seaborn  is a Python data visualization library for making attractive and informative statistical graphics in Python.\n",
    " - Pandas  provides data analysis tools and is designed for working with tabular data that contains an ordered collection of columns where each column can have a different value type.\n",
    " - NumPy is the fundamental package for scientific computing in Python.  \n",
    " - Numpy.random is a subpackage of the NumPy package for working with random numbers. NumPy is one of the most important packages for numerical and scientific computing in Python.\n",
    " - Scipy is a collection of mathematical algorithms and convenience functions built on the NumPy extension of Python"
   ]
  },
  {
   "cell_type": "markdown",
   "id": "6c9aa089-7f23-4dcf-9dd3-1b14ce599756",
   "metadata": {},
   "source": [
    "<a id='Discl'></a>\n",
    "# Disclaimer\n",
    "\n",
    "This project went horribly wrong for me multiple times.\n",
    " - I picked an NFL dataset, it didnt work for me and I ended up changeing I got so frustrated\n",
    " - Then I procrastonated over other datasets and chose the movie one, another mistake, it was too small to be able to figure out what distributions I whould use to simulate the data.\n",
    " - Finally I spent loads of time reading and messing with code trying to get something to fit, but all the tools I tried using such as 'fitter' (an install where you can give it a data set and it will tell you the best type of distribution) seemed to be giving me distributions I didnt know how to use, espically in conjunction with the other columns in the data frame.\n",
    " - Also my own time management was extremly poor for this project so no excuses there, apologies for the poor standard."
   ]
  },
  {
   "cell_type": "markdown",
   "id": "0a731b6e-cb87-4086-b228-fa88fadbc857",
   "metadata": {},
   "source": [
    "<a id='import'></a>\n",
    "### Import Packages for notebook"
   ]
  },
  {
   "cell_type": "markdown",
   "id": "878e63f2-0cb3-4574-8854-bfcef996543e",
   "metadata": {},
   "source": [
    "Next I will import the packages I used in the creation of this notebook"
   ]
  },
  {
   "cell_type": "code",
   "execution_count": 1,
   "id": "6bdc8f14-8d3b-42df-bd88-3bc55f16f230",
   "metadata": {},
   "outputs": [],
   "source": [
    "# Data Frames\n",
    "import pandas as pd\n",
    "\n",
    "# Numerical Arrays\n",
    "import numpy as np\n",
    "\n",
    "# Random number generation\n",
    "import numpy.random as rd\n",
    "\n",
    "# Plotting\n",
    "import matplotlib.pyplot as plt \n",
    "\n",
    "# software for mathematics, science, and engineering\n",
    "import scipy as stats\n",
    "\n",
    "# Nicer plots\n",
    "import seaborn as sns\n",
    "\n",
    "# Generate pseudo-random numbers\n",
    "import random as random\n",
    "\n",
    "# Statistical functions \n",
    "import scipy.stats"
   ]
  },
  {
   "cell_type": "markdown",
   "id": "7c6dbd56-7f52-4cd6-8c87-3c5847ef0bf1",
   "metadata": {},
   "source": [
    "<a id='Read_in'></a>\n",
    "### Read in and Clean Original Data for Analysis "
   ]
  },
  {
   "cell_type": "code",
   "execution_count": 2,
   "id": "93e3ac07-3f4a-4750-8f36-359fb119d4b9",
   "metadata": {},
   "outputs": [],
   "source": [
    "# Read in the data\n",
    "AnnualTicketSales = pd.read_csv('Data\\AnnualTicketSales.csv')"
   ]
  },
  {
   "cell_type": "code",
   "execution_count": 3,
   "id": "d64472d9-0d14-4d4f-b8ed-e2575f1c9700",
   "metadata": {},
   "outputs": [
    {
     "data": {
      "text/html": [
       "<div>\n",
       "<style scoped>\n",
       "    .dataframe tbody tr th:only-of-type {\n",
       "        vertical-align: middle;\n",
       "    }\n",
       "\n",
       "    .dataframe tbody tr th {\n",
       "        vertical-align: top;\n",
       "    }\n",
       "\n",
       "    .dataframe thead th {\n",
       "        text-align: right;\n",
       "    }\n",
       "</style>\n",
       "<table border=\"1\" class=\"dataframe\">\n",
       "  <thead>\n",
       "    <tr style=\"text-align: right;\">\n",
       "      <th></th>\n",
       "      <th>YEAR</th>\n",
       "      <th>TICKETS SOLD</th>\n",
       "      <th>TOTAL BOX OFFICE</th>\n",
       "      <th>TOTAL INFLATION ADJUSTED BOX OFFICE</th>\n",
       "      <th>AVERAGE TICKET PRICE</th>\n",
       "      <th>Unnamed: 5</th>\n",
       "    </tr>\n",
       "  </thead>\n",
       "  <tbody>\n",
       "    <tr>\n",
       "      <th>0</th>\n",
       "      <td>2021</td>\n",
       "      <td>42,37,74,881</td>\n",
       "      <td>$3,881,777,912</td>\n",
       "      <td>$3,881,777,912</td>\n",
       "      <td>$9.16</td>\n",
       "      <td>NaN</td>\n",
       "    </tr>\n",
       "    <tr>\n",
       "      <th>1</th>\n",
       "      <td>2020</td>\n",
       "      <td>22,36,38,958</td>\n",
       "      <td>$2,048,534,616</td>\n",
       "      <td>$2,048,534,616</td>\n",
       "      <td>$9.16</td>\n",
       "      <td>NaN</td>\n",
       "    </tr>\n",
       "    <tr>\n",
       "      <th>2</th>\n",
       "      <td>2019</td>\n",
       "      <td>1,22,85,41,629</td>\n",
       "      <td>$11,253,443,955</td>\n",
       "      <td>$11,253,444,050</td>\n",
       "      <td>$9.16</td>\n",
       "      <td>NaN</td>\n",
       "    </tr>\n",
       "    <tr>\n",
       "      <th>3</th>\n",
       "      <td>2018</td>\n",
       "      <td>1,31,15,36,128</td>\n",
       "      <td>$11,948,096,650</td>\n",
       "      <td>$12,013,670,952</td>\n",
       "      <td>$9.11</td>\n",
       "      <td>NaN</td>\n",
       "    </tr>\n",
       "    <tr>\n",
       "      <th>4</th>\n",
       "      <td>2017</td>\n",
       "      <td>1,22,56,39,761</td>\n",
       "      <td>$10,993,991,460</td>\n",
       "      <td>$11,226,860,216</td>\n",
       "      <td>$8.97</td>\n",
       "      <td>NaN</td>\n",
       "    </tr>\n",
       "    <tr>\n",
       "      <th>5</th>\n",
       "      <td>2016</td>\n",
       "      <td>1,30,25,56,378</td>\n",
       "      <td>$11,267,115,924</td>\n",
       "      <td>$11,931,416,424</td>\n",
       "      <td>$8.65</td>\n",
       "      <td>NaN</td>\n",
       "    </tr>\n",
       "    <tr>\n",
       "      <th>6</th>\n",
       "      <td>2015</td>\n",
       "      <td>1,32,33,56,776</td>\n",
       "      <td>$11,155,900,636</td>\n",
       "      <td>$12,121,948,075</td>\n",
       "      <td>$8.43</td>\n",
       "      <td>NaN</td>\n",
       "    </tr>\n",
       "    <tr>\n",
       "      <th>7</th>\n",
       "      <td>2014</td>\n",
       "      <td>1,25,74,02,920</td>\n",
       "      <td>$10,272,985,008</td>\n",
       "      <td>$11,517,810,744</td>\n",
       "      <td>$8.17</td>\n",
       "      <td>NaN</td>\n",
       "    </tr>\n",
       "    <tr>\n",
       "      <th>8</th>\n",
       "      <td>2013</td>\n",
       "      <td>1,33,91,68,926</td>\n",
       "      <td>$10,887,446,341</td>\n",
       "      <td>$12,266,787,382</td>\n",
       "      <td>$8.13</td>\n",
       "      <td>NaN</td>\n",
       "    </tr>\n",
       "    <tr>\n",
       "      <th>9</th>\n",
       "      <td>2012</td>\n",
       "      <td>1,38,09,21,942</td>\n",
       "      <td>$10,992,141,616</td>\n",
       "      <td>$12,649,244,986</td>\n",
       "      <td>$7.96</td>\n",
       "      <td>NaN</td>\n",
       "    </tr>\n",
       "    <tr>\n",
       "      <th>10</th>\n",
       "      <td>2011</td>\n",
       "      <td>1,28,29,15,168</td>\n",
       "      <td>$10,173,519,704</td>\n",
       "      <td>$11,751,502,955</td>\n",
       "      <td>$7.93</td>\n",
       "      <td>NaN</td>\n",
       "    </tr>\n",
       "    <tr>\n",
       "      <th>11</th>\n",
       "      <td>2010</td>\n",
       "      <td>1,32,85,49,021</td>\n",
       "      <td>$10,482,254,025</td>\n",
       "      <td>$12,169,509,032</td>\n",
       "      <td>$7.89</td>\n",
       "      <td>NaN</td>\n",
       "    </tr>\n",
       "    <tr>\n",
       "      <th>12</th>\n",
       "      <td>2009</td>\n",
       "      <td>1,41,85,67,388</td>\n",
       "      <td>$10,639,257,284</td>\n",
       "      <td>$12,994,051,137</td>\n",
       "      <td>$7.50</td>\n",
       "      <td>NaN</td>\n",
       "    </tr>\n",
       "    <tr>\n",
       "      <th>13</th>\n",
       "      <td>2008</td>\n",
       "      <td>1,35,80,42,073</td>\n",
       "      <td>$9,750,744,148</td>\n",
       "      <td>$12,439,665,380</td>\n",
       "      <td>$7.18</td>\n",
       "      <td>NaN</td>\n",
       "    </tr>\n",
       "    <tr>\n",
       "      <th>14</th>\n",
       "      <td>2007</td>\n",
       "      <td>1,42,00,36,680</td>\n",
       "      <td>$9,769,854,914</td>\n",
       "      <td>$13,007,535,993</td>\n",
       "      <td>$6.88</td>\n",
       "      <td>NaN</td>\n",
       "    </tr>\n",
       "    <tr>\n",
       "      <th>15</th>\n",
       "      <td>2006</td>\n",
       "      <td>1,39,87,38,283</td>\n",
       "      <td>$9,161,738,221</td>\n",
       "      <td>$12,812,442,671</td>\n",
       "      <td>$6.55</td>\n",
       "      <td>NaN</td>\n",
       "    </tr>\n",
       "    <tr>\n",
       "      <th>16</th>\n",
       "      <td>2005</td>\n",
       "      <td>1,37,29,80,280</td>\n",
       "      <td>$8,800,805,718</td>\n",
       "      <td>$12,576,499,367</td>\n",
       "      <td>$6.41</td>\n",
       "      <td>NaN</td>\n",
       "    </tr>\n",
       "    <tr>\n",
       "      <th>17</th>\n",
       "      <td>2004</td>\n",
       "      <td>1,49,56,51,298</td>\n",
       "      <td>$9,287,996,519</td>\n",
       "      <td>$13,700,165,883</td>\n",
       "      <td>$6.21</td>\n",
       "      <td>NaN</td>\n",
       "    </tr>\n",
       "    <tr>\n",
       "      <th>18</th>\n",
       "      <td>2003</td>\n",
       "      <td>1,52,45,89,620</td>\n",
       "      <td>$9,193,277,289</td>\n",
       "      <td>$13,965,240,914</td>\n",
       "      <td>$6.03</td>\n",
       "      <td>NaN</td>\n",
       "    </tr>\n",
       "    <tr>\n",
       "      <th>19</th>\n",
       "      <td>2002</td>\n",
       "      <td>1,57,57,56,527</td>\n",
       "      <td>$9,155,147,215</td>\n",
       "      <td>$14,433,929,789</td>\n",
       "      <td>$5.81</td>\n",
       "      <td>NaN</td>\n",
       "    </tr>\n",
       "    <tr>\n",
       "      <th>20</th>\n",
       "      <td>2001</td>\n",
       "      <td>1,46,58,74,205</td>\n",
       "      <td>$8,296,849,636</td>\n",
       "      <td>$13,427,407,722</td>\n",
       "      <td>$5.66</td>\n",
       "      <td>NaN</td>\n",
       "    </tr>\n",
       "    <tr>\n",
       "      <th>21</th>\n",
       "      <td>2000</td>\n",
       "      <td>1,39,74,60,079</td>\n",
       "      <td>$7,532,311,479</td>\n",
       "      <td>$12,800,734,319</td>\n",
       "      <td>$5.39</td>\n",
       "      <td>NaN</td>\n",
       "    </tr>\n",
       "    <tr>\n",
       "      <th>22</th>\n",
       "      <td>1999</td>\n",
       "      <td>1,44,46,64,086</td>\n",
       "      <td>$7,338,894,852</td>\n",
       "      <td>$13,233,123,027</td>\n",
       "      <td>$5.08</td>\n",
       "      <td>NaN</td>\n",
       "    </tr>\n",
       "    <tr>\n",
       "      <th>23</th>\n",
       "      <td>1998</td>\n",
       "      <td>1,44,38,32,471</td>\n",
       "      <td>$6,771,575,283</td>\n",
       "      <td>$13,225,505,439</td>\n",
       "      <td>$4.69</td>\n",
       "      <td>NaN</td>\n",
       "    </tr>\n",
       "    <tr>\n",
       "      <th>24</th>\n",
       "      <td>1997</td>\n",
       "      <td>1,35,73,49,648</td>\n",
       "      <td>$6,230,235,770</td>\n",
       "      <td>$12,433,322,785</td>\n",
       "      <td>$4.59</td>\n",
       "      <td>NaN</td>\n",
       "    </tr>\n",
       "    <tr>\n",
       "      <th>25</th>\n",
       "      <td>1996</td>\n",
       "      <td>1,30,52,21,290</td>\n",
       "      <td>$5,769,078,886</td>\n",
       "      <td>$11,955,781,912</td>\n",
       "      <td>$4.42</td>\n",
       "      <td>NaN</td>\n",
       "    </tr>\n",
       "    <tr>\n",
       "      <th>26</th>\n",
       "      <td>1995</td>\n",
       "      <td>1,22,17,05,907</td>\n",
       "      <td>$5,314,421,390</td>\n",
       "      <td>$11,190,826,105</td>\n",
       "      <td>$4.35</td>\n",
       "      <td>NaN</td>\n",
       "    </tr>\n",
       "  </tbody>\n",
       "</table>\n",
       "</div>"
      ],
      "text/plain": [
       "    YEAR    TICKETS SOLD TOTAL BOX OFFICE TOTAL INFLATION ADJUSTED BOX OFFICE  \\\n",
       "0   2021    42,37,74,881   $3,881,777,912                      $3,881,777,912   \n",
       "1   2020    22,36,38,958   $2,048,534,616                      $2,048,534,616   \n",
       "2   2019  1,22,85,41,629  $11,253,443,955                     $11,253,444,050   \n",
       "3   2018  1,31,15,36,128  $11,948,096,650                     $12,013,670,952   \n",
       "4   2017  1,22,56,39,761  $10,993,991,460                     $11,226,860,216   \n",
       "5   2016  1,30,25,56,378  $11,267,115,924                     $11,931,416,424   \n",
       "6   2015  1,32,33,56,776  $11,155,900,636                     $12,121,948,075   \n",
       "7   2014  1,25,74,02,920  $10,272,985,008                     $11,517,810,744   \n",
       "8   2013  1,33,91,68,926  $10,887,446,341                     $12,266,787,382   \n",
       "9   2012  1,38,09,21,942  $10,992,141,616                     $12,649,244,986   \n",
       "10  2011  1,28,29,15,168  $10,173,519,704                     $11,751,502,955   \n",
       "11  2010  1,32,85,49,021  $10,482,254,025                     $12,169,509,032   \n",
       "12  2009  1,41,85,67,388  $10,639,257,284                     $12,994,051,137   \n",
       "13  2008  1,35,80,42,073   $9,750,744,148                     $12,439,665,380   \n",
       "14  2007  1,42,00,36,680   $9,769,854,914                     $13,007,535,993   \n",
       "15  2006  1,39,87,38,283   $9,161,738,221                     $12,812,442,671   \n",
       "16  2005  1,37,29,80,280   $8,800,805,718                     $12,576,499,367   \n",
       "17  2004  1,49,56,51,298   $9,287,996,519                     $13,700,165,883   \n",
       "18  2003  1,52,45,89,620   $9,193,277,289                     $13,965,240,914   \n",
       "19  2002  1,57,57,56,527   $9,155,147,215                     $14,433,929,789   \n",
       "20  2001  1,46,58,74,205   $8,296,849,636                     $13,427,407,722   \n",
       "21  2000  1,39,74,60,079   $7,532,311,479                     $12,800,734,319   \n",
       "22  1999  1,44,46,64,086   $7,338,894,852                     $13,233,123,027   \n",
       "23  1998  1,44,38,32,471   $6,771,575,283                     $13,225,505,439   \n",
       "24  1997  1,35,73,49,648   $6,230,235,770                     $12,433,322,785   \n",
       "25  1996  1,30,52,21,290   $5,769,078,886                     $11,955,781,912   \n",
       "26  1995  1,22,17,05,907   $5,314,421,390                     $11,190,826,105   \n",
       "\n",
       "   AVERAGE TICKET PRICE  Unnamed: 5  \n",
       "0                 $9.16         NaN  \n",
       "1                 $9.16         NaN  \n",
       "2                 $9.16         NaN  \n",
       "3                 $9.11         NaN  \n",
       "4                 $8.97         NaN  \n",
       "5                 $8.65         NaN  \n",
       "6                 $8.43         NaN  \n",
       "7                 $8.17         NaN  \n",
       "8                 $8.13         NaN  \n",
       "9                 $7.96         NaN  \n",
       "10                $7.93         NaN  \n",
       "11                $7.89         NaN  \n",
       "12                $7.50         NaN  \n",
       "13                $7.18         NaN  \n",
       "14                $6.88         NaN  \n",
       "15                $6.55         NaN  \n",
       "16                $6.41         NaN  \n",
       "17                $6.21         NaN  \n",
       "18                $6.03         NaN  \n",
       "19                $5.81         NaN  \n",
       "20                $5.66         NaN  \n",
       "21                $5.39         NaN  \n",
       "22                $5.08         NaN  \n",
       "23                $4.69         NaN  \n",
       "24                $4.59         NaN  \n",
       "25                $4.42         NaN  \n",
       "26                $4.35         NaN  "
      ]
     },
     "execution_count": 3,
     "metadata": {},
     "output_type": "execute_result"
    }
   ],
   "source": [
    "# Have a look at the data set\n",
    "AnnualTicketSales"
   ]
  },
  {
   "cell_type": "markdown",
   "id": "e7087f04-97ea-4dde-a30c-e03632fef263",
   "metadata": {},
   "source": [
    "There are a number of things I can see from the original dataset that may cause me problems when I try to do some analysis\n",
    "1. Straight away I can see the original dataset is bringing in an unnamed column so I am going to get rid of that before starting my analysis.  \n",
    "2. Secondly the dollar signs in front of the figures may cause a problem later so I will also remove then.\n",
    "3. Also I can see that in the TICKETS SOLD column there are commas in the incorrect places - so I am going to remove all commas from the data - I should be able to remove the commas and $ at the same time.\n"
   ]
  },
  {
   "cell_type": "code",
   "execution_count": 4,
   "id": "b5630a31-a0ef-451d-843a-9d9f58bf8b6a",
   "metadata": {},
   "outputs": [],
   "source": [
    "# Remove unnamed column\n",
    "AnnualTicketSales = AnnualTicketSales.loc[:, ~AnnualTicketSales.columns.str.contains('^Unnamed')]"
   ]
  },
  {
   "cell_type": "code",
   "execution_count": 5,
   "id": "0798ef63-f367-419a-91cd-9cbea6e4bc8a",
   "metadata": {},
   "outputs": [
    {
     "data": {
      "text/html": [
       "<div>\n",
       "<style scoped>\n",
       "    .dataframe tbody tr th:only-of-type {\n",
       "        vertical-align: middle;\n",
       "    }\n",
       "\n",
       "    .dataframe tbody tr th {\n",
       "        vertical-align: top;\n",
       "    }\n",
       "\n",
       "    .dataframe thead th {\n",
       "        text-align: right;\n",
       "    }\n",
       "</style>\n",
       "<table border=\"1\" class=\"dataframe\">\n",
       "  <thead>\n",
       "    <tr style=\"text-align: right;\">\n",
       "      <th></th>\n",
       "      <th>YEAR</th>\n",
       "      <th>TICKETS SOLD</th>\n",
       "      <th>TOTAL BOX OFFICE</th>\n",
       "      <th>TOTAL INFLATION ADJUSTED BOX OFFICE</th>\n",
       "      <th>AVERAGE TICKET PRICE</th>\n",
       "    </tr>\n",
       "  </thead>\n",
       "  <tbody>\n",
       "    <tr>\n",
       "      <th>0</th>\n",
       "      <td>2021</td>\n",
       "      <td>42,37,74,881</td>\n",
       "      <td>$3,881,777,912</td>\n",
       "      <td>$3,881,777,912</td>\n",
       "      <td>$9.16</td>\n",
       "    </tr>\n",
       "    <tr>\n",
       "      <th>1</th>\n",
       "      <td>2020</td>\n",
       "      <td>22,36,38,958</td>\n",
       "      <td>$2,048,534,616</td>\n",
       "      <td>$2,048,534,616</td>\n",
       "      <td>$9.16</td>\n",
       "    </tr>\n",
       "    <tr>\n",
       "      <th>2</th>\n",
       "      <td>2019</td>\n",
       "      <td>1,22,85,41,629</td>\n",
       "      <td>$11,253,443,955</td>\n",
       "      <td>$11,253,444,050</td>\n",
       "      <td>$9.16</td>\n",
       "    </tr>\n",
       "    <tr>\n",
       "      <th>3</th>\n",
       "      <td>2018</td>\n",
       "      <td>1,31,15,36,128</td>\n",
       "      <td>$11,948,096,650</td>\n",
       "      <td>$12,013,670,952</td>\n",
       "      <td>$9.11</td>\n",
       "    </tr>\n",
       "    <tr>\n",
       "      <th>4</th>\n",
       "      <td>2017</td>\n",
       "      <td>1,22,56,39,761</td>\n",
       "      <td>$10,993,991,460</td>\n",
       "      <td>$11,226,860,216</td>\n",
       "      <td>$8.97</td>\n",
       "    </tr>\n",
       "  </tbody>\n",
       "</table>\n",
       "</div>"
      ],
      "text/plain": [
       "   YEAR    TICKETS SOLD TOTAL BOX OFFICE TOTAL INFLATION ADJUSTED BOX OFFICE  \\\n",
       "0  2021    42,37,74,881   $3,881,777,912                      $3,881,777,912   \n",
       "1  2020    22,36,38,958   $2,048,534,616                      $2,048,534,616   \n",
       "2  2019  1,22,85,41,629  $11,253,443,955                     $11,253,444,050   \n",
       "3  2018  1,31,15,36,128  $11,948,096,650                     $12,013,670,952   \n",
       "4  2017  1,22,56,39,761  $10,993,991,460                     $11,226,860,216   \n",
       "\n",
       "  AVERAGE TICKET PRICE  \n",
       "0                $9.16  \n",
       "1                $9.16  \n",
       "2                $9.16  \n",
       "3                $9.11  \n",
       "4                $8.97  "
      ]
     },
     "execution_count": 5,
     "metadata": {},
     "output_type": "execute_result"
    }
   ],
   "source": [
    "# check to make sure column is removed\n",
    "AnnualTicketSales.head()"
   ]
  },
  {
   "cell_type": "code",
   "execution_count": 6,
   "id": "0afd2bf0-a853-42d1-94ca-6f58d8ec8bb9",
   "metadata": {},
   "outputs": [
    {
     "data": {
      "text/plain": [
       "YEAR                                    int64\n",
       "TICKETS SOLD                           object\n",
       "TOTAL BOX OFFICE                       object\n",
       "TOTAL INFLATION ADJUSTED BOX OFFICE    object\n",
       "AVERAGE TICKET PRICE                   object\n",
       "dtype: object"
      ]
     },
     "execution_count": 6,
     "metadata": {},
     "output_type": "execute_result"
    }
   ],
   "source": [
    "# Check what the real world data set columns look like\n",
    "AnnualTicketSales.dtypes"
   ]
  },
  {
   "cell_type": "markdown",
   "id": "cbc0a8cd-e02f-4316-99ec-f1e29780d25b",
   "metadata": {},
   "source": [
    "The year is INT but the rest of the data types are objects - I think this may need to be changed later.  \n",
    "But first I will remove the commas and $."
   ]
  },
  {
   "cell_type": "code",
   "execution_count": 7,
   "id": "dade826c-90c9-4f11-bbd4-14ed22b85ab0",
   "metadata": {},
   "outputs": [],
   "source": [
    "# Grouping the columns so I can remove the specific characters\n",
    "cols = ['TICKETS SOLD','TOTAL BOX OFFICE', \n",
    "        'TOTAL INFLATION ADJUSTED BOX OFFICE','AVERAGE TICKET PRICE']"
   ]
  },
  {
   "cell_type": "code",
   "execution_count": 8,
   "id": "d67d3041-ec65-4d57-a457-a387df14d2bf",
   "metadata": {},
   "outputs": [
    {
     "name": "stderr",
     "output_type": "stream",
     "text": [
      "C:\\Users\\lynch08\\Anaconda3\\lib\\site-packages\\pandas\\core\\frame.py:3191: SettingWithCopyWarning: \n",
      "A value is trying to be set on a copy of a slice from a DataFrame.\n",
      "Try using .loc[row_indexer,col_indexer] = value instead\n",
      "\n",
      "See the caveats in the documentation: https://pandas.pydata.org/pandas-docs/stable/user_guide/indexing.html#returning-a-view-versus-a-copy\n",
      "  self[k1] = value[k2]\n"
     ]
    }
   ],
   "source": [
    "AnnualTicketSales[cols] = AnnualTicketSales[cols].replace({'\\$': '', ',': ''}, regex=True)"
   ]
  },
  {
   "cell_type": "code",
   "execution_count": 9,
   "id": "881d4786-0b99-43bb-8d4a-9f91001d6bc0",
   "metadata": {},
   "outputs": [
    {
     "data": {
      "text/html": [
       "<div>\n",
       "<style scoped>\n",
       "    .dataframe tbody tr th:only-of-type {\n",
       "        vertical-align: middle;\n",
       "    }\n",
       "\n",
       "    .dataframe tbody tr th {\n",
       "        vertical-align: top;\n",
       "    }\n",
       "\n",
       "    .dataframe thead th {\n",
       "        text-align: right;\n",
       "    }\n",
       "</style>\n",
       "<table border=\"1\" class=\"dataframe\">\n",
       "  <thead>\n",
       "    <tr style=\"text-align: right;\">\n",
       "      <th></th>\n",
       "      <th>YEAR</th>\n",
       "      <th>TICKETS SOLD</th>\n",
       "      <th>TOTAL BOX OFFICE</th>\n",
       "      <th>TOTAL INFLATION ADJUSTED BOX OFFICE</th>\n",
       "      <th>AVERAGE TICKET PRICE</th>\n",
       "    </tr>\n",
       "  </thead>\n",
       "  <tbody>\n",
       "    <tr>\n",
       "      <th>0</th>\n",
       "      <td>2021</td>\n",
       "      <td>423774881</td>\n",
       "      <td>3881777912</td>\n",
       "      <td>3881777912</td>\n",
       "      <td>9.16</td>\n",
       "    </tr>\n",
       "    <tr>\n",
       "      <th>1</th>\n",
       "      <td>2020</td>\n",
       "      <td>223638958</td>\n",
       "      <td>2048534616</td>\n",
       "      <td>2048534616</td>\n",
       "      <td>9.16</td>\n",
       "    </tr>\n",
       "    <tr>\n",
       "      <th>2</th>\n",
       "      <td>2019</td>\n",
       "      <td>1228541629</td>\n",
       "      <td>11253443955</td>\n",
       "      <td>11253444050</td>\n",
       "      <td>9.16</td>\n",
       "    </tr>\n",
       "    <tr>\n",
       "      <th>3</th>\n",
       "      <td>2018</td>\n",
       "      <td>1311536128</td>\n",
       "      <td>11948096650</td>\n",
       "      <td>12013670952</td>\n",
       "      <td>9.11</td>\n",
       "    </tr>\n",
       "    <tr>\n",
       "      <th>4</th>\n",
       "      <td>2017</td>\n",
       "      <td>1225639761</td>\n",
       "      <td>10993991460</td>\n",
       "      <td>11226860216</td>\n",
       "      <td>8.97</td>\n",
       "    </tr>\n",
       "    <tr>\n",
       "      <th>5</th>\n",
       "      <td>2016</td>\n",
       "      <td>1302556378</td>\n",
       "      <td>11267115924</td>\n",
       "      <td>11931416424</td>\n",
       "      <td>8.65</td>\n",
       "    </tr>\n",
       "    <tr>\n",
       "      <th>6</th>\n",
       "      <td>2015</td>\n",
       "      <td>1323356776</td>\n",
       "      <td>11155900636</td>\n",
       "      <td>12121948075</td>\n",
       "      <td>8.43</td>\n",
       "    </tr>\n",
       "    <tr>\n",
       "      <th>7</th>\n",
       "      <td>2014</td>\n",
       "      <td>1257402920</td>\n",
       "      <td>10272985008</td>\n",
       "      <td>11517810744</td>\n",
       "      <td>8.17</td>\n",
       "    </tr>\n",
       "    <tr>\n",
       "      <th>8</th>\n",
       "      <td>2013</td>\n",
       "      <td>1339168926</td>\n",
       "      <td>10887446341</td>\n",
       "      <td>12266787382</td>\n",
       "      <td>8.13</td>\n",
       "    </tr>\n",
       "    <tr>\n",
       "      <th>9</th>\n",
       "      <td>2012</td>\n",
       "      <td>1380921942</td>\n",
       "      <td>10992141616</td>\n",
       "      <td>12649244986</td>\n",
       "      <td>7.96</td>\n",
       "    </tr>\n",
       "    <tr>\n",
       "      <th>10</th>\n",
       "      <td>2011</td>\n",
       "      <td>1282915168</td>\n",
       "      <td>10173519704</td>\n",
       "      <td>11751502955</td>\n",
       "      <td>7.93</td>\n",
       "    </tr>\n",
       "    <tr>\n",
       "      <th>11</th>\n",
       "      <td>2010</td>\n",
       "      <td>1328549021</td>\n",
       "      <td>10482254025</td>\n",
       "      <td>12169509032</td>\n",
       "      <td>7.89</td>\n",
       "    </tr>\n",
       "    <tr>\n",
       "      <th>12</th>\n",
       "      <td>2009</td>\n",
       "      <td>1418567388</td>\n",
       "      <td>10639257284</td>\n",
       "      <td>12994051137</td>\n",
       "      <td>7.50</td>\n",
       "    </tr>\n",
       "    <tr>\n",
       "      <th>13</th>\n",
       "      <td>2008</td>\n",
       "      <td>1358042073</td>\n",
       "      <td>9750744148</td>\n",
       "      <td>12439665380</td>\n",
       "      <td>7.18</td>\n",
       "    </tr>\n",
       "    <tr>\n",
       "      <th>14</th>\n",
       "      <td>2007</td>\n",
       "      <td>1420036680</td>\n",
       "      <td>9769854914</td>\n",
       "      <td>13007535993</td>\n",
       "      <td>6.88</td>\n",
       "    </tr>\n",
       "    <tr>\n",
       "      <th>15</th>\n",
       "      <td>2006</td>\n",
       "      <td>1398738283</td>\n",
       "      <td>9161738221</td>\n",
       "      <td>12812442671</td>\n",
       "      <td>6.55</td>\n",
       "    </tr>\n",
       "    <tr>\n",
       "      <th>16</th>\n",
       "      <td>2005</td>\n",
       "      <td>1372980280</td>\n",
       "      <td>8800805718</td>\n",
       "      <td>12576499367</td>\n",
       "      <td>6.41</td>\n",
       "    </tr>\n",
       "    <tr>\n",
       "      <th>17</th>\n",
       "      <td>2004</td>\n",
       "      <td>1495651298</td>\n",
       "      <td>9287996519</td>\n",
       "      <td>13700165883</td>\n",
       "      <td>6.21</td>\n",
       "    </tr>\n",
       "    <tr>\n",
       "      <th>18</th>\n",
       "      <td>2003</td>\n",
       "      <td>1524589620</td>\n",
       "      <td>9193277289</td>\n",
       "      <td>13965240914</td>\n",
       "      <td>6.03</td>\n",
       "    </tr>\n",
       "    <tr>\n",
       "      <th>19</th>\n",
       "      <td>2002</td>\n",
       "      <td>1575756527</td>\n",
       "      <td>9155147215</td>\n",
       "      <td>14433929789</td>\n",
       "      <td>5.81</td>\n",
       "    </tr>\n",
       "    <tr>\n",
       "      <th>20</th>\n",
       "      <td>2001</td>\n",
       "      <td>1465874205</td>\n",
       "      <td>8296849636</td>\n",
       "      <td>13427407722</td>\n",
       "      <td>5.66</td>\n",
       "    </tr>\n",
       "    <tr>\n",
       "      <th>21</th>\n",
       "      <td>2000</td>\n",
       "      <td>1397460079</td>\n",
       "      <td>7532311479</td>\n",
       "      <td>12800734319</td>\n",
       "      <td>5.39</td>\n",
       "    </tr>\n",
       "    <tr>\n",
       "      <th>22</th>\n",
       "      <td>1999</td>\n",
       "      <td>1444664086</td>\n",
       "      <td>7338894852</td>\n",
       "      <td>13233123027</td>\n",
       "      <td>5.08</td>\n",
       "    </tr>\n",
       "    <tr>\n",
       "      <th>23</th>\n",
       "      <td>1998</td>\n",
       "      <td>1443832471</td>\n",
       "      <td>6771575283</td>\n",
       "      <td>13225505439</td>\n",
       "      <td>4.69</td>\n",
       "    </tr>\n",
       "    <tr>\n",
       "      <th>24</th>\n",
       "      <td>1997</td>\n",
       "      <td>1357349648</td>\n",
       "      <td>6230235770</td>\n",
       "      <td>12433322785</td>\n",
       "      <td>4.59</td>\n",
       "    </tr>\n",
       "    <tr>\n",
       "      <th>25</th>\n",
       "      <td>1996</td>\n",
       "      <td>1305221290</td>\n",
       "      <td>5769078886</td>\n",
       "      <td>11955781912</td>\n",
       "      <td>4.42</td>\n",
       "    </tr>\n",
       "    <tr>\n",
       "      <th>26</th>\n",
       "      <td>1995</td>\n",
       "      <td>1221705907</td>\n",
       "      <td>5314421390</td>\n",
       "      <td>11190826105</td>\n",
       "      <td>4.35</td>\n",
       "    </tr>\n",
       "  </tbody>\n",
       "</table>\n",
       "</div>"
      ],
      "text/plain": [
       "    YEAR TICKETS SOLD TOTAL BOX OFFICE TOTAL INFLATION ADJUSTED BOX OFFICE  \\\n",
       "0   2021    423774881       3881777912                          3881777912   \n",
       "1   2020    223638958       2048534616                          2048534616   \n",
       "2   2019   1228541629      11253443955                         11253444050   \n",
       "3   2018   1311536128      11948096650                         12013670952   \n",
       "4   2017   1225639761      10993991460                         11226860216   \n",
       "5   2016   1302556378      11267115924                         11931416424   \n",
       "6   2015   1323356776      11155900636                         12121948075   \n",
       "7   2014   1257402920      10272985008                         11517810744   \n",
       "8   2013   1339168926      10887446341                         12266787382   \n",
       "9   2012   1380921942      10992141616                         12649244986   \n",
       "10  2011   1282915168      10173519704                         11751502955   \n",
       "11  2010   1328549021      10482254025                         12169509032   \n",
       "12  2009   1418567388      10639257284                         12994051137   \n",
       "13  2008   1358042073       9750744148                         12439665380   \n",
       "14  2007   1420036680       9769854914                         13007535993   \n",
       "15  2006   1398738283       9161738221                         12812442671   \n",
       "16  2005   1372980280       8800805718                         12576499367   \n",
       "17  2004   1495651298       9287996519                         13700165883   \n",
       "18  2003   1524589620       9193277289                         13965240914   \n",
       "19  2002   1575756527       9155147215                         14433929789   \n",
       "20  2001   1465874205       8296849636                         13427407722   \n",
       "21  2000   1397460079       7532311479                         12800734319   \n",
       "22  1999   1444664086       7338894852                         13233123027   \n",
       "23  1998   1443832471       6771575283                         13225505439   \n",
       "24  1997   1357349648       6230235770                         12433322785   \n",
       "25  1996   1305221290       5769078886                         11955781912   \n",
       "26  1995   1221705907       5314421390                         11190826105   \n",
       "\n",
       "   AVERAGE TICKET PRICE  \n",
       "0                  9.16  \n",
       "1                  9.16  \n",
       "2                  9.16  \n",
       "3                  9.11  \n",
       "4                  8.97  \n",
       "5                  8.65  \n",
       "6                  8.43  \n",
       "7                  8.17  \n",
       "8                  8.13  \n",
       "9                  7.96  \n",
       "10                 7.93  \n",
       "11                 7.89  \n",
       "12                 7.50  \n",
       "13                 7.18  \n",
       "14                 6.88  \n",
       "15                 6.55  \n",
       "16                 6.41  \n",
       "17                 6.21  \n",
       "18                 6.03  \n",
       "19                 5.81  \n",
       "20                 5.66  \n",
       "21                 5.39  \n",
       "22                 5.08  \n",
       "23                 4.69  \n",
       "24                 4.59  \n",
       "25                 4.42  \n",
       "26                 4.35  "
      ]
     },
     "execution_count": 9,
     "metadata": {},
     "output_type": "execute_result"
    }
   ],
   "source": [
    "AnnualTicketSales"
   ]
  },
  {
   "cell_type": "markdown",
   "id": "59151c03-1149-4122-97ee-6c830142a231",
   "metadata": {},
   "source": [
    "At this point I decided to use pairplot  to see how the data would plot for me - I was concerned that because all the data types outside of the YEAR column was object I had a feeling this wouldnt work and as you can see below this time my feeling was correct - I may be pretty new to programming but I know that is not how pairplot from seaborn is supposed to look.  "
   ]
  },
  {
   "cell_type": "code",
   "execution_count": 10,
   "id": "83a9ceed-bc3c-411c-8c44-9d56e491669b",
   "metadata": {},
   "outputs": [
    {
     "data": {
      "text/plain": [
       "<seaborn.axisgrid.PairGrid at 0x26713c0a430>"
      ]
     },
     "execution_count": 10,
     "metadata": {},
     "output_type": "execute_result"
    },
    {
     "data": {
      "image/png": "[encoded data removed]",
      "text/plain": [
       "<Figure size 180x180 with 2 Axes>"
      ]
     },
     "metadata": {
      "needs_background": "light"
     },
     "output_type": "display_data"
    }
   ],
   "source": [
    "#peek at the data - test\n",
    "sns.pairplot(AnnualTicketSales)"
   ]
  },
  {
   "cell_type": "markdown",
   "id": "37477baa-a131-4433-991e-abbdc44a64c7",
   "metadata": {},
   "source": [
    "At this point I ran into some problems with manipulating and plotting the data so I changed them to the types that allowed for better analysis,"
   ]
  },
  {
   "cell_type": "code",
   "execution_count": 11,
   "id": "b0fde8fc-300d-44f8-ad35-4fa91fb1cbb9",
   "metadata": {},
   "outputs": [],
   "source": [
    "# Changing data types for easier analysis\n",
    "AnnualTicketSales = AnnualTicketSales.astype({\"TICKETS SOLD\": ('int64'), \n",
    "                                              \"TOTAL BOX OFFICE\": ('int64'),\n",
    "                                              \"TOTAL INFLATION ADJUSTED BOX OFFICE\": ('int64'), \n",
    "                                              \"AVERAGE TICKET PRICE\": float})"
   ]
  },
  {
   "cell_type": "code",
   "execution_count": 12,
   "id": "8a2e8249-7d18-4d92-b4ac-bb3080834461",
   "metadata": {},
   "outputs": [
    {
     "data": {
      "text/plain": [
       "YEAR                                     int64\n",
       "TICKETS SOLD                             int64\n",
       "TOTAL BOX OFFICE                         int64\n",
       "TOTAL INFLATION ADJUSTED BOX OFFICE      int64\n",
       "AVERAGE TICKET PRICE                   float64\n",
       "dtype: object"
      ]
     },
     "execution_count": 12,
     "metadata": {},
     "output_type": "execute_result"
    }
   ],
   "source": [
    "# Check to see data has changed\n",
    "AnnualTicketSales.dtypes"
   ]
  },
  {
   "cell_type": "code",
   "execution_count": 13,
   "id": "b130b1f3-d362-48b9-837d-cd89f54090f8",
   "metadata": {},
   "outputs": [
    {
     "data": {
      "text/html": [
       "<div>\n",
       "<style scoped>\n",
       "    .dataframe tbody tr th:only-of-type {\n",
       "        vertical-align: middle;\n",
       "    }\n",
       "\n",
       "    .dataframe tbody tr th {\n",
       "        vertical-align: top;\n",
       "    }\n",
       "\n",
       "    .dataframe thead th {\n",
       "        text-align: right;\n",
       "    }\n",
       "</style>\n",
       "<table border=\"1\" class=\"dataframe\">\n",
       "  <thead>\n",
       "    <tr style=\"text-align: right;\">\n",
       "      <th></th>\n",
       "      <th>YEAR</th>\n",
       "      <th>TICKETS SOLD</th>\n",
       "      <th>TOTAL BOX OFFICE</th>\n",
       "      <th>TOTAL INFLATION ADJUSTED BOX OFFICE</th>\n",
       "      <th>AVERAGE TICKET PRICE</th>\n",
       "    </tr>\n",
       "  </thead>\n",
       "  <tbody>\n",
       "    <tr>\n",
       "      <th>22</th>\n",
       "      <td>1999</td>\n",
       "      <td>1444664086</td>\n",
       "      <td>7338894852</td>\n",
       "      <td>13233123027</td>\n",
       "      <td>5.08</td>\n",
       "    </tr>\n",
       "    <tr>\n",
       "      <th>23</th>\n",
       "      <td>1998</td>\n",
       "      <td>1443832471</td>\n",
       "      <td>6771575283</td>\n",
       "      <td>13225505439</td>\n",
       "      <td>4.69</td>\n",
       "    </tr>\n",
       "    <tr>\n",
       "      <th>24</th>\n",
       "      <td>1997</td>\n",
       "      <td>1357349648</td>\n",
       "      <td>6230235770</td>\n",
       "      <td>12433322785</td>\n",
       "      <td>4.59</td>\n",
       "    </tr>\n",
       "    <tr>\n",
       "      <th>25</th>\n",
       "      <td>1996</td>\n",
       "      <td>1305221290</td>\n",
       "      <td>5769078886</td>\n",
       "      <td>11955781912</td>\n",
       "      <td>4.42</td>\n",
       "    </tr>\n",
       "    <tr>\n",
       "      <th>26</th>\n",
       "      <td>1995</td>\n",
       "      <td>1221705907</td>\n",
       "      <td>5314421390</td>\n",
       "      <td>11190826105</td>\n",
       "      <td>4.35</td>\n",
       "    </tr>\n",
       "  </tbody>\n",
       "</table>\n",
       "</div>"
      ],
      "text/plain": [
       "    YEAR  TICKETS SOLD  TOTAL BOX OFFICE  TOTAL INFLATION ADJUSTED BOX OFFICE  \\\n",
       "22  1999    1444664086        7338894852                          13233123027   \n",
       "23  1998    1443832471        6771575283                          13225505439   \n",
       "24  1997    1357349648        6230235770                          12433322785   \n",
       "25  1996    1305221290        5769078886                          11955781912   \n",
       "26  1995    1221705907        5314421390                          11190826105   \n",
       "\n",
       "    AVERAGE TICKET PRICE  \n",
       "22                  5.08  \n",
       "23                  4.69  \n",
       "24                  4.59  \n",
       "25                  4.42  \n",
       "26                  4.35  "
      ]
     },
     "execution_count": 13,
     "metadata": {},
     "output_type": "execute_result"
    }
   ],
   "source": [
    "# Spot Check to see if changes effected the data in any other way than intended\n",
    "AnnualTicketSales.tail()"
   ]
  },
  {
   "cell_type": "markdown",
   "id": "2eb20429-bfdc-43a8-bbee-25cf7fd6326f",
   "metadata": {},
   "source": [
    "Because I have now removed what currency the box office intake, adjusted intake and avrage ticket price  are using I added the symbol to the column header for clarity "
   ]
  },
  {
   "cell_type": "code",
   "execution_count": 14,
   "id": "6e5292f4-f6cc-41ed-bd9e-d9853421f149",
   "metadata": {},
   "outputs": [],
   "source": [
    "AnnualTicketSales = AnnualTicketSales.rename(columns={'TOTAL BOX OFFICE':'TOT BOX OFFICE($)','TOTAL INFLATION ADJUSTED BOX OFFICE': 'TOT INFLATION ADJ BOX OFFICE($)', 'AVERAGE TICKET PRICE': 'AVE TICKET PRICE($)'})"
   ]
  },
  {
   "cell_type": "code",
   "execution_count": 15,
   "id": "14e32ef2-4cf9-4d7c-8ea0-e249a10aee5b",
   "metadata": {},
   "outputs": [
    {
     "data": {
      "text/html": [
       "<div>\n",
       "<style scoped>\n",
       "    .dataframe tbody tr th:only-of-type {\n",
       "        vertical-align: middle;\n",
       "    }\n",
       "\n",
       "    .dataframe tbody tr th {\n",
       "        vertical-align: top;\n",
       "    }\n",
       "\n",
       "    .dataframe thead th {\n",
       "        text-align: right;\n",
       "    }\n",
       "</style>\n",
       "<table border=\"1\" class=\"dataframe\">\n",
       "  <thead>\n",
       "    <tr style=\"text-align: right;\">\n",
       "      <th></th>\n",
       "      <th>YEAR</th>\n",
       "      <th>TICKETS SOLD</th>\n",
       "      <th>TOT BOX OFFICE($)</th>\n",
       "      <th>TOT INFLATION ADJ BOX OFFICE($)</th>\n",
       "      <th>AVE TICKET PRICE($)</th>\n",
       "    </tr>\n",
       "  </thead>\n",
       "  <tbody>\n",
       "    <tr>\n",
       "      <th>0</th>\n",
       "      <td>2021</td>\n",
       "      <td>423774881</td>\n",
       "      <td>3881777912</td>\n",
       "      <td>3881777912</td>\n",
       "      <td>9.16</td>\n",
       "    </tr>\n",
       "    <tr>\n",
       "      <th>1</th>\n",
       "      <td>2020</td>\n",
       "      <td>223638958</td>\n",
       "      <td>2048534616</td>\n",
       "      <td>2048534616</td>\n",
       "      <td>9.16</td>\n",
       "    </tr>\n",
       "    <tr>\n",
       "      <th>2</th>\n",
       "      <td>2019</td>\n",
       "      <td>1228541629</td>\n",
       "      <td>11253443955</td>\n",
       "      <td>11253444050</td>\n",
       "      <td>9.16</td>\n",
       "    </tr>\n",
       "    <tr>\n",
       "      <th>3</th>\n",
       "      <td>2018</td>\n",
       "      <td>1311536128</td>\n",
       "      <td>11948096650</td>\n",
       "      <td>12013670952</td>\n",
       "      <td>9.11</td>\n",
       "    </tr>\n",
       "    <tr>\n",
       "      <th>4</th>\n",
       "      <td>2017</td>\n",
       "      <td>1225639761</td>\n",
       "      <td>10993991460</td>\n",
       "      <td>11226860216</td>\n",
       "      <td>8.97</td>\n",
       "    </tr>\n",
       "  </tbody>\n",
       "</table>\n",
       "</div>"
      ],
      "text/plain": [
       "   YEAR  TICKETS SOLD  TOT BOX OFFICE($)  TOT INFLATION ADJ BOX OFFICE($)  \\\n",
       "0  2021     423774881         3881777912                       3881777912   \n",
       "1  2020     223638958         2048534616                       2048534616   \n",
       "2  2019    1228541629        11253443955                      11253444050   \n",
       "3  2018    1311536128        11948096650                      12013670952   \n",
       "4  2017    1225639761        10993991460                      11226860216   \n",
       "\n",
       "   AVE TICKET PRICE($)  \n",
       "0                 9.16  \n",
       "1                 9.16  \n",
       "2                 9.16  \n",
       "3                 9.11  \n",
       "4                 8.97  "
      ]
     },
     "execution_count": 15,
     "metadata": {},
     "output_type": "execute_result"
    }
   ],
   "source": [
    "# Check to see changes took\n",
    "AnnualTicketSales.head()"
   ]
  },
  {
   "cell_type": "code",
   "execution_count": 16,
   "id": "86c5634b-3b94-41f5-a079-e60ad94034b7",
   "metadata": {},
   "outputs": [],
   "source": [
    "#Spot check\n",
    "#AnnualTicketSales.to_csv('AnnualTicketSales_Clean.csv')"
   ]
  },
  {
   "cell_type": "markdown",
   "id": "1dd96134-50bb-4db0-8055-5ce3f40557e0",
   "metadata": {},
   "source": [
    "<a id='Ana'></a>\n",
    "### Beginning my analysis\n",
    "I now have the original data in the way I think will be best so I can investigate the types of variables involved, their likely distributions, and their relationships with each other.\n",
    "I will study their distributions by looking at descriptive statistics and generating relevent plots to the data. I will explore relationships that may exist between the variables using visualisations such as scatterplot and pairplots, and statistics such as correlation and covariance statistics.\n",
    "\n",
    "With this information in mind, I will try to create a simulated dataset that is as close to the real world phenomenon as possible."
   ]
  },
  {
   "cell_type": "markdown",
   "id": "d2b69327-d325-4447-bfd1-a405bdb88c7a",
   "metadata": {
    "tags": []
   },
   "source": [
    "##### First Plot\n",
    "\n",
    "The first plot I like to do on a dataset is usually the pairplot from seaborn.  \n",
    "As you can see below it is really simple to generate(once you have the correct datatypes).  \n",
    "It also gives a very good indication of how each of the variables relate to the others and can give a high level overview of them as an standalone variable(histograms) and how they correlate with each of the other variables"
   ]
  },
  {
   "cell_type": "code",
   "execution_count": 62,
   "id": "4043afa4-57ee-4e3a-94cd-e16b04518a8b",
   "metadata": {},
   "outputs": [
    {
     "data": {
      "text/plain": [
       "<seaborn.axisgrid.PairGrid at 0x2671670a4f0>"
      ]
     },
     "execution_count": 62,
     "metadata": {},
     "output_type": "execute_result"
    },
    {
     "data": {
      "image/png": "[encoded data removed]",
      "text/plain": [
       "<Figure size 900x900 with 30 Axes>"
      ]
     },
     "metadata": {
      "needs_background": "light"
     },
     "output_type": "display_data"
    }
   ],
   "source": [
    "#peek at the data \n",
    "sns.pairplot(AnnualTicketSales)"
   ]
  },
  {
   "cell_type": "markdown",
   "id": "0c072125-6c50-41d7-a2f5-44edde6cbd16",
   "metadata": {},
   "source": [
    "Once again some things stand out immediatly:  \n",
    "Firstly 3 of columns were hugely impacted by covid - the columns that had the data that was related to annual attendance and annual financial intake data. You can see immediatly that any of the plots that are using the data from the TICKETS SOLD, TOT BOX OFFICE and TOT INFLATION ADJ BOX OFFICE all seem to have two datapoints that are outside the normal trends, at a glance and uneducated guess, this is probably covid related.  \n",
    "Secondly the one trend that seems to go up no matter what is the avrage ticket price (suprise suprise!!!)  \n",
    "Finally one thing I noticed (because I was looking for it) is that the scatter plot that plots out the datapoints for YEAR and TICKETS SOLD(second from the top on the left) seems to indicate that the amount of tickets sold did seem to be trending downwards before the pandemic began, but not at the same rate of course.\n",
    "\n",
    "A pairplot is good for a high level overview but readability is not great so to see the detail I really need to see some of this data plotted individually."
   ]
  },
  {
   "cell_type": "markdown",
   "id": "d642721a-2292-40de-bcf0-3e3f254251e8",
   "metadata": {},
   "source": [
    "##### AVERAGE TICKET PRICE - Analysis\n",
    "The first attribute I decided to analyse was the one that was easiest for me. A simple barchart that shows me the the avrage ticket price each year from 1995-2021.\n",
    "First I used the describe funtion to show me some information about the data such as the (count, mean, min, max and standard deviation). This data is not too relevent here but I like to have it as an addendum to alot of my plots as it can sometimes higlight somthing that the plot may not visualise.\n",
    "The one bit of information I do get from this that did not jump out to me when looking at the bar chart was the standard diviation is 1.62. That seemed a little high to me since the varience was so small between the years - however when I thought about it, looked at the numbers and refreshed myself on the math behind standard diviation it began to make more sense. This could be important when I am synthesising this information may be useful. \n"
   ]
  },
  {
   "cell_type": "code",
   "execution_count": 18,
   "id": "d0ffd6e2-a94f-4f8e-a1c5-a994798faa0d",
   "metadata": {},
   "outputs": [
    {
     "data": {
      "text/plain": [
       "count    27.000000\n",
       "mean      7.017407\n",
       "std       1.629525\n",
       "min       4.350000\n",
       "25%       5.735000\n",
       "50%       7.180000\n",
       "75%       8.300000\n",
       "max       9.160000\n",
       "Name: AVE TICKET PRICE($), dtype: float64"
      ]
     },
     "execution_count": 18,
     "metadata": {},
     "output_type": "execute_result"
    }
   ],
   "source": [
    "AnnualTicketSales['AVE TICKET PRICE($)'].describe()"
   ]
  },
  {
   "cell_type": "markdown",
   "id": "ba16b0c9-5c88-48e8-b127-01bdc713150b",
   "metadata": {},
   "source": [
    "##### The Bar Chart"
   ]
  },
  {
   "cell_type": "code",
   "execution_count": 19,
   "id": "7ed6cf90-efae-4240-9742-5156dabe01fc",
   "metadata": {},
   "outputs": [
    {
     "data": {
      "text/plain": [
       "<BarContainer object of 27 artists>"
      ]
     },
     "execution_count": 19,
     "metadata": {},
     "output_type": "execute_result"
    },
    {
     "data": {
      "image/png": "[encoded data removed]",
      "text/plain": [
       "<Figure size 1152x720 with 1 Axes>"
      ]
     },
     "metadata": {
      "needs_background": "light"
     },
     "output_type": "display_data"
    }
   ],
   "source": [
    "# Set the figure size\n",
    "plt.figure(figsize = (16,10))\n",
    "\n",
    "# putting data into variable\n",
    "x = AnnualTicketSales['YEAR']\n",
    "y = AnnualTicketSales['AVE TICKET PRICE($)']\n",
    "\n",
    "# Adds title\n",
    "plt.title(\"Bar Chart to show increase in Average Price of Movie Tickets \")\n",
    "# Adds label for the x-axis\n",
    "plt.xlabel(\"Year\")\n",
    "# Adds label for the y-axis\n",
    "plt.ylabel(\"Ave Ticket Price($)\")\n",
    "\n",
    "# Add labels for each Year on x-axis\n",
    "plt.xticks(x, rotation = 45)\n",
    "\n",
    "plt.bar(x,y)"
   ]
  },
  {
   "cell_type": "markdown",
   "id": "253a5add-7fc2-4a88-907a-06e25cd2b742",
   "metadata": {},
   "source": [
    "##### Distribution I will use\n",
    "\n",
    "From this I now have to find a way to synthesise the data to reflect a similar trend/distribution. My first thought is to just use something like uniform distribution within the of this graph and sort the values from low to high. I could also is to use something like ```random.triangular``` where I could use the mean and the standard diviation as inputs and sort them then from high to low to represent the increase or ```random.exponential``` where if independent events are to occur per unit of time, the exponential distribution describes the time intervals between successive events.  \n",
    "However I think it would be better for me to do my analysis on the rest of the original dataset incase there are any corrolations that I may have missed."
   ]
  },
  {
   "cell_type": "markdown",
   "id": "6411473c-31fd-42a4-b3ef-184b502cda3f",
   "metadata": {},
   "source": [
    "##### TICKETS SOLD - Analysis"
   ]
  },
  {
   "cell_type": "code",
   "execution_count": 20,
   "id": "cb3675b8-db12-4369-a505-ad874be25f13",
   "metadata": {},
   "outputs": [
    {
     "data": {
      "text/plain": [
       "<matplotlib.legend.Legend at 0x2671658e040>"
      ]
     },
     "execution_count": 20,
     "metadata": {},
     "output_type": "execute_result"
    },
    {
     "data": {
      "image/png": "[encoded data removed]",
      "text/plain": [
       "<Figure size 864x576 with 1 Axes>"
      ]
     },
     "metadata": {
      "needs_background": "light"
     },
     "output_type": "display_data"
    }
   ],
   "source": [
    "# Plotting data\n",
    "year = AnnualTicketSales['YEAR']\n",
    "tickets_sold = AnnualTicketSales['AVE TICKET PRICE($)']\n",
    "\n",
    "# Bar chart to show the ticket sales every year since 1995\n",
    "plt.figure(figsize = (12, 8))\n",
    "plt.bar(year,tickets_sold, label ='Tickets sold') \n",
    "\n",
    "plt.title('Movie ticket sales every year since 1995')\n",
    "plt.legend()"
   ]
  },
  {
   "cell_type": "markdown",
   "id": "af9fabe7-fe65-4ffa-8d9f-5922aa563bf5",
   "metadata": {},
   "source": [
    "##### TOTAL BOX OFFICE and TOT INFLATION ADJ BOX OFFICE - Analysis"
   ]
  },
  {
   "cell_type": "markdown",
   "id": "9e520861-6102-49b8-977c-2b942c0ee5f7",
   "metadata": {},
   "source": [
    "Next I am going to generate a simple line plot with the data for the TOTAL BOX OFFICE and TOT INFLATION ADJ BOX OFFICE plotted on the same axis to see how they trend over time.  \n",
    "Once again I will begin with a describe function on each of the attributes - however because the numbers are so big they are being visualised in scientific notation - that doesnt help me much so I am going to allow only 3 decimal places using the ```pd.set_option``` function and I can reset afterward."
   ]
  },
  {
   "cell_type": "code",
   "execution_count": 21,
   "id": "d24fa8bd-063b-4bf3-8c7b-9542b3353870",
   "metadata": {},
   "outputs": [],
   "source": [
    "# Supress scientific notation\n",
    "pd.set_option('display.float_format', lambda x: '%.3f' % x)"
   ]
  },
  {
   "cell_type": "code",
   "execution_count": 22,
   "id": "89562b8f-93a0-44a1-9037-ba34a09670f4",
   "metadata": {},
   "outputs": [
    {
     "data": {
      "text/plain": [
       "count            27.000\n",
       "mean     8828496164.852\n",
       "std      2481508412.112\n",
       "min      2048534616.000\n",
       "25%      7435603165.500\n",
       "50%      9287996519.000\n",
       "75%     10763351812.500\n",
       "max     11948096650.000\n",
       "Name: TOT BOX OFFICE($), dtype: float64"
      ]
     },
     "execution_count": 22,
     "metadata": {},
     "output_type": "execute_result"
    }
   ],
   "source": [
    "AnnualTicketSales['TOT BOX OFFICE($)'].describe()"
   ]
  },
  {
   "cell_type": "code",
   "execution_count": 23,
   "id": "e1fa248d-52c7-43d2-a783-98a8d0725df4",
   "metadata": {},
   "outputs": [
    {
     "data": {
      "text/plain": [
       "count            27.000\n",
       "mean    11815879251.370\n",
       "std      2692037877.531\n",
       "min      2048534616.000\n",
       "25%     11841459689.500\n",
       "50%     12433322785.000\n",
       "75%     13000793565.000\n",
       "max     14433929789.000\n",
       "Name: TOT INFLATION ADJ BOX OFFICE($), dtype: float64"
      ]
     },
     "execution_count": 23,
     "metadata": {},
     "output_type": "execute_result"
    }
   ],
   "source": [
    "AnnualTicketSales['TOT INFLATION ADJ BOX OFFICE($)'].describe()"
   ]
  },
  {
   "cell_type": "markdown",
   "id": "077cbba0-6a92-4375-9969-989952a8ab44",
   "metadata": {},
   "source": [
    "The descibe function didnt really tell me much information of interest here for the moment. Again I picked gathered some good data that may come in useful for data simulation later in the notebook. However one thing that did stand out was the min values were the same - at a guess this is because of the massive decline in the cinema industries financial intake due to covid-19 over the 2020 and 2021 years.  \n",
    "I am now going to look at the graph to analyse further."
   ]
  },
  {
   "cell_type": "code",
   "execution_count": 24,
   "id": "eef8ac83-af6a-45ed-8a3f-cf3cb5d8fc9a",
   "metadata": {},
   "outputs": [
    {
     "data": {
      "text/plain": [
       "<matplotlib.legend.Legend at 0x26716624c70>"
      ]
     },
     "execution_count": 24,
     "metadata": {},
     "output_type": "execute_result"
    },
    {
     "data": {
      "image/png": "[encoded data removed]",
      "text/plain": [
       "<Figure size 1440x864 with 1 Axes>"
      ]
     },
     "metadata": {
      "needs_background": "light"
     },
     "output_type": "display_data"
    }
   ],
   "source": [
    "# Set the figure size\n",
    "plt.figure(figsize = (20,12))\n",
    "\n",
    "# putting data into variable\n",
    "x = AnnualTicketSales['YEAR']\n",
    "y1 = AnnualTicketSales['TOT BOX OFFICE($)']\n",
    "y2 = AnnualTicketSales['TOT INFLATION ADJ BOX OFFICE($)']\n",
    "\n",
    "# Adds a grid\n",
    "plt.grid(True)\n",
    "\n",
    "# Adds a title\n",
    "plt.title(\"Annual Box Office Intake and Intake Adjusted for Inflation\")\n",
    "\n",
    "\n",
    "# Generates plot\n",
    "plt.plot(x,y1, label ='TOTAL BOX OFFICE') \n",
    "plt.plot(x,y2, label ='TOT INFLATION ADJ BOX OFFICE')\n",
    "\n",
    "# Adds a legend\n",
    "plt.legend()"
   ]
  },
  {
   "cell_type": "markdown",
   "id": "3e776338-9b13-4a42-9f3f-80a892c8a467",
   "metadata": {},
   "source": [
    "Looking at the graph you can see my guess was correct - because of Covid-19 and the huge decline in 2020 we can see the min data point is the same for both the TOT BOX OFFICE and TOT INFLATION ADJ BOX OFFICE. However from the graph I can see that the way the TOT INFLATION ADJ BOX OFFICE line is trending, if we went back another 20-30 years the min data point for that attribute would probably fall even below that - this is something I could try to simulate later.  \n",
    "Also from the graph although the two lines were always going to meet eventually as I am using the same years - I was a little surprised at how the TOT BOX OFFICE line was straighening out and the TOT INFLATION ADJ BOX OFFICE plotted line was beginning to come down at a steeper angle at least a decade(around 2008-2010) before the pamdemic was even thought of - could the advent of streaming platforms and the improvment of home entertainment technology be the factors that lead to this decline or is normal after a previous decade of growth? "
   ]
  },
  {
   "cell_type": "markdown",
   "id": "4eb7b831-ce88-41a8-b868-40a1e8562aa1",
   "metadata": {},
   "source": [
    "### Describing each Column"
   ]
  },
  {
   "cell_type": "code",
   "execution_count": 25,
   "id": "fc3b1938-4c25-429a-bf0d-628abc9a2c37",
   "metadata": {},
   "outputs": [
    {
     "data": {
      "text/plain": [
       "YEAR                                 int64\n",
       "TICKETS SOLD                         int64\n",
       "TOT BOX OFFICE($)                    int64\n",
       "TOT INFLATION ADJ BOX OFFICE($)      int64\n",
       "AVE TICKET PRICE($)                float64\n",
       "dtype: object"
      ]
     },
     "execution_count": 25,
     "metadata": {},
     "output_type": "execute_result"
    }
   ],
   "source": [
    "AnnualTicketSales.dtypes"
   ]
  },
  {
   "cell_type": "code",
   "execution_count": 26,
   "id": "a15590d0-0a79-4bdb-8200-8eefdc4168f8",
   "metadata": {},
   "outputs": [
    {
     "data": {
      "text/html": [
       "<div>\n",
       "<style scoped>\n",
       "    .dataframe tbody tr th:only-of-type {\n",
       "        vertical-align: middle;\n",
       "    }\n",
       "\n",
       "    .dataframe tbody tr th {\n",
       "        vertical-align: top;\n",
       "    }\n",
       "\n",
       "    .dataframe thead th {\n",
       "        text-align: right;\n",
       "    }\n",
       "</style>\n",
       "<table border=\"1\" class=\"dataframe\">\n",
       "  <thead>\n",
       "    <tr style=\"text-align: right;\">\n",
       "      <th></th>\n",
       "      <th>YEAR</th>\n",
       "      <th>TICKETS SOLD</th>\n",
       "      <th>TOT BOX OFFICE($)</th>\n",
       "      <th>TOT INFLATION ADJ BOX OFFICE($)</th>\n",
       "      <th>AVE TICKET PRICE($)</th>\n",
       "    </tr>\n",
       "  </thead>\n",
       "  <tbody>\n",
       "    <tr>\n",
       "      <th>count</th>\n",
       "      <td>27.000</td>\n",
       "      <td>27.000</td>\n",
       "      <td>27.000</td>\n",
       "      <td>27.000</td>\n",
       "      <td>27.000</td>\n",
       "    </tr>\n",
       "    <tr>\n",
       "      <th>mean</th>\n",
       "      <td>2008.000</td>\n",
       "      <td>1289943419.370</td>\n",
       "      <td>8828496164.852</td>\n",
       "      <td>11815879251.370</td>\n",
       "      <td>7.017</td>\n",
       "    </tr>\n",
       "    <tr>\n",
       "      <th>std</th>\n",
       "      <td>7.937</td>\n",
       "      <td>293890685.092</td>\n",
       "      <td>2481508412.112</td>\n",
       "      <td>2692037877.531</td>\n",
       "      <td>1.630</td>\n",
       "    </tr>\n",
       "    <tr>\n",
       "      <th>min</th>\n",
       "      <td>1995.000</td>\n",
       "      <td>223638958.000</td>\n",
       "      <td>2048534616.000</td>\n",
       "      <td>2048534616.000</td>\n",
       "      <td>4.350</td>\n",
       "    </tr>\n",
       "    <tr>\n",
       "      <th>25%</th>\n",
       "      <td>2001.500</td>\n",
       "      <td>1292735773.000</td>\n",
       "      <td>7435603165.500</td>\n",
       "      <td>11841459689.500</td>\n",
       "      <td>5.735</td>\n",
       "    </tr>\n",
       "    <tr>\n",
       "      <th>50%</th>\n",
       "      <td>2008.000</td>\n",
       "      <td>1357349648.000</td>\n",
       "      <td>9287996519.000</td>\n",
       "      <td>12433322785.000</td>\n",
       "      <td>7.180</td>\n",
       "    </tr>\n",
       "    <tr>\n",
       "      <th>75%</th>\n",
       "      <td>2014.500</td>\n",
       "      <td>1419302034.000</td>\n",
       "      <td>10763351812.500</td>\n",
       "      <td>13000793565.000</td>\n",
       "      <td>8.300</td>\n",
       "    </tr>\n",
       "    <tr>\n",
       "      <th>max</th>\n",
       "      <td>2021.000</td>\n",
       "      <td>1575756527.000</td>\n",
       "      <td>11948096650.000</td>\n",
       "      <td>14433929789.000</td>\n",
       "      <td>9.160</td>\n",
       "    </tr>\n",
       "  </tbody>\n",
       "</table>\n",
       "</div>"
      ],
      "text/plain": [
       "          YEAR   TICKETS SOLD  TOT BOX OFFICE($)  \\\n",
       "count   27.000         27.000             27.000   \n",
       "mean  2008.000 1289943419.370     8828496164.852   \n",
       "std      7.937  293890685.092     2481508412.112   \n",
       "min   1995.000  223638958.000     2048534616.000   \n",
       "25%   2001.500 1292735773.000     7435603165.500   \n",
       "50%   2008.000 1357349648.000     9287996519.000   \n",
       "75%   2014.500 1419302034.000    10763351812.500   \n",
       "max   2021.000 1575756527.000    11948096650.000   \n",
       "\n",
       "       TOT INFLATION ADJ BOX OFFICE($)  AVE TICKET PRICE($)  \n",
       "count                           27.000               27.000  \n",
       "mean                   11815879251.370                7.017  \n",
       "std                     2692037877.531                1.630  \n",
       "min                     2048534616.000                4.350  \n",
       "25%                    11841459689.500                5.735  \n",
       "50%                    12433322785.000                7.180  \n",
       "75%                    13000793565.000                8.300  \n",
       "max                    14433929789.000                9.160  "
      ]
     },
     "execution_count": 26,
     "metadata": {},
     "output_type": "execute_result"
    }
   ],
   "source": [
    "# Tried to do describe on entire notbook but most of the columns came in with scientific notation\n",
    "AnnualTicketSales.describe()"
   ]
  },
  {
   "cell_type": "markdown",
   "id": "571426fa-2358-4d66-8f26-9e167ba693b7",
   "metadata": {},
   "source": [
    "So now I have analysed the original data I would now try to extrapulate that out over months rather than years."
   ]
  },
  {
   "cell_type": "markdown",
   "id": "ab3e0775-17fb-440d-97d0-ae665249262d",
   "metadata": {},
   "source": [
    "<a id='Recreat'></a>\n",
    "### Recreating the data"
   ]
  },
  {
   "cell_type": "markdown",
   "id": "a2a143b7-7223-41ab-abf7-15620b41ea63",
   "metadata": {},
   "source": [
    "##### Year and Months"
   ]
  },
  {
   "cell_type": "markdown",
   "id": "0f0bf3c6-a945-4d82-87c6-1379892c5f4f",
   "metadata": {},
   "source": [
    "So now I have looked at each element in the original data I must now use the data I have gathered to make the simulated data. I am first going to create my new df and start populating the years and months. "
   ]
  },
  {
   "cell_type": "code",
   "execution_count": 27,
   "id": "35f383eb-5624-42cf-add5-bc82f22e44bc",
   "metadata": {},
   "outputs": [],
   "source": [
    "# Create my new df\n",
    "Sim_MovTicketSales = pd.DataFrame(columns=['YEAR', 'MONTH', 'TICKETS SOLD', 'TOT BOX OFFICE($)',\n",
    "                  'TOT INFLATION ADJ BOX OFFICE($)','AVE TICKET PRICE($)'])"
   ]
  },
  {
   "cell_type": "code",
   "execution_count": 28,
   "id": "2e3ed785-f526-4ec2-8e6b-0608ecd730ed",
   "metadata": {},
   "outputs": [],
   "source": [
    "#List of years\n",
    "YearList =[2021, 2020, 2019, 2018, 2017, 2016, 2015, 2014, 2013,\n",
    "           2012, 2011, 2010, 2009, 2008, 2007, 2006, 2005, 2004,\n",
    "           2003, 2002, 2001, 2000, 1999, 1998, 1997, 1996, 1995] \n",
    "\n",
    "# List of months\n",
    "MonthList = ['January', 'Febuary', 'March', 'April', 'May', 'June', 'July', 'August', 'September',\n",
    "            'October', 'November', 'December']"
   ]
  },
  {
   "cell_type": "code",
   "execution_count": 29,
   "id": "7c774bcf-bc3a-4e92-805e-b5055664faa5",
   "metadata": {},
   "outputs": [],
   "source": [
    "# give me 12 of each year, one for each month\n",
    "AllYearList = YearList * 12\n",
    "AllYearList.sort(reverse = True)\n",
    "#AllYearList"
   ]
  },
  {
   "cell_type": "code",
   "execution_count": 30,
   "id": "0dc9e16d-2607-4e83-a881-fa50a6f19726",
   "metadata": {},
   "outputs": [],
   "source": [
    "# give me 27 of each month, one for each month\n",
    "AllMonthList = MonthList * 27\n",
    "#AllMonthList.sort(reverse = True)\n",
    "AllMonthList = AllMonthList[::-1]"
   ]
  },
  {
   "cell_type": "code",
   "execution_count": 31,
   "id": "9b19d85e-9e27-4169-9bae-59e7ed1023cd",
   "metadata": {},
   "outputs": [],
   "source": [
    "# Add the data generated to my dataframe\n",
    "Sim_MovTicketSales['YEAR'] = AllYearList\n",
    "Sim_MovTicketSales['MONTH'] = AllMonthList"
   ]
  },
  {
   "cell_type": "code",
   "execution_count": 32,
   "id": "d862b433-f094-4cd9-a726-085c7271c071",
   "metadata": {},
   "outputs": [
    {
     "data": {
      "text/html": [
       "<div>\n",
       "<style scoped>\n",
       "    .dataframe tbody tr th:only-of-type {\n",
       "        vertical-align: middle;\n",
       "    }\n",
       "\n",
       "    .dataframe tbody tr th {\n",
       "        vertical-align: top;\n",
       "    }\n",
       "\n",
       "    .dataframe thead th {\n",
       "        text-align: right;\n",
       "    }\n",
       "</style>\n",
       "<table border=\"1\" class=\"dataframe\">\n",
       "  <thead>\n",
       "    <tr style=\"text-align: right;\">\n",
       "      <th></th>\n",
       "      <th>YEAR</th>\n",
       "      <th>MONTH</th>\n",
       "      <th>TICKETS SOLD</th>\n",
       "      <th>TOT BOX OFFICE($)</th>\n",
       "      <th>TOT INFLATION ADJ BOX OFFICE($)</th>\n",
       "      <th>AVE TICKET PRICE($)</th>\n",
       "    </tr>\n",
       "  </thead>\n",
       "  <tbody>\n",
       "    <tr>\n",
       "      <th>0</th>\n",
       "      <td>2021</td>\n",
       "      <td>December</td>\n",
       "      <td>NaN</td>\n",
       "      <td>NaN</td>\n",
       "      <td>NaN</td>\n",
       "      <td>NaN</td>\n",
       "    </tr>\n",
       "    <tr>\n",
       "      <th>1</th>\n",
       "      <td>2021</td>\n",
       "      <td>November</td>\n",
       "      <td>NaN</td>\n",
       "      <td>NaN</td>\n",
       "      <td>NaN</td>\n",
       "      <td>NaN</td>\n",
       "    </tr>\n",
       "    <tr>\n",
       "      <th>2</th>\n",
       "      <td>2021</td>\n",
       "      <td>October</td>\n",
       "      <td>NaN</td>\n",
       "      <td>NaN</td>\n",
       "      <td>NaN</td>\n",
       "      <td>NaN</td>\n",
       "    </tr>\n",
       "    <tr>\n",
       "      <th>3</th>\n",
       "      <td>2021</td>\n",
       "      <td>September</td>\n",
       "      <td>NaN</td>\n",
       "      <td>NaN</td>\n",
       "      <td>NaN</td>\n",
       "      <td>NaN</td>\n",
       "    </tr>\n",
       "    <tr>\n",
       "      <th>4</th>\n",
       "      <td>2021</td>\n",
       "      <td>August</td>\n",
       "      <td>NaN</td>\n",
       "      <td>NaN</td>\n",
       "      <td>NaN</td>\n",
       "      <td>NaN</td>\n",
       "    </tr>\n",
       "  </tbody>\n",
       "</table>\n",
       "</div>"
      ],
      "text/plain": [
       "   YEAR      MONTH TICKETS SOLD TOT BOX OFFICE($)  \\\n",
       "0  2021   December          NaN               NaN   \n",
       "1  2021   November          NaN               NaN   \n",
       "2  2021    October          NaN               NaN   \n",
       "3  2021  September          NaN               NaN   \n",
       "4  2021     August          NaN               NaN   \n",
       "\n",
       "  TOT INFLATION ADJ BOX OFFICE($) AVE TICKET PRICE($)  \n",
       "0                             NaN                 NaN  \n",
       "1                             NaN                 NaN  \n",
       "2                             NaN                 NaN  \n",
       "3                             NaN                 NaN  \n",
       "4                             NaN                 NaN  "
      ]
     },
     "execution_count": 32,
     "metadata": {},
     "output_type": "execute_result"
    }
   ],
   "source": [
    "#Have a look\n",
    "Sim_MovTicketSales.head()"
   ]
  },
  {
   "cell_type": "markdown",
   "id": "f9ac8fd8-c152-4a29-b6b4-9819df33e12a",
   "metadata": {},
   "source": [
    "Months and years have now been input."
   ]
  },
  {
   "cell_type": "markdown",
   "id": "2ade7775-1097-4da1-a092-ecd940f5535f",
   "metadata": {},
   "source": [
    "##### Ticket sales by Month"
   ]
  },
  {
   "cell_type": "markdown",
   "id": "c010f1c0-3a0f-4e41-8521-7abada43e0cf",
   "metadata": {},
   "source": [
    "Now I want to generate the ticket sales by month.  \n",
    "First I am going to get the list of annual ticket sales.  \n",
    "Then I will run that list through a function to give me twelve values that sum the value from the TICKETS SOLD column in the original dataframe.  \n",
    "I will then concatonate each of those values to give me a list of random values, 12 for eah year, that I will plug into my new df(Sim_TicketSales).  \n",
    "I am a bit concerned with the accuracy as there are highs and lows in the cinema calander that are not accounted for here.  \n"
   ]
  },
  {
   "cell_type": "code",
   "execution_count": 33,
   "id": "4393a411-5c21-4d13-902b-41cc3aebaf26",
   "metadata": {},
   "outputs": [
    {
     "data": {
      "text/plain": [
       "0      423774881\n",
       "1      223638958\n",
       "2     1228541629\n",
       "3     1311536128\n",
       "4     1225639761\n",
       "5     1302556378\n",
       "6     1323356776\n",
       "7     1257402920\n",
       "8     1339168926\n",
       "9     1380921942\n",
       "10    1282915168\n",
       "11    1328549021\n",
       "12    1418567388\n",
       "13    1358042073\n",
       "14    1420036680\n",
       "15    1398738283\n",
       "16    1372980280\n",
       "17    1495651298\n",
       "18    1524589620\n",
       "19    1575756527\n",
       "20    1465874205\n",
       "21    1397460079\n",
       "22    1444664086\n",
       "23    1443832471\n",
       "24    1357349648\n",
       "25    1305221290\n",
       "26    1221705907\n",
       "Name: TICKETS SOLD, dtype: int64"
      ]
     },
     "execution_count": 33,
     "metadata": {},
     "output_type": "execute_result"
    }
   ],
   "source": [
    "AnnualTicketSales['TICKETS SOLD']"
   ]
  },
  {
   "cell_type": "code",
   "execution_count": 34,
   "id": "41732a1e-103d-4ab3-89cf-d60341f553f1",
   "metadata": {},
   "outputs": [],
   "source": [
    "# Supress scientific notation\n",
    "pd.set_option('display.float_format', lambda x: '%.3f' % x)"
   ]
  },
  {
   "cell_type": "code",
   "execution_count": 35,
   "id": "febdb5a6-9f31-4964-a111-f06f8547a816",
   "metadata": {},
   "outputs": [],
   "source": [
    "# function to return a random sum of a total \n",
    "def constrained_sum_sample_pos(n, total):\n",
    "    \"\"\"Return a randomly chosen list of n positive integers summing to total.\n",
    "    Each such list is equally likely to occur.\"\"\"\n",
    "\n",
    "    dividers = sorted(random.sample(range(1, total), n - 1))\n",
    "    return [a - b for a, b in zip(dividers + [total], [0] + dividers)]"
   ]
  },
  {
   "cell_type": "code",
   "execution_count": 36,
   "id": "71f75592-0ba3-4a0e-b683-63d87b6c6377",
   "metadata": {},
   "outputs": [],
   "source": [
    "# Put each annual ticke sale through the function\n",
    "twen1 = constrained_sum_sample_pos(12, 423774881)\n",
    "twen0 = constrained_sum_sample_pos(12, 223638958)\n",
    "tninteen = constrained_sum_sample_pos(12, 1228541629)\n",
    "teighteen = constrained_sum_sample_pos(12, 1311536128)\n",
    "tseventeen = constrained_sum_sample_pos(12, 1225639761)\n",
    "tsixteen = constrained_sum_sample_pos(12, 1302556378)\n",
    "tfifteen = constrained_sum_sample_pos(12, 1323356776)\n",
    "tfourteen = constrained_sum_sample_pos(12, 1257402920)\n",
    "tthirteen = constrained_sum_sample_pos(12, 1339168926)\n",
    "ttwv = constrained_sum_sample_pos(12, 1380921942)\n",
    "telev = constrained_sum_sample_pos(12, 1282915168)\n",
    "tten = constrained_sum_sample_pos(12, 1328549021)\n",
    "tnine = constrained_sum_sample_pos(12, 1418567388)\n",
    "teigh = constrained_sum_sample_pos(12, 1358042073)\n",
    "tsev = constrained_sum_sample_pos(12, 1420036680)\n",
    "tsix = constrained_sum_sample_pos(12, 1398738283)\n",
    "tfive = constrained_sum_sample_pos(12, 1372980280)\n",
    "tfour = constrained_sum_sample_pos(12, 1495651298)\n",
    "tthree = constrained_sum_sample_pos(12, 1524589620)\n",
    "ttwo = constrained_sum_sample_pos(12, 1575756527)\n",
    "tone = constrained_sum_sample_pos(12, 1465874205)\n",
    "tthou = constrained_sum_sample_pos(12, 1397460079)\n",
    "nintynine = constrained_sum_sample_pos(12, 1444664086)\n",
    "nintyeight = constrained_sum_sample_pos(12, 1443832471)\n",
    "nintyseven = constrained_sum_sample_pos(12, 1357349648)\n",
    "nintysix = constrained_sum_sample_pos(12, 1305221290)\n",
    "nintyfive = constrained_sum_sample_pos(12, 1221705907)"
   ]
  },
  {
   "cell_type": "code",
   "execution_count": 37,
   "id": "5a66f2fb-43d4-420a-b592-542bbb466f1d",
   "metadata": {},
   "outputs": [],
   "source": [
    "#concatonate results of the function\n",
    "Sim_Tcks_Sold = np.concatenate([twen1, twen0, tninteen, teighteen, tseventeen, tsixteen, tfifteen, tfourteen, tthirteen, \n",
    "                  ttwv, telev, tten, tnine, teigh, tsev, tsix, tfive, tfour, tthree, \n",
    "                  ttwo, tone, tthou, nintynine, nintyeight, nintyseven, nintysix, nintyfive])"
   ]
  },
  {
   "cell_type": "code",
   "execution_count": 38,
   "id": "fae875e2-aef0-4cd5-bdfb-ba30a5c38f0a",
   "metadata": {},
   "outputs": [
    {
     "data": {
      "text/plain": [
       "array([ 31829094,  39946885,  13684805,  79502794,   7629574,  62419311,\n",
       "         7505482,  23461096,  26442080,  98907652,  19223797,  13222311,\n",
       "        16071085,   8424668,   2263795,  13794029,   8904167,  15230449,\n",
       "        19931637,   8703838,  49481801,  45499017,  28269514,   7064958,\n",
       "         1251784,  63321666, 390889556,  34714372, 156516627,   8280613,\n",
       "        53570839,  58161094, 180060107, 115609891, 164462346,   1702734,\n",
       "       276157725,  19584453,  15310488, 241471300,  42887820, 197636383,\n",
       "        23713958,   5961726, 421115598,  22486529,   4702263,  40507885,\n",
       "        48084881,  23086085, 260899982,  27269473, 316452455,  58547078,\n",
       "       214096297,   9058769,  12304803, 100187076,  77137319,  78515543,\n",
       "        31925385,   8261336,  18906284, 120609737,  52227487, 166944891,\n",
       "        35090917, 278012574,  33722056,  19753400, 111838463, 425263848,\n",
       "        50755740,  69967140,  98484864,  81608520, 203880319,  16136799,\n",
       "         3857408, 475884199,  69106698,  25138411, 197394002,  31142676,\n",
       "       184865949, 134436885,   5826824,  13568148, 168192076, 129360493,\n",
       "       148372938, 216014844,  96794156,   1775628, 129274676,  28920303,\n",
       "        97330947, 294598475,  28366731, 242302688, 108818313,  37790959,\n",
       "        18578981, 233882701,  53025808,  88088274, 115054309,  21330740,\n",
       "        19251446,  15351717,  61630217,   7726843, 347535099, 369820167,\n",
       "        20342432,  75630743, 122229839, 121842897, 118041689, 101518853,\n",
       "       101979061,  72717712,  39226471,  25814071,  29515124, 125532546,\n",
       "       139342196, 120567105,  75535017,  99584322, 196615275, 256486268,\n",
       "        49965371,  57149113, 149455832, 123439545,  98840785, 307777191,\n",
       "       158897943,  16807452, 167415583, 115521902,   8951000,  74327304,\n",
       "        48440879, 101695365,  82616138,  32795681,  75793926, 182679056,\n",
       "       244047566,  12400411, 324987271, 234884163,  75262391,   2964541,\n",
       "       270245497,  16157355,  38863305,   2063620, 316301351, 495282232,\n",
       "        32098946,  16485090,  94509917,  36557821,   5280757,  34196182,\n",
       "        79828550, 106587771, 140667087, 143215880,   3712142,  45002040,\n",
       "        65664330, 189601326,  85463354, 310881141, 212638710,  36774349,\n",
       "        68771454,  48895859,  40559167,  56658698,  81052198,  10245834,\n",
       "       366996950,  11868205, 544281182,  11764485,  89476466,  68167785,\n",
       "       112899699,   8862166,  16525922, 148698271,  31582499,   4150741,\n",
       "       429944229, 145662217,  36789584, 250852039, 149202683,  37810230,\n",
       "        26810551,  46963373,  47296811, 259142414,  25336522, 258911151,\n",
       "        70599041,  91845571,  36799556, 110992539, 210686832, 310266937,\n",
       "        90353217,   9588497, 424533021,  16683860, 312269896,  27508049,\n",
       "        19345323,  80664907, 111969254,  88709037, 340184544,   2780015,\n",
       "       168594936, 120943856,  27516745, 147357572,  64969453, 437194457,\n",
       "       241832570,  17443821,  55474714,  94285598, 101008974,  99133831,\n",
       "        33411720, 180333461, 711386783,  16400680,  20611918,  96766225,\n",
       "        88520662,  45437140,   5802614,  75226225, 150904031,  41072746,\n",
       "       161859033, 104992309,   8872965, 137169238, 132632219,  44775449,\n",
       "        61809576,  73055209, 449191617, 144884324,  64141780,  14076360,\n",
       "        31002939,  39667449, 114396134,   7678411, 397002390, 585941626,\n",
       "       162519650,  15097741,  58597971,    286933,  13775315,  18697527,\n",
       "       283640098, 150993168, 100190351,  72562878,  65413047,  95052315,\n",
       "        87690601,  84092499, 114583002, 111562460, 132777998, 145274054,\n",
       "       205663223,  27456611,  42694956, 336671769, 180183822,    377116,\n",
       "        50615118, 217008439,  58306766,   8470902,  43879854, 186021072,\n",
       "        53819528, 146068019, 222500371, 131377247,  20059908, 100191882,\n",
       "        10077118, 139376965, 322867771, 126031138,   1883081,  30968262,\n",
       "        19443950, 260871907,  36288895, 111061749,  27340356, 165690506,\n",
       "       134116171,  55720312, 254119909,  24821409,  30174040, 102056703])"
      ]
     },
     "execution_count": 38,
     "metadata": {},
     "output_type": "execute_result"
    }
   ],
   "source": [
    "# Have a quick look at the data to see\n",
    "# if there is any abnormally high or low value\n",
    "Sim_Tcks_Sold"
   ]
  },
  {
   "cell_type": "code",
   "execution_count": 39,
   "id": "3c9382ca-a1d9-475c-b587-116591c7bd54",
   "metadata": {},
   "outputs": [],
   "source": [
    "Sim_MovTicketSales['TICKETS SOLD'] = Sim_Tcks_Sold"
   ]
  },
  {
   "cell_type": "code",
   "execution_count": 40,
   "id": "d56b6665-f0d6-474d-8f65-050407bfa04e",
   "metadata": {},
   "outputs": [
    {
     "data": {
      "text/html": [
       "<div>\n",
       "<style scoped>\n",
       "    .dataframe tbody tr th:only-of-type {\n",
       "        vertical-align: middle;\n",
       "    }\n",
       "\n",
       "    .dataframe tbody tr th {\n",
       "        vertical-align: top;\n",
       "    }\n",
       "\n",
       "    .dataframe thead th {\n",
       "        text-align: right;\n",
       "    }\n",
       "</style>\n",
       "<table border=\"1\" class=\"dataframe\">\n",
       "  <thead>\n",
       "    <tr style=\"text-align: right;\">\n",
       "      <th></th>\n",
       "      <th>YEAR</th>\n",
       "      <th>MONTH</th>\n",
       "      <th>TICKETS SOLD</th>\n",
       "      <th>TOT BOX OFFICE($)</th>\n",
       "      <th>TOT INFLATION ADJ BOX OFFICE($)</th>\n",
       "      <th>AVE TICKET PRICE($)</th>\n",
       "    </tr>\n",
       "  </thead>\n",
       "  <tbody>\n",
       "    <tr>\n",
       "      <th>0</th>\n",
       "      <td>2021</td>\n",
       "      <td>December</td>\n",
       "      <td>31829094</td>\n",
       "      <td>NaN</td>\n",
       "      <td>NaN</td>\n",
       "      <td>NaN</td>\n",
       "    </tr>\n",
       "    <tr>\n",
       "      <th>1</th>\n",
       "      <td>2021</td>\n",
       "      <td>November</td>\n",
       "      <td>39946885</td>\n",
       "      <td>NaN</td>\n",
       "      <td>NaN</td>\n",
       "      <td>NaN</td>\n",
       "    </tr>\n",
       "    <tr>\n",
       "      <th>2</th>\n",
       "      <td>2021</td>\n",
       "      <td>October</td>\n",
       "      <td>13684805</td>\n",
       "      <td>NaN</td>\n",
       "      <td>NaN</td>\n",
       "      <td>NaN</td>\n",
       "    </tr>\n",
       "    <tr>\n",
       "      <th>3</th>\n",
       "      <td>2021</td>\n",
       "      <td>September</td>\n",
       "      <td>79502794</td>\n",
       "      <td>NaN</td>\n",
       "      <td>NaN</td>\n",
       "      <td>NaN</td>\n",
       "    </tr>\n",
       "    <tr>\n",
       "      <th>4</th>\n",
       "      <td>2021</td>\n",
       "      <td>August</td>\n",
       "      <td>7629574</td>\n",
       "      <td>NaN</td>\n",
       "      <td>NaN</td>\n",
       "      <td>NaN</td>\n",
       "    </tr>\n",
       "    <tr>\n",
       "      <th>5</th>\n",
       "      <td>2021</td>\n",
       "      <td>July</td>\n",
       "      <td>62419311</td>\n",
       "      <td>NaN</td>\n",
       "      <td>NaN</td>\n",
       "      <td>NaN</td>\n",
       "    </tr>\n",
       "    <tr>\n",
       "      <th>6</th>\n",
       "      <td>2021</td>\n",
       "      <td>June</td>\n",
       "      <td>7505482</td>\n",
       "      <td>NaN</td>\n",
       "      <td>NaN</td>\n",
       "      <td>NaN</td>\n",
       "    </tr>\n",
       "    <tr>\n",
       "      <th>7</th>\n",
       "      <td>2021</td>\n",
       "      <td>May</td>\n",
       "      <td>23461096</td>\n",
       "      <td>NaN</td>\n",
       "      <td>NaN</td>\n",
       "      <td>NaN</td>\n",
       "    </tr>\n",
       "    <tr>\n",
       "      <th>8</th>\n",
       "      <td>2021</td>\n",
       "      <td>April</td>\n",
       "      <td>26442080</td>\n",
       "      <td>NaN</td>\n",
       "      <td>NaN</td>\n",
       "      <td>NaN</td>\n",
       "    </tr>\n",
       "    <tr>\n",
       "      <th>9</th>\n",
       "      <td>2021</td>\n",
       "      <td>March</td>\n",
       "      <td>98907652</td>\n",
       "      <td>NaN</td>\n",
       "      <td>NaN</td>\n",
       "      <td>NaN</td>\n",
       "    </tr>\n",
       "    <tr>\n",
       "      <th>10</th>\n",
       "      <td>2021</td>\n",
       "      <td>Febuary</td>\n",
       "      <td>19223797</td>\n",
       "      <td>NaN</td>\n",
       "      <td>NaN</td>\n",
       "      <td>NaN</td>\n",
       "    </tr>\n",
       "    <tr>\n",
       "      <th>11</th>\n",
       "      <td>2021</td>\n",
       "      <td>January</td>\n",
       "      <td>13222311</td>\n",
       "      <td>NaN</td>\n",
       "      <td>NaN</td>\n",
       "      <td>NaN</td>\n",
       "    </tr>\n",
       "  </tbody>\n",
       "</table>\n",
       "</div>"
      ],
      "text/plain": [
       "    YEAR      MONTH  TICKETS SOLD TOT BOX OFFICE($)  \\\n",
       "0   2021   December      31829094               NaN   \n",
       "1   2021   November      39946885               NaN   \n",
       "2   2021    October      13684805               NaN   \n",
       "3   2021  September      79502794               NaN   \n",
       "4   2021     August       7629574               NaN   \n",
       "5   2021       July      62419311               NaN   \n",
       "6   2021       June       7505482               NaN   \n",
       "7   2021        May      23461096               NaN   \n",
       "8   2021      April      26442080               NaN   \n",
       "9   2021      March      98907652               NaN   \n",
       "10  2021    Febuary      19223797               NaN   \n",
       "11  2021    January      13222311               NaN   \n",
       "\n",
       "   TOT INFLATION ADJ BOX OFFICE($) AVE TICKET PRICE($)  \n",
       "0                              NaN                 NaN  \n",
       "1                              NaN                 NaN  \n",
       "2                              NaN                 NaN  \n",
       "3                              NaN                 NaN  \n",
       "4                              NaN                 NaN  \n",
       "5                              NaN                 NaN  \n",
       "6                              NaN                 NaN  \n",
       "7                              NaN                 NaN  \n",
       "8                              NaN                 NaN  \n",
       "9                              NaN                 NaN  \n",
       "10                             NaN                 NaN  \n",
       "11                             NaN                 NaN  "
      ]
     },
     "execution_count": 40,
     "metadata": {},
     "output_type": "execute_result"
    }
   ],
   "source": [
    "# Spot Check sum of 2021 is equal to 2021 annual value\n",
    "# It is\n",
    "Sim_MovTicketSales.head (12)"
   ]
  },
  {
   "cell_type": "markdown",
   "id": "c41d144f-70a2-43e1-ba37-2a856a221fe3",
   "metadata": {},
   "source": [
    "##### Ave Ticket Price by month"
   ]
  },
  {
   "cell_type": "markdown",
   "id": "de793686-9651-4089-ab26-126c7b7f704f",
   "metadata": {},
   "source": [
    " For this I am going to again use the prices in the original data set here for guidence.  I tried using ```numpy.exponential``` and ```numpy.triangular``` here but my values were not coming out as I had hoped, what seemed to generate the best results was numpy.unifom within a range and simply sort the values."
   ]
  },
  {
   "cell_type": "code",
   "execution_count": 41,
   "id": "60139d18-fef1-4d83-9009-5915aba1c9b8",
   "metadata": {},
   "outputs": [],
   "source": [
    "# generating floats uning np.random.uniform\n",
    "# high is 2021 ave ticket price\n",
    "# low is 1995 av ticket price\n",
    "Sim_Ave_Ticket_price = np.random.uniform(low=4.35, high=9.16, size=(324,))"
   ]
  },
  {
   "cell_type": "code",
   "execution_count": 42,
   "id": "311a9481-7d9c-499e-9f12-d321107f160c",
   "metadata": {},
   "outputs": [],
   "source": [
    "# round to 2 decimals\n",
    "Sim_Ave_Ticket_price = np.round(Sim_Ave_Ticket_price,2)"
   ]
  },
  {
   "cell_type": "code",
   "execution_count": 43,
   "id": "8f7407df-4fba-4a72-b978-db6a9de4106b",
   "metadata": {},
   "outputs": [],
   "source": [
    "# sort\n",
    "Sim_Ave_Ticket_price = np.sort(Sim_Ave_Ticket_price)"
   ]
  },
  {
   "cell_type": "code",
   "execution_count": 44,
   "id": "3d331d03-f413-48c5-8a6e-a0cff8e4bbd2",
   "metadata": {},
   "outputs": [],
   "source": [
    "# flip sort\n",
    "Sim_Ave_Ticket_price= Sim_Ave_Ticket_price[::-1]"
   ]
  },
  {
   "cell_type": "code",
   "execution_count": 45,
   "id": "06a4e209-3b1f-4461-bd42-4f17fb422f03",
   "metadata": {},
   "outputs": [
    {
     "data": {
      "text/plain": [
       "array([9.16, 9.14, 9.13, 9.12, 9.1 , 9.09, 9.08, 9.07, 9.05, 9.05, 9.02,\n",
       "       9.01, 9.  , 8.98, 8.97, 8.95, 8.95, 8.95, 8.94, 8.92, 8.92, 8.91,\n",
       "       8.9 , 8.88, 8.87, 8.87, 8.87, 8.84, 8.83, 8.81, 8.81, 8.79, 8.79,\n",
       "       8.79, 8.78, 8.77, 8.77, 8.77, 8.76, 8.75, 8.73, 8.73, 8.72, 8.71,\n",
       "       8.71, 8.66, 8.62, 8.57, 8.57, 8.56, 8.55, 8.55, 8.53, 8.52, 8.51,\n",
       "       8.51, 8.48, 8.44, 8.43, 8.41, 8.41, 8.38, 8.37, 8.37, 8.36, 8.35,\n",
       "       8.34, 8.34, 8.34, 8.34, 8.33, 8.32, 8.3 , 8.29, 8.28, 8.28, 8.25,\n",
       "       8.24, 8.19, 8.19, 8.15, 8.15, 8.13, 8.12, 8.07, 8.07, 8.06, 8.05,\n",
       "       8.05, 8.04, 8.02, 8.01, 8.01, 7.99, 7.96, 7.94, 7.87, 7.84, 7.83,\n",
       "       7.79, 7.75, 7.74, 7.74, 7.69, 7.69, 7.68, 7.68, 7.68, 7.66, 7.64,\n",
       "       7.64, 7.64, 7.63, 7.6 , 7.6 , 7.59, 7.59, 7.54, 7.51, 7.48, 7.47,\n",
       "       7.46, 7.45, 7.45, 7.43, 7.4 , 7.38, 7.35, 7.27, 7.26, 7.24, 7.22,\n",
       "       7.22, 7.22, 7.22, 7.21, 7.21, 7.21, 7.16, 7.15, 7.14, 7.13, 7.13,\n",
       "       7.12, 7.11, 7.09, 7.08, 7.05, 7.04, 6.97, 6.96, 6.96, 6.94, 6.89,\n",
       "       6.89, 6.87, 6.87, 6.82, 6.82, 6.82, 6.74, 6.72, 6.69, 6.69, 6.68,\n",
       "       6.66, 6.66, 6.64, 6.63, 6.62, 6.57, 6.56, 6.49, 6.48, 6.47, 6.46,\n",
       "       6.45, 6.44, 6.43, 6.42, 6.42, 6.41, 6.4 , 6.4 , 6.38, 6.38, 6.36,\n",
       "       6.32, 6.28, 6.25, 6.25, 6.25, 6.25, 6.24, 6.24, 6.23, 6.22, 6.22,\n",
       "       6.21, 6.21, 6.2 , 6.18, 6.16, 6.15, 6.14, 6.13, 6.12, 6.11, 6.11,\n",
       "       6.08, 6.06, 6.04, 6.04, 6.03, 6.03, 6.01, 5.96, 5.94, 5.92, 5.9 ,\n",
       "       5.9 , 5.9 , 5.89, 5.86, 5.86, 5.86, 5.85, 5.84, 5.83, 5.81, 5.8 ,\n",
       "       5.75, 5.72, 5.71, 5.69, 5.68, 5.64, 5.62, 5.62, 5.62, 5.57, 5.56,\n",
       "       5.53, 5.52, 5.52, 5.5 , 5.47, 5.45, 5.44, 5.44, 5.44, 5.43, 5.42,\n",
       "       5.41, 5.4 , 5.39, 5.39, 5.39, 5.39, 5.38, 5.38, 5.38, 5.38, 5.37,\n",
       "       5.36, 5.36, 5.33, 5.31, 5.29, 5.28, 5.24, 5.23, 5.21, 5.2 , 5.18,\n",
       "       5.17, 5.13, 5.11, 5.09, 5.09, 5.07, 5.03, 5.03, 4.96, 4.96, 4.92,\n",
       "       4.91, 4.91, 4.87, 4.87, 4.85, 4.85, 4.83, 4.81, 4.79, 4.76, 4.75,\n",
       "       4.73, 4.71, 4.69, 4.69, 4.66, 4.64, 4.6 , 4.6 , 4.58, 4.56, 4.53,\n",
       "       4.53, 4.53, 4.5 , 4.49, 4.49, 4.44, 4.42, 4.42, 4.4 , 4.38, 4.38,\n",
       "       4.37, 4.37, 4.37, 4.36, 4.36])"
      ]
     },
     "execution_count": 45,
     "metadata": {},
     "output_type": "execute_result"
    }
   ],
   "source": [
    "# have a look\n",
    "Sim_Ave_Ticket_price"
   ]
  },
  {
   "cell_type": "code",
   "execution_count": 46,
   "id": "dabb30f5-d23f-432e-bca5-810a24faeb12",
   "metadata": {},
   "outputs": [],
   "source": [
    "Sim_MovTicketSales['AVE TICKET PRICE($)'] = Sim_Ave_Ticket_price"
   ]
  },
  {
   "cell_type": "code",
   "execution_count": 47,
   "id": "0d4e91f9-5dbf-468a-b30c-0c35ed3a0c30",
   "metadata": {},
   "outputs": [
    {
     "data": {
      "text/html": [
       "<div>\n",
       "<style scoped>\n",
       "    .dataframe tbody tr th:only-of-type {\n",
       "        vertical-align: middle;\n",
       "    }\n",
       "\n",
       "    .dataframe tbody tr th {\n",
       "        vertical-align: top;\n",
       "    }\n",
       "\n",
       "    .dataframe thead th {\n",
       "        text-align: right;\n",
       "    }\n",
       "</style>\n",
       "<table border=\"1\" class=\"dataframe\">\n",
       "  <thead>\n",
       "    <tr style=\"text-align: right;\">\n",
       "      <th></th>\n",
       "      <th>YEAR</th>\n",
       "      <th>MONTH</th>\n",
       "      <th>TICKETS SOLD</th>\n",
       "      <th>TOT BOX OFFICE($)</th>\n",
       "      <th>TOT INFLATION ADJ BOX OFFICE($)</th>\n",
       "      <th>AVE TICKET PRICE($)</th>\n",
       "    </tr>\n",
       "  </thead>\n",
       "  <tbody>\n",
       "    <tr>\n",
       "      <th>0</th>\n",
       "      <td>2021</td>\n",
       "      <td>December</td>\n",
       "      <td>31829094</td>\n",
       "      <td>NaN</td>\n",
       "      <td>NaN</td>\n",
       "      <td>9.160</td>\n",
       "    </tr>\n",
       "    <tr>\n",
       "      <th>1</th>\n",
       "      <td>2021</td>\n",
       "      <td>November</td>\n",
       "      <td>39946885</td>\n",
       "      <td>NaN</td>\n",
       "      <td>NaN</td>\n",
       "      <td>9.140</td>\n",
       "    </tr>\n",
       "    <tr>\n",
       "      <th>2</th>\n",
       "      <td>2021</td>\n",
       "      <td>October</td>\n",
       "      <td>13684805</td>\n",
       "      <td>NaN</td>\n",
       "      <td>NaN</td>\n",
       "      <td>9.130</td>\n",
       "    </tr>\n",
       "    <tr>\n",
       "      <th>3</th>\n",
       "      <td>2021</td>\n",
       "      <td>September</td>\n",
       "      <td>79502794</td>\n",
       "      <td>NaN</td>\n",
       "      <td>NaN</td>\n",
       "      <td>9.120</td>\n",
       "    </tr>\n",
       "    <tr>\n",
       "      <th>4</th>\n",
       "      <td>2021</td>\n",
       "      <td>August</td>\n",
       "      <td>7629574</td>\n",
       "      <td>NaN</td>\n",
       "      <td>NaN</td>\n",
       "      <td>9.100</td>\n",
       "    </tr>\n",
       "  </tbody>\n",
       "</table>\n",
       "</div>"
      ],
      "text/plain": [
       "   YEAR      MONTH  TICKETS SOLD TOT BOX OFFICE($)  \\\n",
       "0  2021   December      31829094               NaN   \n",
       "1  2021   November      39946885               NaN   \n",
       "2  2021    October      13684805               NaN   \n",
       "3  2021  September      79502794               NaN   \n",
       "4  2021     August       7629574               NaN   \n",
       "\n",
       "  TOT INFLATION ADJ BOX OFFICE($)  AVE TICKET PRICE($)  \n",
       "0                             NaN                9.160  \n",
       "1                             NaN                9.140  \n",
       "2                             NaN                9.130  \n",
       "3                             NaN                9.120  \n",
       "4                             NaN                9.100  "
      ]
     },
     "execution_count": 47,
     "metadata": {},
     "output_type": "execute_result"
    }
   ],
   "source": [
    "Sim_MovTicketSales.head()"
   ]
  },
  {
   "cell_type": "markdown",
   "id": "bfb820d5-fb3e-4a4d-8ea3-66df2ed4ee7d",
   "metadata": {},
   "source": [
    "I now had values for the avrage ticket price."
   ]
  },
  {
   "cell_type": "markdown",
   "id": "ff2b5353-0507-4c8f-84db-5e70cd071421",
   "metadata": {},
   "source": [
    "##### Total Box Office "
   ]
  },
  {
   "cell_type": "markdown",
   "id": "444360fa-4266-460b-bf8e-b2af68d368b2",
   "metadata": {},
   "source": [
    "In order to get the total box office value I simply multiplied the AVE TICKET PRICE($) column with the TICKETS SOLD column."
   ]
  },
  {
   "cell_type": "code",
   "execution_count": 48,
   "id": "30ebc6ef-126a-466f-a2b0-5af20b678701",
   "metadata": {},
   "outputs": [],
   "source": [
    "Sim_MovTicketSales['TOT BOX OFFICE($)'] = Sim_MovTicketSales['AVE TICKET PRICE($)']*Sim_MovTicketSales['TICKETS SOLD']"
   ]
  },
  {
   "cell_type": "code",
   "execution_count": 49,
   "id": "577b18ff-808a-403d-b11e-84f88cda0756",
   "metadata": {},
   "outputs": [
    {
     "data": {
      "text/html": [
       "<div>\n",
       "<style scoped>\n",
       "    .dataframe tbody tr th:only-of-type {\n",
       "        vertical-align: middle;\n",
       "    }\n",
       "\n",
       "    .dataframe tbody tr th {\n",
       "        vertical-align: top;\n",
       "    }\n",
       "\n",
       "    .dataframe thead th {\n",
       "        text-align: right;\n",
       "    }\n",
       "</style>\n",
       "<table border=\"1\" class=\"dataframe\">\n",
       "  <thead>\n",
       "    <tr style=\"text-align: right;\">\n",
       "      <th></th>\n",
       "      <th>YEAR</th>\n",
       "      <th>MONTH</th>\n",
       "      <th>TICKETS SOLD</th>\n",
       "      <th>TOT BOX OFFICE($)</th>\n",
       "      <th>TOT INFLATION ADJ BOX OFFICE($)</th>\n",
       "      <th>AVE TICKET PRICE($)</th>\n",
       "    </tr>\n",
       "  </thead>\n",
       "  <tbody>\n",
       "    <tr>\n",
       "      <th>0</th>\n",
       "      <td>2021</td>\n",
       "      <td>December</td>\n",
       "      <td>31829094</td>\n",
       "      <td>291554501.040</td>\n",
       "      <td>NaN</td>\n",
       "      <td>9.160</td>\n",
       "    </tr>\n",
       "    <tr>\n",
       "      <th>1</th>\n",
       "      <td>2021</td>\n",
       "      <td>November</td>\n",
       "      <td>39946885</td>\n",
       "      <td>365114528.900</td>\n",
       "      <td>NaN</td>\n",
       "      <td>9.140</td>\n",
       "    </tr>\n",
       "    <tr>\n",
       "      <th>2</th>\n",
       "      <td>2021</td>\n",
       "      <td>October</td>\n",
       "      <td>13684805</td>\n",
       "      <td>124942269.650</td>\n",
       "      <td>NaN</td>\n",
       "      <td>9.130</td>\n",
       "    </tr>\n",
       "    <tr>\n",
       "      <th>3</th>\n",
       "      <td>2021</td>\n",
       "      <td>September</td>\n",
       "      <td>79502794</td>\n",
       "      <td>725065481.280</td>\n",
       "      <td>NaN</td>\n",
       "      <td>9.120</td>\n",
       "    </tr>\n",
       "    <tr>\n",
       "      <th>4</th>\n",
       "      <td>2021</td>\n",
       "      <td>August</td>\n",
       "      <td>7629574</td>\n",
       "      <td>69429123.400</td>\n",
       "      <td>NaN</td>\n",
       "      <td>9.100</td>\n",
       "    </tr>\n",
       "    <tr>\n",
       "      <th>...</th>\n",
       "      <td>...</td>\n",
       "      <td>...</td>\n",
       "      <td>...</td>\n",
       "      <td>...</td>\n",
       "      <td>...</td>\n",
       "      <td>...</td>\n",
       "    </tr>\n",
       "    <tr>\n",
       "      <th>319</th>\n",
       "      <td>1995</td>\n",
       "      <td>May</td>\n",
       "      <td>55720312</td>\n",
       "      <td>243497763.440</td>\n",
       "      <td>NaN</td>\n",
       "      <td>4.370</td>\n",
       "    </tr>\n",
       "    <tr>\n",
       "      <th>320</th>\n",
       "      <td>1995</td>\n",
       "      <td>April</td>\n",
       "      <td>254119909</td>\n",
       "      <td>1110504002.330</td>\n",
       "      <td>NaN</td>\n",
       "      <td>4.370</td>\n",
       "    </tr>\n",
       "    <tr>\n",
       "      <th>321</th>\n",
       "      <td>1995</td>\n",
       "      <td>March</td>\n",
       "      <td>24821409</td>\n",
       "      <td>108469557.330</td>\n",
       "      <td>NaN</td>\n",
       "      <td>4.370</td>\n",
       "    </tr>\n",
       "    <tr>\n",
       "      <th>322</th>\n",
       "      <td>1995</td>\n",
       "      <td>Febuary</td>\n",
       "      <td>30174040</td>\n",
       "      <td>131558814.400</td>\n",
       "      <td>NaN</td>\n",
       "      <td>4.360</td>\n",
       "    </tr>\n",
       "    <tr>\n",
       "      <th>323</th>\n",
       "      <td>1995</td>\n",
       "      <td>January</td>\n",
       "      <td>102056703</td>\n",
       "      <td>444967225.080</td>\n",
       "      <td>NaN</td>\n",
       "      <td>4.360</td>\n",
       "    </tr>\n",
       "  </tbody>\n",
       "</table>\n",
       "<p>324 rows × 6 columns</p>\n",
       "</div>"
      ],
      "text/plain": [
       "     YEAR      MONTH  TICKETS SOLD  TOT BOX OFFICE($)  \\\n",
       "0    2021   December      31829094      291554501.040   \n",
       "1    2021   November      39946885      365114528.900   \n",
       "2    2021    October      13684805      124942269.650   \n",
       "3    2021  September      79502794      725065481.280   \n",
       "4    2021     August       7629574       69429123.400   \n",
       "..    ...        ...           ...                ...   \n",
       "319  1995        May      55720312      243497763.440   \n",
       "320  1995      April     254119909     1110504002.330   \n",
       "321  1995      March      24821409      108469557.330   \n",
       "322  1995    Febuary      30174040      131558814.400   \n",
       "323  1995    January     102056703      444967225.080   \n",
       "\n",
       "    TOT INFLATION ADJ BOX OFFICE($)  AVE TICKET PRICE($)  \n",
       "0                               NaN                9.160  \n",
       "1                               NaN                9.140  \n",
       "2                               NaN                9.130  \n",
       "3                               NaN                9.120  \n",
       "4                               NaN                9.100  \n",
       "..                              ...                  ...  \n",
       "319                             NaN                4.370  \n",
       "320                             NaN                4.370  \n",
       "321                             NaN                4.370  \n",
       "322                             NaN                4.360  \n",
       "323                             NaN                4.360  \n",
       "\n",
       "[324 rows x 6 columns]"
      ]
     },
     "execution_count": 49,
     "metadata": {},
     "output_type": "execute_result"
    }
   ],
   "source": [
    "Sim_MovTicketSales"
   ]
  },
  {
   "cell_type": "markdown",
   "id": "ec1b5859-89ba-4aec-b52d-e8004c1c99ae",
   "metadata": {},
   "source": [
    "I decide to graph out the data to see was I going in the right direction."
   ]
  },
  {
   "cell_type": "code",
   "execution_count": 50,
   "id": "a398dcab-3472-47aa-a7bd-8aaa46af77d7",
   "metadata": {},
   "outputs": [
    {
     "data": {
      "text/plain": [
       "<matplotlib.legend.Legend at 0x267166cb250>"
      ]
     },
     "execution_count": 50,
     "metadata": {},
     "output_type": "execute_result"
    },
    {
     "data": {
      "image/png": "[encoded data removed]",
      "text/plain": [
       "<Figure size 1440x864 with 1 Axes>"
      ]
     },
     "metadata": {
      "needs_background": "light"
     },
     "output_type": "display_data"
    }
   ],
   "source": [
    "# Set the figure size\n",
    "plt.figure(figsize = (20,12))\n",
    "\n",
    "# putting data into variable\n",
    "x = Sim_MovTicketSales['YEAR']\n",
    "y1 = Sim_MovTicketSales['TOT BOX OFFICE($)']\n",
    "\n",
    "\n",
    "# Adds a grid\n",
    "plt.grid(True)\n",
    "\n",
    "# Adds a title\n",
    "plt.title(\"Simulated Monthly Box Office Intake\")\n",
    "\n",
    "# Generates plot\n",
    "plt.plot(x,y1, label ='TOTAL BOX OFFICE') \n",
    "\n",
    "# Adds a legend\n",
    "plt.legend()"
   ]
  },
  {
   "cell_type": "markdown",
   "id": "6d71e668-efc2-4239-8d45-e65c83777558",
   "metadata": {},
   "source": [
    "I was obviously way off - however time was againest me now so I had no option but to move on. I decided instead of using dollar amount for the inflation I wold drop that column and get what the percentage increase was over those years and plugh them in instead."
   ]
  },
  {
   "cell_type": "markdown",
   "id": "e55149f1-f3a3-45f6-a39f-b45dbaf08dd0",
   "metadata": {},
   "source": [
    "##### Adding Inflation %"
   ]
  },
  {
   "cell_type": "code",
   "execution_count": 51,
   "id": "a39bf3d5-7a60-40f6-9b8f-1baa3244795e",
   "metadata": {},
   "outputs": [],
   "source": [
    "# Drop Column\n",
    "Sim_MovTicketSales = Sim_MovTicketSales.drop('TOT INFLATION ADJ BOX OFFICE($)', 1)"
   ]
  },
  {
   "cell_type": "code",
   "execution_count": 52,
   "id": "715a401a-70e8-4206-b53d-f90992255df1",
   "metadata": {},
   "outputs": [],
   "source": [
    "#function for returning % diff\n",
    "def percentage_change(col1,col2):\n",
    "    return ((col2 - col1) / col1) * 100"
   ]
  },
  {
   "cell_type": "code",
   "execution_count": 53,
   "id": "1e1e780b-3a43-45bf-9021-a20ecdadd690",
   "metadata": {},
   "outputs": [],
   "source": [
    "# call function\n",
    "infper = percentage_change(AnnualTicketSales['TOT BOX OFFICE($)'],\n",
    "                           AnnualTicketSales['TOT INFLATION ADJ BOX OFFICE($)'] )"
   ]
  },
  {
   "cell_type": "code",
   "execution_count": 54,
   "id": "4e46de62-881b-44f9-88eb-70af93348567",
   "metadata": {},
   "outputs": [],
   "source": [
    "# values for the 12 months in each year\n",
    "infper = [infper]*12"
   ]
  },
  {
   "cell_type": "code",
   "execution_count": 55,
   "id": "ceb042d7-02ce-47ef-ab90-525e6a902c6a",
   "metadata": {},
   "outputs": [],
   "source": [
    "# make a 1d array\n",
    "infper = np.array(infper)"
   ]
  },
  {
   "cell_type": "code",
   "execution_count": 56,
   "id": "8f91a1b5-067c-417c-b3c2-ad7b6a426cbb",
   "metadata": {
    "tags": []
   },
   "outputs": [],
   "source": [
    "# make a list\n",
    "infper = infper.flatten().tolist()"
   ]
  },
  {
   "cell_type": "code",
   "execution_count": 57,
   "id": "f4fade78-a6ff-4c32-8cac-1ee801935bec",
   "metadata": {},
   "outputs": [],
   "source": [
    "# Supress scientific notation\n",
    "np.set_printoptions(suppress=True,\n",
    "   formatter={'float_kind':'{:f}'.format})"
   ]
  },
  {
   "cell_type": "code",
   "execution_count": 58,
   "id": "10c14c28-d361-43b3-8573-19063b5be8f3",
   "metadata": {},
   "outputs": [],
   "source": [
    "# sort by values\n",
    "infper = np.sort(infper)"
   ]
  },
  {
   "cell_type": "code",
   "execution_count": 59,
   "id": "f3331bae-a6c6-4970-be47-113c7d4c04b9",
   "metadata": {},
   "outputs": [
    {
     "data": {
      "text/plain": [
       "array([0.000000, 0.000000, 0.000000, 0.000000, 0.000000, 0.000000,\n",
       "       0.000000, 0.000000, 0.000000, 0.000000, 0.000000, 0.000000,\n",
       "       0.000000, 0.000000, 0.000000, 0.000000, 0.000000, 0.000000,\n",
       "       0.000000, 0.000000, 0.000000, 0.000000, 0.000000, 0.000000,\n",
       "       0.000001, 0.000001, 0.000001, 0.000001, 0.000001, 0.000001,\n",
       "       0.000001, 0.000001, 0.000001, 0.000001, 0.000001, 0.000001,\n",
       "       0.548826, 0.548826, 0.548826, 0.548826, 0.548826, 0.548826,\n",
       "       0.548826, 0.548826, 0.548826, 0.548826, 0.548826, 0.548826,\n",
       "       2.118146, 2.118146, 2.118146, 2.118146, 2.118146, 2.118146,\n",
       "       2.118146, 2.118146, 2.118146, 2.118146, 2.118146, 2.118146,\n",
       "       5.895923, 5.895923, 5.895923, 5.895923, 5.895923, 5.895923,\n",
       "       5.895923, 5.895923, 5.895923, 5.895923, 5.895923, 5.895923,\n",
       "       8.659520, 8.659520, 8.659520, 8.659520, 8.659520, 8.659520,\n",
       "       8.659520, 8.659520, 8.659520, 8.659520, 8.659520, 8.659520,\n",
       "       12.117469, 12.117469, 12.117469, 12.117469, 12.117469, 12.117469,\n",
       "       12.117469, 12.117469, 12.117469, 12.117469, 12.117469, 12.117469,\n",
       "       12.669096, 12.669096, 12.669096, 12.669096, 12.669096, 12.669096,\n",
       "       12.669096, 12.669096, 12.669096, 12.669096, 12.669096, 12.669096,\n",
       "       15.075346, 15.075346, 15.075346, 15.075346, 15.075346, 15.075346,\n",
       "       15.075346, 15.075346, 15.075346, 15.075346, 15.075346, 15.075346,\n",
       "       15.510691, 15.510691, 15.510691, 15.510691, 15.510691, 15.510691,\n",
       "       15.510691, 15.510691, 15.510691, 15.510691, 15.510691, 15.510691,\n",
       "       16.096300, 16.096300, 16.096300, 16.096300, 16.096300, 16.096300,\n",
       "       16.096300, 16.096300, 16.096300, 16.096300, 16.096300, 16.096300,\n",
       "       22.133066, 22.133066, 22.133066, 22.133066, 22.133066, 22.133066,\n",
       "       22.133066, 22.133066, 22.133066, 22.133066, 22.133066, 22.133066,\n",
       "       27.576575, 27.576575, 27.576575, 27.576575, 27.576575, 27.576575,\n",
       "       27.576575, 27.576575, 27.576575, 27.576575, 27.576575, 27.576575,\n",
       "       33.139500, 33.139500, 33.139500, 33.139500, 33.139500, 33.139500,\n",
       "       33.139500, 33.139500, 33.139500, 33.139500, 33.139500, 33.139500,\n",
       "       39.847291, 39.847291, 39.847291, 39.847291, 39.847291, 39.847291,\n",
       "       39.847291, 39.847291, 39.847291, 39.847291, 39.847291, 39.847291,\n",
       "       42.901682, 42.901682, 42.901682, 42.901682, 42.901682, 42.901682,\n",
       "       42.901682, 42.901682, 42.901682, 42.901682, 42.901682, 42.901682,\n",
       "       47.503995, 47.503995, 47.503995, 47.503995, 47.503995, 47.503995,\n",
       "       47.503995, 47.503995, 47.503995, 47.503995, 47.503995, 47.503995,\n",
       "       51.907100, 51.907100, 51.907100, 51.907100, 51.907100, 51.907100,\n",
       "       51.907100, 51.907100, 51.907100, 51.907100, 51.907100, 51.907100,\n",
       "       57.659177, 57.659177, 57.659177, 57.659177, 57.659177, 57.659177,\n",
       "       57.659177, 57.659177, 57.659177, 57.659177, 57.659177, 57.659177,\n",
       "       61.837424, 61.837424, 61.837424, 61.837424, 61.837424, 61.837424,\n",
       "       61.837424, 61.837424, 61.837424, 61.837424, 61.837424, 61.837424,\n",
       "       69.944304, 69.944304, 69.944304, 69.944304, 69.944304, 69.944304,\n",
       "       69.944304, 69.944304, 69.944304, 69.944304, 69.944304, 69.944304,\n",
       "       80.314929, 80.314929, 80.314929, 80.314929, 80.314929, 80.314929,\n",
       "       80.314929, 80.314929, 80.314929, 80.314929, 80.314929, 80.314929,\n",
       "       95.309140, 95.309140, 95.309140, 95.309140, 95.309140, 95.309140,\n",
       "       95.309140, 95.309140, 95.309140, 95.309140, 95.309140, 95.309140,\n",
       "       99.564242, 99.564242, 99.564242, 99.564242, 99.564242, 99.564242,\n",
       "       99.564242, 99.564242, 99.564242, 99.564242, 99.564242, 99.564242,\n",
       "       107.239009, 107.239009, 107.239009, 107.239009, 107.239009,\n",
       "       107.239009, 107.239009, 107.239009, 107.239009, 107.239009,\n",
       "       107.239009, 107.239009, 110.574685, 110.574685, 110.574685,\n",
       "       110.574685, 110.574685, 110.574685, 110.574685, 110.574685,\n",
       "       110.574685, 110.574685, 110.574685, 110.574685])"
      ]
     },
     "execution_count": 59,
     "metadata": {},
     "output_type": "execute_result"
    }
   ],
   "source": [
    "infper"
   ]
  },
  {
   "cell_type": "code",
   "execution_count": 60,
   "id": "8dd32f5d-52c5-49bd-bac8-e692b487f85e",
   "metadata": {},
   "outputs": [],
   "source": [
    "Sim_MovTicketSales['Inflation %'] = infper"
   ]
  },
  {
   "cell_type": "code",
   "execution_count": 65,
   "id": "5a1498a7-12d8-4e69-ad87-2fa2ad9f701c",
   "metadata": {},
   "outputs": [
    {
     "data": {
      "text/html": [
       "<div>\n",
       "<style scoped>\n",
       "    .dataframe tbody tr th:only-of-type {\n",
       "        vertical-align: middle;\n",
       "    }\n",
       "\n",
       "    .dataframe tbody tr th {\n",
       "        vertical-align: top;\n",
       "    }\n",
       "\n",
       "    .dataframe thead th {\n",
       "        text-align: right;\n",
       "    }\n",
       "</style>\n",
       "<table border=\"1\" class=\"dataframe\">\n",
       "  <thead>\n",
       "    <tr style=\"text-align: right;\">\n",
       "      <th></th>\n",
       "      <th>YEAR</th>\n",
       "      <th>MONTH</th>\n",
       "      <th>TICKETS SOLD</th>\n",
       "      <th>TOT BOX OFFICE($)</th>\n",
       "      <th>AVE TICKET PRICE($)</th>\n",
       "      <th>Inflation %</th>\n",
       "    </tr>\n",
       "  </thead>\n",
       "  <tbody>\n",
       "    <tr>\n",
       "      <th>0</th>\n",
       "      <td>2021</td>\n",
       "      <td>December</td>\n",
       "      <td>31829094</td>\n",
       "      <td>291554501.040</td>\n",
       "      <td>9.160</td>\n",
       "      <td>0.000</td>\n",
       "    </tr>\n",
       "    <tr>\n",
       "      <th>1</th>\n",
       "      <td>2021</td>\n",
       "      <td>November</td>\n",
       "      <td>39946885</td>\n",
       "      <td>365114528.900</td>\n",
       "      <td>9.140</td>\n",
       "      <td>0.000</td>\n",
       "    </tr>\n",
       "    <tr>\n",
       "      <th>2</th>\n",
       "      <td>2021</td>\n",
       "      <td>October</td>\n",
       "      <td>13684805</td>\n",
       "      <td>124942269.650</td>\n",
       "      <td>9.130</td>\n",
       "      <td>0.000</td>\n",
       "    </tr>\n",
       "    <tr>\n",
       "      <th>3</th>\n",
       "      <td>2021</td>\n",
       "      <td>September</td>\n",
       "      <td>79502794</td>\n",
       "      <td>725065481.280</td>\n",
       "      <td>9.120</td>\n",
       "      <td>0.000</td>\n",
       "    </tr>\n",
       "    <tr>\n",
       "      <th>4</th>\n",
       "      <td>2021</td>\n",
       "      <td>August</td>\n",
       "      <td>7629574</td>\n",
       "      <td>69429123.400</td>\n",
       "      <td>9.100</td>\n",
       "      <td>0.000</td>\n",
       "    </tr>\n",
       "    <tr>\n",
       "      <th>...</th>\n",
       "      <td>...</td>\n",
       "      <td>...</td>\n",
       "      <td>...</td>\n",
       "      <td>...</td>\n",
       "      <td>...</td>\n",
       "      <td>...</td>\n",
       "    </tr>\n",
       "    <tr>\n",
       "      <th>319</th>\n",
       "      <td>1995</td>\n",
       "      <td>May</td>\n",
       "      <td>55720312</td>\n",
       "      <td>243497763.440</td>\n",
       "      <td>4.370</td>\n",
       "      <td>110.575</td>\n",
       "    </tr>\n",
       "    <tr>\n",
       "      <th>320</th>\n",
       "      <td>1995</td>\n",
       "      <td>April</td>\n",
       "      <td>254119909</td>\n",
       "      <td>1110504002.330</td>\n",
       "      <td>4.370</td>\n",
       "      <td>110.575</td>\n",
       "    </tr>\n",
       "    <tr>\n",
       "      <th>321</th>\n",
       "      <td>1995</td>\n",
       "      <td>March</td>\n",
       "      <td>24821409</td>\n",
       "      <td>108469557.330</td>\n",
       "      <td>4.370</td>\n",
       "      <td>110.575</td>\n",
       "    </tr>\n",
       "    <tr>\n",
       "      <th>322</th>\n",
       "      <td>1995</td>\n",
       "      <td>Febuary</td>\n",
       "      <td>30174040</td>\n",
       "      <td>131558814.400</td>\n",
       "      <td>4.360</td>\n",
       "      <td>110.575</td>\n",
       "    </tr>\n",
       "    <tr>\n",
       "      <th>323</th>\n",
       "      <td>1995</td>\n",
       "      <td>January</td>\n",
       "      <td>102056703</td>\n",
       "      <td>444967225.080</td>\n",
       "      <td>4.360</td>\n",
       "      <td>110.575</td>\n",
       "    </tr>\n",
       "  </tbody>\n",
       "</table>\n",
       "<p>324 rows × 6 columns</p>\n",
       "</div>"
      ],
      "text/plain": [
       "     YEAR      MONTH  TICKETS SOLD  TOT BOX OFFICE($)  AVE TICKET PRICE($)  \\\n",
       "0    2021   December      31829094      291554501.040                9.160   \n",
       "1    2021   November      39946885      365114528.900                9.140   \n",
       "2    2021    October      13684805      124942269.650                9.130   \n",
       "3    2021  September      79502794      725065481.280                9.120   \n",
       "4    2021     August       7629574       69429123.400                9.100   \n",
       "..    ...        ...           ...                ...                  ...   \n",
       "319  1995        May      55720312      243497763.440                4.370   \n",
       "320  1995      April     254119909     1110504002.330                4.370   \n",
       "321  1995      March      24821409      108469557.330                4.370   \n",
       "322  1995    Febuary      30174040      131558814.400                4.360   \n",
       "323  1995    January     102056703      444967225.080                4.360   \n",
       "\n",
       "     Inflation %  \n",
       "0          0.000  \n",
       "1          0.000  \n",
       "2          0.000  \n",
       "3          0.000  \n",
       "4          0.000  \n",
       "..           ...  \n",
       "319      110.575  \n",
       "320      110.575  \n",
       "321      110.575  \n",
       "322      110.575  \n",
       "323      110.575  \n",
       "\n",
       "[324 rows x 6 columns]"
      ]
     },
     "execution_count": 65,
     "metadata": {},
     "output_type": "execute_result"
    }
   ],
   "source": [
    "Sim_MovTicketSales\n",
    "\n",
    "# Uncomment cell below for csv version to be output to local pc.\n",
    "#Sim_MovTicketSales.to_csv('sim_movie_attendance_data.csv')"
   ]
  },
  {
   "cell_type": "markdown",
   "id": "f3fa4a9d-6dcf-4fdd-a3c2-e1b312ae4f93",
   "metadata": {},
   "source": [
    "So now I have a simulated dataframe where I used some analysis of the original data to populate it.  \n",
    "I am sure this is not the way that this project was intended to be completed as I got lost so many times I am surprised I got here.\n"
   ]
  },
  {
   "cell_type": "markdown",
   "id": "f33fe4d8-f2a6-4e63-9772-9ce37bba5b5f",
   "metadata": {
    "tags": []
   },
   "source": [
    "<a id='Conclu'></a>\n",
    "# Thoughts and Conclusions"
   ]
  },
  {
   "cell_type": "markdown",
   "id": "29ae3335-19ba-4c92-9b60-007a4876d5ef",
   "metadata": {},
   "source": [
    "I will say I did spend hours trawling through blogs, stackoverflow and youtube trying to get some handle on this project but my head simply coulnt get around it at the beginning. As I stated above my time management during this project was appaling and leaving so much of it to do over Christmas was a huge mistake, espically since I was not off work. However by the end after all the frustrations I will say that I probably should have stuck with the more complex NFL data and shown the work that I had tried to do there. I really do think that I over thought this project and tried to get things to 'fit' (no pun intended) without really understanding what I was trying to fit the data into. The old \"round peg in a square hole\" scenario. "
   ]
  },
  {
   "cell_type": "markdown",
   "id": "c267eaed-1161-400f-8389-d09e6b5db7e1",
   "metadata": {},
   "source": [
    "<a id='Cite'></a>\n",
    "# Citations"
   ]
  },
  {
   "cell_type": "markdown",
   "id": "19883303-2659-4bf5-97c2-698bb86a9d55",
   "metadata": {},
   "source": [
    "\n",
    "**1. Introduction**\n",
    " - Kaggle.com. 2021. Hollywood Theatrical Market Synopsis 1995 to 2021. [online] Available at: <https://www.kaggle.com/johnharshith/hollywood-theatrical-market-synopsis-1995-to-2021> [Accessed 21 December 2021].\n",
    " - Users.iems.northwestern.edu. 2021. [online] Available at: <http://users.iems.northwestern.edu/~nelsonb/IEMS435/PythonSim.pdf> [Accessed 20 December 2021].\n",
    " - Python, R. (n.d.). Generating Random Data in Python (Guide) – Real Python. [online] realpython.com. Available at: https://realpython.com/python-random/.\n",
    " - “Random — Generate Pseudo-Random Numbers — Python 3.8.2 Documentation.” n.d. Docs.python.org. https://docs.python.org/3/library/random.html.\n",
    " - numpy.org. (n.d.). Legacy Random Generation — NumPy v1.21 Manual. [online] Available at: https://numpy.org/doc/stable/reference/random/legacy.html\n",
    "\n",
    "**2. Disclaimer**\n",
    "\n",
    "**3. Import Packages for notebook**\n",
    " - Matplotlib.org. 2021. matplotlib.pyplot — Matplotlib 3.5.1 documentation. [online] Available at: https://matplotlib.org/stable/api/_as_gen/matplotlib.pyplot.html [Accessed 27 December 2021].\n",
    " - Pandas.pydata.org. 2021. pandas documentation — pandas 1.3.5 documentation. [online] Available at: https://pandas.pydata.org/docs/ [Accessed 27 December 2021].\n",
    " - NumPy Documentation, The NumPy community, Last updated on Jun 22, 2021, https://numpy.org/doc/stable/reference/random/generator.html\n",
    " - Docs.scipy.org. 2021. SciPy documentation — SciPy v1.7.1 Manual. [online] Available at: <https://docs.scipy.org/doc/scipy/reference/> [Accessed 22 December 2021].\n",
    " - Seaborn.pydata.org. 2021. seaborn: statistical data visualization — seaborn 0.11.2 documentation. [online] Available at: https://seaborn.pydata.org/ [Accessed 29 December 2021]. \n",
    "\n",
    "**4. Read in and Clean original data for analysis**\n",
    " - Pandas.pydata.org. 2021. pandas documentation — pandas 1.3.5 documentation. [online] Available at: https://pandas.pydata.org/docs/ [Accessed 27 December 2021].\n",
    " - Python, R., 2021. Beautiful Soup: Build a Web Scraper With Python – Real Python. [online] Realpython.com. Available at: https://realpython.com/beautiful-soup-web-scraper-python/ [Accessed 29 December 2021].\n",
    " - W3schools.com. 2021. Pandas Read CSV. [online] Available at: https://www.w3schools.com/python/pandas/pandas_csv.asp [Accessed 29 December 2021].\n",
    "\n",
    "**5. Beginning my analysis**  \n",
    "- Medium. 2021. An introduction to plotting with Matplotlib in Python. [online] Available at: https://towardsdatascience.com/an-introduction-to-plotting-with-matplotlib-in-python-6d983b9ba081 [Accessed 27 December 2021].\n",
    " - Matplotlib.org. 2021. Matplotlib — Visualization with Python. [online] Available at: https://matplotlib.org/ [Accessed 27 December 2021].\n",
    " - Python - Matplotlib Tutorial for Beginners, Academind, Youtube.com. 2021. [online] Available at: https://www.youtube.com/watch?v=qErBw-R2Ybk&t=9s [Accessed 29 December 2021].\n",
    " - Matplotlib Tutorial 2021, Derek Banas, Youtube.com. 2021. [online] Available at: https://www.youtube.com/watch?v=wB9C0Mz9gSo [Accessed 29 December 2021].\n",
    " \n",
    " \n",
    "**6. Recreating the data** \n",
    " - DataDaft, Python for Data Analysis: Probability Distributions, Youtube.com. 2021. [online] Available at: <https://www.youtube.com/watch?v=uial-2girHQ&t=441s> [Accessed 20 December 2021].\n",
    " - Learn 2 Excel, Choosing a Python Distribution, Youtube.com. 2021. [online] Available at: <https://www.youtube.com/watch?v=rZ0x65WPt88> [Accessed 29 December 2021].\n",
    " - NumPy Documentation, The NumPy community, Last updated on Jun 22, 2021, https://numpy.org/doc/stable/reference/random/generator.html\n",
    " - Numpy.org. 2021. Random sampling (numpy.random) — NumPy v1.22 Manual. [online] Available at: https://numpy.org/doc/stable/reference/random/index.html [Accessed 27 December 2021].\n",
    " - Python, R. (n.d.). Generating Random Data in Python (Guide) – Real Python. [online] realpython.com. Available at: https://realpython.com/python-random/.[Accessed 27 December 2021]\n",
    " - “Random — Generate Pseudo-Random Numbers — Python 3.8.2 Documentation.” n.d. Docs.python.org. https://docs.python.org/3/library/random.html> [Accessed 27 December 2021]\n",
    " - numpy.org. (n.d.). Legacy Random Generation — NumPy v1.21 Manual. [online] Available at: https://numpy.org/doc/stable/reference/random/legacy.html. [Accessed 27 December 2021]\n",
    " - “Numpy.random.exponential.” Numpy.random.exponential - NumPy v1.21 Manual, https://numpy.org/doc/stable/reference/random/generated/numpy.random.exponential.html.\n",
    " - “Generate Random Numbers from Exponential Distribution and Model Using Python.” Stack Overflow, 1 Jan. 1966, https://stackoverflow.com/questions/47319277/generate-random-numbers-from-exponential-distribution-and-model-using-python/47324702#47324702.\n",
    " - Numpy.org. 2021. numpy.random.Generator.uniform — NumPy v1.21 Manual. [online] Available at: https://numpy.org/doc/stable/reference/random/generated/numpy.random.Generator.uniform.html?highlight=uniform [Accessed 20 December 2021].\n",
    " - Youtube.com. 2021. [online] Available at: https://www.youtube.com/watch?v=uial-2girHQ [Accessed 20 December 2021].\n",
    " - Seaborn.pydata.org. 2021. seaborn.kdeplot — seaborn 0.11.2 documentation. [online] Available at: https://seaborn.pydata.org/generated/seaborn.kdeplot.html [Accessed 20 December 2021].\n",
    " - W3schools.com. 2021. Uniform Distribution. [online] Available at: https://www.w3schools.com/python/numpy/numpy_random_uniform.asp [Accessed 20 December 2021].\n",
    " - Linuxhint.com. 2021. Generating Random Numbers with Uniform Distribution in Python. [online] Available at: https://linuxhint.com/generating-random-numbers-with-uniform-distribution-in-python/ [Accessed 20 December 2021].\n",
    " - “NumPy - Exponential Distribution.” AlphaCodingSkills, https://www.alphacodingskills.com/numpy/numpy-exponential-distribution.php.\n",
    " - “Python for Data Analysis: Probability Distributions.” YouTube, YouTube, 10 Aug. 2020, https://www.youtube.com/watch?v=uial-2girHQ&t=436s.\n",
    "\n",
    "\n"
   ]
  },
  {
   "cell_type": "code",
   "execution_count": null,
   "id": "ab11ffea-81d8-43ad-8938-850c32fd62e3",
   "metadata": {},
   "outputs": [],
   "source": []
  },
  {
   "cell_type": "code",
   "execution_count": null,
   "id": "f7f3a40e-1dd4-4546-8199-306374cfafe0",
   "metadata": {},
   "outputs": [],
   "source": []
  },
  {
   "cell_type": "code",
   "execution_count": null,
   "id": "0d057e8c-0d70-46b0-bedc-94369382eecc",
   "metadata": {},
   "outputs": [],
   "source": []
  },
  {
   "cell_type": "code",
   "execution_count": null,
   "id": "6a99c8d6-2776-46aa-8a0d-7f79d01c13c9",
   "metadata": {},
   "outputs": [],
   "source": []
  },
  {
   "cell_type": "code",
   "execution_count": null,
   "id": "040749fe-ece4-4652-b61e-b234176c7f96",
   "metadata": {},
   "outputs": [],
   "source": []
  },
  {
   "cell_type": "code",
   "execution_count": null,
   "id": "18db10b5-6cc0-4ecb-8bff-1edbe98eb54e",
   "metadata": {},
   "outputs": [],
   "source": []
  },
  {
   "cell_type": "code",
   "execution_count": null,
   "id": "c1da7539-c32b-454b-8a9c-c31ae8ee606f",
   "metadata": {},
   "outputs": [],
   "source": []
  },
  {
   "cell_type": "code",
   "execution_count": null,
   "id": "3ae14d34-260c-482c-aa12-9768c59b4846",
   "metadata": {},
   "outputs": [],
   "source": []
  },
  {
   "cell_type": "code",
   "execution_count": null,
   "id": "0dc7453d-7c91-443e-9868-607779bc44f7",
   "metadata": {},
   "outputs": [],
   "source": []
  },
  {
   "cell_type": "code",
   "execution_count": null,
   "id": "a09a7890-b31b-4685-b5fe-dbc0085d32e3",
   "metadata": {},
   "outputs": [],
   "source": [
    "def my_distribution(min_val, max_val, mean, std):\n",
    "    scale = max_val - min_val\n",
    "    location = min_val\n",
    "    # Mean and standard deviation of the unscaled beta distribution\n",
    "    unscaled_mean = (mean - min_val) / scale\n",
    "    unscaled_var = (std / scale) ** 2\n",
    "    # Computation of alpha and beta can be derived from mean and variance formulas\n",
    "    t = unscaled_mean / (1 - unscaled_mean)\n",
    "    beta = ((t / unscaled_var) - (t * t) - (2 * t) - 1) / ((t * t * t) + (3 * t * t) + (3 * t) + 1)\n",
    "    alpha = beta * t\n",
    "    # Not all parameters may produce a valid distribution\n",
    "    if alpha <= 0 or beta <= 0:\n",
    "        raise ValueError('Cannot create distribution for the given parameters.')\n",
    "    # Make scaled beta distribution with computed parameters\n",
    "    return scipy.stats.beta(alpha, beta, scale=scale, loc=location)"
   ]
  },
  {
   "cell_type": "code",
   "execution_count": null,
   "id": "63b18ddb-4549-4df2-9091-f64e9162f605",
   "metadata": {},
   "outputs": [],
   "source": [
    "min_val = 2048534616 \n",
    "max_val = 14433929789\n",
    "mean = 11815879251.37\n",
    "std = 2692037877.531\n",
    "my_dist = my_distribution(min_val, max_val, mean, std)\n",
    "# Plot distribution PDF\n",
    "x = np.linspace(min_val, max_val, 30)\n",
    "plt.plot(x, my_dist.pdf(x))\n",
    "# Stats\n",
    "print('mean:', my_dist.mean(), 'std:', my_dist.std())\n",
    "# Get a large sample to check bounds\n",
    "sample = (my_dist.rvs(size=324))\n",
    "print('min:', sample.min(), 'max:', sample.max())"
   ]
  },
  {
   "cell_type": "code",
   "execution_count": null,
   "id": "c76347b7-df6b-46f9-bb1e-9094a4e36d75",
   "metadata": {},
   "outputs": [],
   "source": []
  }
 ],
 "metadata": {
  "kernelspec": {
   "display_name": "Python 3",
   "language": "python",
   "name": "python3"
  },
  "language_info": {
   "codemirror_mode": {
    "name": "ipython",
    "version": 3
   },
   "file_extension": ".py",
   "mimetype": "text/x-python",
   "name": "python",
   "nbconvert_exporter": "python",
   "pygments_lexer": "ipython3",
   "version": "3.8.8"
  }
 },
 "nbformat": 4,
 "nbformat_minor": 5
}
