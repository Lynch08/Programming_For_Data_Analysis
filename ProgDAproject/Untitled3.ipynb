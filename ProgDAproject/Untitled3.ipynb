{
 "cells": [
  {
   "cell_type": "code",
   "execution_count": 1,
   "id": "67a84942-462a-407f-a194-6cb40d7523d8",
   "metadata": {},
   "outputs": [],
   "source": [
    "import sportsipy.nfl"
   ]
  },
  {
   "cell_type": "code",
   "execution_count": 2,
   "id": "f3281f45-4534-4ad5-9835-b263b1108490",
   "metadata": {},
   "outputs": [
    {
     "ename": "ImportError",
     "evalue": "cannot import name 'Boxscores' from 'sportsipy.nfl' (C:\\Users\\lynch08\\Anaconda3\\lib\\site-packages\\sportsipy\\nfl\\__init__.py)",
     "output_type": "error",
     "traceback": [
      "\u001b[1;31m---------------------------------------------------------------------------\u001b[0m",
      "\u001b[1;31mImportError\u001b[0m                               Traceback (most recent call last)",
      "\u001b[1;32m<ipython-input-2-e946af2728e8>\u001b[0m in \u001b[0;36m<module>\u001b[1;34m\u001b[0m\n\u001b[1;32m----> 1\u001b[1;33m \u001b[1;32mfrom\u001b[0m \u001b[0msportsipy\u001b[0m\u001b[1;33m.\u001b[0m\u001b[0mnfl\u001b[0m \u001b[1;32mimport\u001b[0m \u001b[0mBoxscores\u001b[0m\u001b[1;33m,\u001b[0m \u001b[0mBoxscore\u001b[0m\u001b[1;33m\u001b[0m\u001b[1;33m\u001b[0m\u001b[0m\n\u001b[0m\u001b[0;32m      2\u001b[0m \u001b[1;32mimport\u001b[0m \u001b[0mpandas\u001b[0m \u001b[1;32mas\u001b[0m \u001b[0mpd\u001b[0m\u001b[1;33m\u001b[0m\u001b[1;33m\u001b[0m\u001b[0m\n\u001b[0;32m      3\u001b[0m \u001b[1;32mimport\u001b[0m \u001b[0mnumpy\u001b[0m \u001b[1;32mas\u001b[0m \u001b[0mnp\u001b[0m\u001b[1;33m\u001b[0m\u001b[1;33m\u001b[0m\u001b[0m\n",
      "\u001b[1;31mImportError\u001b[0m: cannot import name 'Boxscores' from 'sportsipy.nfl' (C:\\Users\\lynch08\\Anaconda3\\lib\\site-packages\\sportsipy\\nfl\\__init__.py)"
     ]
    }
   ],
   "source": [
    "from sportsipy.nfl import Boxscores, Boxscore\n",
    "import pandas as pd\n",
    "import numpy as np"
   ]
  },
  {
   "cell_type": "code",
   "execution_count": null,
   "id": "8d183cf3-76b4-4bdf-b895-947958fd7f70",
   "metadata": {},
   "outputs": [],
   "source": []
  },
  {
   "cell_type": "code",
   "execution_count": null,
   "id": "db821fcc-c759-4aed-8c09-0dc704b1bea9",
   "metadata": {},
   "outputs": [],
   "source": []
  }
 ],
 "metadata": {
  "kernelspec": {
   "display_name": "Python 3",
   "language": "python",
   "name": "python3"
  },
  "language_info": {
   "codemirror_mode": {
    "name": "ipython",
    "version": 3
   },
   "file_extension": ".py",
   "mimetype": "text/x-python",
   "name": "python",
   "nbconvert_exporter": "python",
   "pygments_lexer": "ipython3",
   "version": "3.8.8"
  }
 },
 "nbformat": 4,
 "nbformat_minor": 5
}
