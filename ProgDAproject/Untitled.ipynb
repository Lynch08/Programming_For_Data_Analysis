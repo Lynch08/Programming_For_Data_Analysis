{
 "cells": [
  {
   "cell_type": "markdown",
   "id": "9f611b2a-921d-4d56-a7c6-194f22a03e61",
   "metadata": {},
   "source": [
    "# Generating Data"
   ]
  },
  {
   "cell_type": "code",
   "execution_count": 1,
   "id": "7ce8f2b6-aa16-4b04-8a60-548b07b384ea",
   "metadata": {},
   "outputs": [],
   "source": [
    "import numpy as np\n",
    "\n",
    "import pandas as pd\n",
    "\n",
    "import matplotlib.pyplot as plt"
   ]
  },
  {
   "cell_type": "code",
   "execution_count": 2,
   "id": "8f3d40cc-0d3c-49fc-9714-aaee14677e77",
   "metadata": {},
   "outputs": [],
   "source": [
    "off_yds = np.random.normal(loc=300, scale=100, size=(160,))\n",
    "def_yds = np.random.normal(loc=250, scale=100, size=(160,))\n"
   ]
  },
  {
   "cell_type": "code",
   "execution_count": 3,
   "id": "09a257a9-57d7-4df3-baf6-24643972f618",
   "metadata": {},
   "outputs": [],
   "source": [
    "off_yds = np.round(off_yds, decimals=2)\n",
    "def_yds = np.round(def_yds, decimals=2)"
   ]
  },
  {
   "cell_type": "code",
   "execution_count": 4,
   "id": "c1341e8c-a7dd-4a4b-801c-cb9765b899c1",
   "metadata": {},
   "outputs": [
    {
     "data": {
      "text/plain": [
       "array([278.89, 275.88, 259.77, 249.61, 455.83, 198.19, 289.33, 335.9 ,\n",
       "       326.79, 395.43, 474.44, 359.37, 396.13, 321.08, 215.18, 303.46,\n",
       "       295.03, 375.22, 311.95, 375.93, 397.57, 297.39, 318.43, 405.76,\n",
       "       502.15, 496.78, 171.2 , 288.02, 222.26, 149.38, 245.47, 299.09,\n",
       "       433.18, 325.53, 230.35, 237.61, 274.01, 314.08, 316.38, 389.01,\n",
       "       232.51, 203.48, 315.14, 286.57, 396.49, 359.91, 245.4 , 173.68,\n",
       "       274.64, 375.59, 462.66, 249.58, 316.67, 277.69, 230.07, 306.47,\n",
       "       333.31, 353.34, 158.62, 352.97, 241.12, 271.65, 235.61, 452.98,\n",
       "       252.02, 215.42, 279.49, 253.02, 324.53, 261.23, 296.46, 267.66,\n",
       "       400.15, 401.93, 260.32, 407.59, 127.4 , 173.4 , 232.73, 393.65,\n",
       "       308.22, 357.13, 166.31, 191.99, 413.38, 545.51, 406.19, 422.48,\n",
       "       199.75, 294.59, 306.55, 390.17, 308.12, 423.03, 218.67, 212.32,\n",
       "       313.95, 416.19, 425.78, 152.4 , 364.83, 475.18, 321.08, 398.59,\n",
       "       210.67, 308.89, 195.21, 158.73, 309.44, 263.57, 282.39, 385.3 ,\n",
       "       237.32, 193.32, 373.94, 233.99, 125.05, 433.8 , 319.49, 381.1 ,\n",
       "       393.42, 413.62, 360.68, 213.62, 283.49, 408.67, 170.14,  98.08,\n",
       "       312.29, 388.89, 277.25, 320.9 , 332.85, 218.88, 261.36, 151.09,\n",
       "       274.83, 284.09, 433.44, 209.31, 284.46, 137.51, 339.33, 428.37,\n",
       "       261.98, 455.71, 480.85, 251.15, 372.71, 261.39, 363.58,  87.68,\n",
       "       369.63, 424.65, 344.87, 423.25, 287.44, 327.2 , 403.29, 350.37])"
      ]
     },
     "execution_count": 4,
     "metadata": {},
     "output_type": "execute_result"
    }
   ],
   "source": [
    "off_yds "
   ]
  },
  {
   "cell_type": "code",
   "execution_count": 5,
   "id": "49daab2e-0ff0-4c68-bda2-75dc184cd8bf",
   "metadata": {},
   "outputs": [
    {
     "data": {
      "text/plain": [
       "array([123.78, 140.35, 315.01, 203.86, 290.27, 172.99, 243.57,  60.77,\n",
       "        46.38, 151.87, 346.6 , 396.89, 442.54, 131.09, 227.35, 244.56,\n",
       "        89.8 , 261.84, 206.81, 228.13, 394.97, 214.2 , 352.3 , 206.63,\n",
       "       259.83, 285.54, 228.36, 375.86, 374.09, 255.48, 325.45, 347.7 ,\n",
       "       256.17, 207.1 , 101.87, 359.88, 331.15,  93.74, 117.11, 215.42,\n",
       "       286.34, 357.69, 376.6 , 283.52, 232.41, 330.05, 199.29, 180.97,\n",
       "       330.18, 330.46, 295.68, 171.84, 275.15, 135.69, 248.85, 317.17,\n",
       "       368.96, 175.49, 390.91,  49.26, 248.29, 510.17, 116.09, 237.65,\n",
       "       176.99, 447.61, 344.94, 196.06, 375.66,  87.09, 398.01, 248.75,\n",
       "        81.53, 340.9 , 346.35, 284.5 , 168.52, 175.6 , 311.76, 198.92,\n",
       "       448.08, 271.54, 283.78, 155.01, 322.77, 112.88, 149.61, 110.39,\n",
       "       220.04, 245.96, 325.63, 116.62, 349.6 , 427.51, 210.58, 220.79,\n",
       "       254.54, 243.  , 321.29, 285.64, 201.55, 390.53, 185.72,  88.03,\n",
       "       307.58, 199.97, 302.29, 330.28, 235.29, 186.98, 203.66, 217.99,\n",
       "       372.88, 434.  , 163.08, 403.05, 132.6 , 237.85, 151.55,  72.92,\n",
       "       101.94, 296.56, 262.28, 483.41, 176.58, 210.55, 396.68, 350.52,\n",
       "       205.21, 210.64, -70.82, 302.87, 251.85, 202.03, 221.41, 177.74,\n",
       "        75.85,  47.48, 212.42, 187.49, 312.36, 328.25, 508.22, 196.98,\n",
       "       228.41, 326.28, 400.36, 181.2 , 136.17, 210.66, 267.45, 282.32,\n",
       "       242.84, 373.34, 366.37, 533.47, 359.29, 272.97, 321.42, 368.53])"
      ]
     },
     "execution_count": 5,
     "metadata": {},
     "output_type": "execute_result"
    }
   ],
   "source": [
    "def_yds"
   ]
  },
  {
   "cell_type": "code",
   "execution_count": null,
   "id": "649b0e24-81a2-4b05-bf1c-0dc73e93b971",
   "metadata": {},
   "outputs": [],
   "source": []
  },
  {
   "cell_type": "code",
   "execution_count": 6,
   "id": "545684db-4f85-4270-b97f-75736b5a3627",
   "metadata": {},
   "outputs": [
    {
     "data": {
      "text/plain": [
       "(array([ 4., 11., 15., 24., 35., 22., 26., 14.,  7.,  2.]),\n",
       " array([ 87.68 , 133.463, 179.246, 225.029, 270.812, 316.595, 362.378,\n",
       "        408.161, 453.944, 499.727, 545.51 ]),\n",
       " <BarContainer object of 10 artists>)"
      ]
     },
     "execution_count": 6,
     "metadata": {},
     "output_type": "execute_result"
    },
    {
     "data": {
      "image/png": "[encoded data removed]",
      "text/plain": [
       "<Figure size 432x288 with 1 Axes>"
      ]
     },
     "metadata": {
      "needs_background": "light"
     },
     "output_type": "display_data"
    }
   ],
   "source": [
    "plt.hist(off_yds)"
   ]
  },
  {
   "cell_type": "code",
   "execution_count": 7,
   "id": "5de2f0b9-31d7-4ca7-a73d-08b4b93309fd",
   "metadata": {},
   "outputs": [
    {
     "data": {
      "text/plain": [
       "(array([ 1.,  3., 11., 16., 40., 31., 28., 21.,  5.,  4.]),\n",
       " array([-70.82 , -10.391,  50.038, 110.467, 170.896, 231.325, 291.754,\n",
       "        352.183, 412.612, 473.041, 533.47 ]),\n",
       " <BarContainer object of 10 artists>)"
      ]
     },
     "execution_count": 7,
     "metadata": {},
     "output_type": "execute_result"
    },
    {
     "data": {
      "image/png": "[encoded data removed]",
      "text/plain": [
       "<Figure size 432x288 with 1 Axes>"
      ]
     },
     "metadata": {
      "needs_background": "light"
     },
     "output_type": "display_data"
    }
   ],
   "source": [
    "plt.hist(def_yds)"
   ]
  },
  {
   "cell_type": "code",
   "execution_count": null,
   "id": "fd0738da-b292-4723-b9da-fc8eefe63a29",
   "metadata": {},
   "outputs": [],
   "source": []
  },
  {
   "cell_type": "code",
   "execution_count": 8,
   "id": "a79dd538-d196-4d6a-9116-1ca4735a29a8",
   "metadata": {},
   "outputs": [],
   "source": [
    "nfldf = pd.DataFrame([[def_yds]],columns=['def_yds'])"
   ]
  },
  {
   "cell_type": "code",
   "execution_count": 9,
   "id": "c1b7ba3f-2336-4771-83e3-ece88bcd446c",
   "metadata": {},
   "outputs": [
    {
     "data": {
      "text/html": [
       "<div>\n",
       "<style scoped>\n",
       "    .dataframe tbody tr th:only-of-type {\n",
       "        vertical-align: middle;\n",
       "    }\n",
       "\n",
       "    .dataframe tbody tr th {\n",
       "        vertical-align: top;\n",
       "    }\n",
       "\n",
       "    .dataframe thead th {\n",
       "        text-align: right;\n",
       "    }\n",
       "</style>\n",
       "<table border=\"1\" class=\"dataframe\">\n",
       "  <thead>\n",
       "    <tr style=\"text-align: right;\">\n",
       "      <th></th>\n",
       "      <th>def_yds</th>\n",
       "    </tr>\n",
       "  </thead>\n",
       "  <tbody>\n",
       "    <tr>\n",
       "      <th>0</th>\n",
       "      <td>[123.78, 140.35, 315.01, 203.86, 290.27, 172.9...</td>\n",
       "    </tr>\n",
       "  </tbody>\n",
       "</table>\n",
       "</div>"
      ],
      "text/plain": [
       "                                             def_yds\n",
       "0  [123.78, 140.35, 315.01, 203.86, 290.27, 172.9..."
      ]
     },
     "execution_count": 9,
     "metadata": {},
     "output_type": "execute_result"
    }
   ],
   "source": [
    "nfldf "
   ]
  },
  {
   "cell_type": "code",
   "execution_count": 10,
   "id": "563e22ae-e2f8-4771-8a37-4f5ec643e629",
   "metadata": {},
   "outputs": [],
   "source": [
    "nfldf = pd.DataFrame([[off_yds]],columns=['off_yds'])"
   ]
  },
  {
   "cell_type": "code",
   "execution_count": 11,
   "id": "c65ab1c1-d270-4f10-8584-5a7457bee6c2",
   "metadata": {},
   "outputs": [
    {
     "data": {
      "text/html": [
       "<div>\n",
       "<style scoped>\n",
       "    .dataframe tbody tr th:only-of-type {\n",
       "        vertical-align: middle;\n",
       "    }\n",
       "\n",
       "    .dataframe tbody tr th {\n",
       "        vertical-align: top;\n",
       "    }\n",
       "\n",
       "    .dataframe thead th {\n",
       "        text-align: right;\n",
       "    }\n",
       "</style>\n",
       "<table border=\"1\" class=\"dataframe\">\n",
       "  <thead>\n",
       "    <tr style=\"text-align: right;\">\n",
       "      <th></th>\n",
       "      <th>off_yds</th>\n",
       "    </tr>\n",
       "  </thead>\n",
       "  <tbody>\n",
       "    <tr>\n",
       "      <th>0</th>\n",
       "      <td>[278.89, 275.88, 259.77, 249.61, 455.83, 198.1...</td>\n",
       "    </tr>\n",
       "  </tbody>\n",
       "</table>\n",
       "</div>"
      ],
      "text/plain": [
       "                                             off_yds\n",
       "0  [278.89, 275.88, 259.77, 249.61, 455.83, 198.1..."
      ]
     },
     "execution_count": 11,
     "metadata": {},
     "output_type": "execute_result"
    }
   ],
   "source": [
    "nfldf"
   ]
  },
  {
   "cell_type": "code",
   "execution_count": 12,
   "id": "0ff439b5-b1cd-4c40-bdb4-b479fcad0c3f",
   "metadata": {},
   "outputs": [
    {
     "ename": "ValueError",
     "evalue": "Length of values (160) does not match length of index (1)",
     "output_type": "error",
     "traceback": [
      "\u001b[1;31m---------------------------------------------------------------------------\u001b[0m",
      "\u001b[1;31mValueError\u001b[0m                                Traceback (most recent call last)",
      "\u001b[1;32m<ipython-input-12-0a624f682828>\u001b[0m in \u001b[0;36m<module>\u001b[1;34m\u001b[0m\n\u001b[1;32m----> 1\u001b[1;33m \u001b[0mnfldf\u001b[0m\u001b[1;33m[\u001b[0m\u001b[1;34m'def_yds'\u001b[0m\u001b[1;33m]\u001b[0m \u001b[1;33m=\u001b[0m \u001b[0mdef_yds\u001b[0m\u001b[1;33m\u001b[0m\u001b[1;33m\u001b[0m\u001b[0m\n\u001b[0m",
      "\u001b[1;32m~\\Anaconda3\\lib\\site-packages\\pandas\\core\\frame.py\u001b[0m in \u001b[0;36m__setitem__\u001b[1;34m(self, key, value)\u001b[0m\n\u001b[0;32m   3161\u001b[0m         \u001b[1;32melse\u001b[0m\u001b[1;33m:\u001b[0m\u001b[1;33m\u001b[0m\u001b[1;33m\u001b[0m\u001b[0m\n\u001b[0;32m   3162\u001b[0m             \u001b[1;31m# set column\u001b[0m\u001b[1;33m\u001b[0m\u001b[1;33m\u001b[0m\u001b[1;33m\u001b[0m\u001b[0m\n\u001b[1;32m-> 3163\u001b[1;33m             \u001b[0mself\u001b[0m\u001b[1;33m.\u001b[0m\u001b[0m_set_item\u001b[0m\u001b[1;33m(\u001b[0m\u001b[0mkey\u001b[0m\u001b[1;33m,\u001b[0m \u001b[0mvalue\u001b[0m\u001b[1;33m)\u001b[0m\u001b[1;33m\u001b[0m\u001b[1;33m\u001b[0m\u001b[0m\n\u001b[0m\u001b[0;32m   3164\u001b[0m \u001b[1;33m\u001b[0m\u001b[0m\n\u001b[0;32m   3165\u001b[0m     \u001b[1;32mdef\u001b[0m \u001b[0m_setitem_slice\u001b[0m\u001b[1;33m(\u001b[0m\u001b[0mself\u001b[0m\u001b[1;33m,\u001b[0m \u001b[0mkey\u001b[0m\u001b[1;33m:\u001b[0m \u001b[0mslice\u001b[0m\u001b[1;33m,\u001b[0m \u001b[0mvalue\u001b[0m\u001b[1;33m)\u001b[0m\u001b[1;33m:\u001b[0m\u001b[1;33m\u001b[0m\u001b[1;33m\u001b[0m\u001b[0m\n",
      "\u001b[1;32m~\\Anaconda3\\lib\\site-packages\\pandas\\core\\frame.py\u001b[0m in \u001b[0;36m_set_item\u001b[1;34m(self, key, value)\u001b[0m\n\u001b[0;32m   3240\u001b[0m         \"\"\"\n\u001b[0;32m   3241\u001b[0m         \u001b[0mself\u001b[0m\u001b[1;33m.\u001b[0m\u001b[0m_ensure_valid_index\u001b[0m\u001b[1;33m(\u001b[0m\u001b[0mvalue\u001b[0m\u001b[1;33m)\u001b[0m\u001b[1;33m\u001b[0m\u001b[1;33m\u001b[0m\u001b[0m\n\u001b[1;32m-> 3242\u001b[1;33m         \u001b[0mvalue\u001b[0m \u001b[1;33m=\u001b[0m \u001b[0mself\u001b[0m\u001b[1;33m.\u001b[0m\u001b[0m_sanitize_column\u001b[0m\u001b[1;33m(\u001b[0m\u001b[0mkey\u001b[0m\u001b[1;33m,\u001b[0m \u001b[0mvalue\u001b[0m\u001b[1;33m)\u001b[0m\u001b[1;33m\u001b[0m\u001b[1;33m\u001b[0m\u001b[0m\n\u001b[0m\u001b[0;32m   3243\u001b[0m         \u001b[0mNDFrame\u001b[0m\u001b[1;33m.\u001b[0m\u001b[0m_set_item\u001b[0m\u001b[1;33m(\u001b[0m\u001b[0mself\u001b[0m\u001b[1;33m,\u001b[0m \u001b[0mkey\u001b[0m\u001b[1;33m,\u001b[0m \u001b[0mvalue\u001b[0m\u001b[1;33m)\u001b[0m\u001b[1;33m\u001b[0m\u001b[1;33m\u001b[0m\u001b[0m\n\u001b[0;32m   3244\u001b[0m \u001b[1;33m\u001b[0m\u001b[0m\n",
      "\u001b[1;32m~\\Anaconda3\\lib\\site-packages\\pandas\\core\\frame.py\u001b[0m in \u001b[0;36m_sanitize_column\u001b[1;34m(self, key, value, broadcast)\u001b[0m\n\u001b[0;32m   3897\u001b[0m \u001b[1;33m\u001b[0m\u001b[0m\n\u001b[0;32m   3898\u001b[0m             \u001b[1;31m# turn me into an ndarray\u001b[0m\u001b[1;33m\u001b[0m\u001b[1;33m\u001b[0m\u001b[1;33m\u001b[0m\u001b[0m\n\u001b[1;32m-> 3899\u001b[1;33m             \u001b[0mvalue\u001b[0m \u001b[1;33m=\u001b[0m \u001b[0msanitize_index\u001b[0m\u001b[1;33m(\u001b[0m\u001b[0mvalue\u001b[0m\u001b[1;33m,\u001b[0m \u001b[0mself\u001b[0m\u001b[1;33m.\u001b[0m\u001b[0mindex\u001b[0m\u001b[1;33m)\u001b[0m\u001b[1;33m\u001b[0m\u001b[1;33m\u001b[0m\u001b[0m\n\u001b[0m\u001b[0;32m   3900\u001b[0m             \u001b[1;32mif\u001b[0m \u001b[1;32mnot\u001b[0m \u001b[0misinstance\u001b[0m\u001b[1;33m(\u001b[0m\u001b[0mvalue\u001b[0m\u001b[1;33m,\u001b[0m \u001b[1;33m(\u001b[0m\u001b[0mnp\u001b[0m\u001b[1;33m.\u001b[0m\u001b[0mndarray\u001b[0m\u001b[1;33m,\u001b[0m \u001b[0mIndex\u001b[0m\u001b[1;33m)\u001b[0m\u001b[1;33m)\u001b[0m\u001b[1;33m:\u001b[0m\u001b[1;33m\u001b[0m\u001b[1;33m\u001b[0m\u001b[0m\n\u001b[0;32m   3901\u001b[0m                 \u001b[1;32mif\u001b[0m \u001b[0misinstance\u001b[0m\u001b[1;33m(\u001b[0m\u001b[0mvalue\u001b[0m\u001b[1;33m,\u001b[0m \u001b[0mlist\u001b[0m\u001b[1;33m)\u001b[0m \u001b[1;32mand\u001b[0m \u001b[0mlen\u001b[0m\u001b[1;33m(\u001b[0m\u001b[0mvalue\u001b[0m\u001b[1;33m)\u001b[0m \u001b[1;33m>\u001b[0m \u001b[1;36m0\u001b[0m\u001b[1;33m:\u001b[0m\u001b[1;33m\u001b[0m\u001b[1;33m\u001b[0m\u001b[0m\n",
      "\u001b[1;32m~\\Anaconda3\\lib\\site-packages\\pandas\\core\\internals\\construction.py\u001b[0m in \u001b[0;36msanitize_index\u001b[1;34m(data, index)\u001b[0m\n\u001b[0;32m    749\u001b[0m     \"\"\"\n\u001b[0;32m    750\u001b[0m     \u001b[1;32mif\u001b[0m \u001b[0mlen\u001b[0m\u001b[1;33m(\u001b[0m\u001b[0mdata\u001b[0m\u001b[1;33m)\u001b[0m \u001b[1;33m!=\u001b[0m \u001b[0mlen\u001b[0m\u001b[1;33m(\u001b[0m\u001b[0mindex\u001b[0m\u001b[1;33m)\u001b[0m\u001b[1;33m:\u001b[0m\u001b[1;33m\u001b[0m\u001b[1;33m\u001b[0m\u001b[0m\n\u001b[1;32m--> 751\u001b[1;33m         raise ValueError(\n\u001b[0m\u001b[0;32m    752\u001b[0m             \u001b[1;34m\"Length of values \"\u001b[0m\u001b[1;33m\u001b[0m\u001b[1;33m\u001b[0m\u001b[0m\n\u001b[0;32m    753\u001b[0m             \u001b[1;34mf\"({len(data)}) \"\u001b[0m\u001b[1;33m\u001b[0m\u001b[1;33m\u001b[0m\u001b[0m\n",
      "\u001b[1;31mValueError\u001b[0m: Length of values (160) does not match length of index (1)"
     ]
    }
   ],
   "source": [
    "nfldf['def_yds'] = def_yds"
   ]
  },
  {
   "cell_type": "code",
   "execution_count": null,
   "id": "dd4a6723-2bc3-4ff5-b3c0-dde84317a517",
   "metadata": {},
   "outputs": [],
   "source": []
  }
 ],
 "metadata": {
  "kernelspec": {
   "display_name": "Python 3",
   "language": "python",
   "name": "python3"
  },
  "language_info": {
   "codemirror_mode": {
    "name": "ipython",
    "version": 3
   },
   "file_extension": ".py",
   "mimetype": "text/x-python",
   "name": "python",
   "nbconvert_exporter": "python",
   "pygments_lexer": "ipython3",
   "version": "3.8.8"
  }
 },
 "nbformat": 4,
 "nbformat_minor": 5
}
