{
 "cells": [
  {
   "cell_type": "markdown",
   "id": "d3c09f32-6b7c-4ef0-a04d-d12c2ec2e032",
   "metadata": {},
   "source": [
    "# Introduction"
   ]
  },
  {
   "cell_type": "markdown",
   "id": "f48df33e-a3ad-44c1-b8d3-c94143e46bd8",
   "metadata": {},
   "source": [
    "This repository contains all of the files pertaining to my 2021 project submission for the Programming for Data Analysis module of the GMIT H.Dip program in Data Analytics. All of the work contained within this repository was carried out over the course of a 3 week period in December 2021. This Jupyter notebook contains the complete documentation for the project."
   ]
  },
  {
   "cell_type": "markdown",
   "id": "ab583655-10b2-400f-be5f-ae07994ae175",
   "metadata": {},
   "source": [
    "### 1.1 Project objective\n",
    "The objective of this project is to synthesise a data set based on some real world phenomenon. This requires investigation in to the phenomenon and then using the numpy.random package in Python to simulated some data based on this. The problem statement for the assignment is as follows :\n",
    "\n",
    "1. Choose a real-world phenomenon that can be measured and for which you could collect at least one-hundred data points across at least four different variables.  \n",
    "2. Investigate the types of variables involved, their likely distributions, and their relationships with each other.\n",
    "3. Synthesise/simulate a data set as closely matching their properties as possible.\n",
    "4. Detail your research and implement the simulation in a Jupyter notebook – the data set itself can simply be displayed in an output cell within the notebook."
   ]
  },
  {
   "cell_type": "markdown",
   "id": "7d1ed2cb-6a1b-437a-8cf4-1043255db275",
   "metadata": {},
   "source": [
    "### 1.2 Choice of real world phenomenon"
   ]
  },
  {
   "cell_type": "markdown",
   "id": "a66a8a46-db89-4595-9634-b5085071b67d",
   "metadata": {},
   "source": [
    "The dataset I have choosen to synthesise is not a big data set but it is of interest to me as I like to consider myself a movie buff, like a high percentage of 30 somethings who need to justify the amount of time we spend in front of the screen.  \n",
    "The dataset I am going to synthesise lists various information such as the tickets sold each year along with its total box office (including adjusted box office due to inflammation) and average ticket price from 1995 to 2021.  \n",
    "**NB. This is based on the US Box office.**\n",
    "\n",
    "As we all know (or at least could have guessed) the moive industry - espically the cinema industry - like many others has been decimated in the last two years because of covid-19. We know that attendance and profits will be way way down to the previous 24 years, as the cinemas were simply not allowed to open.  However before this pandemic there were already rumblings of how the profit margins and attendance for theatrical releases was not as stable as it had been in recent years.  \n",
    "This is due to a number of factors such as the advent of the the Netflix streaming models and technologiy advancement, many of the public are now able to recreate the cinema expierence at home with surround sound and high definition televisions.\n",
    "Also this type of data may be extremly valuable in the years to come as the cinema industry tries to bounce back after its back to back least profitable years in a long time, as it may use this type of historical data to analyse in order to help with decision makings in the future. Althogh the data they will be analyising would almost certinaly be more granular to inculude things like what movie generes are making the most money and the data would probably be broken down daily or weekly rather than anually - however for the purposes of this project \"data simulation\" this should suffice.\n",
    "\n",
    "\n"
   ]
  },
  {
   "cell_type": "markdown",
   "id": "3cafbf86-9138-42f4-81b5-64b03a6213f5",
   "metadata": {},
   "source": [
    "### 1.3 Choosing the original data set"
   ]
  },
  {
   "cell_type": "markdown",
   "id": "71433ecb-1097-492e-8cbb-7b0b33c9e2c8",
   "metadata": {},
   "source": [
    "The original data set I found to try to simulate is on Kaggle - a website that has a wide selection of datasets to choose from - to the point the choosing of the data set was more stressful than the analysis and simulation.  \n",
    "Scrolling through the datasets I was trying to give myself the best oppertunity and was looking at massive datasets, some to do with the rate astroids hit our atmosphere, a popular dataset about the titanic kept popping up and plenty of weather related and health related datasets.\n",
    "I must have gone throgh 50-60 data sets before settling on a sports dataset - NFL(American Football) - and then changed my mind a week later. \n",
    "I passed on some of the datasets for reasons that if I had to do over I may not have. For example I excluded many of the original datasets to work off simply because they did not have enough numerical walues in the columns - after the project and some research I feel that this was a mistake, I was afraid of how difficult it would be to generate specific strings in specific trends using numpy - after doing further research that cropped up during the project it turns out it would probably not have been that bad. Of course the Iris Data set was also an option - but that dataset cannot be the cornersone of every project.  \n",
    "The reason I changed my mind from the NFL data was a little differnt - it was all numerical so no problem there, however there was so much of it - up to 20 columns in some data sets and because I watch the games and follow the sport alot I found everything was important and I just knew that trying to corrolate how each column effects the other was going to be a nightmare and to be honest I did not think I was prepared for that type of complexity as of yet.  \n",
    "The reason I chose the cinema attendance data set was for a number of reasons:\n",
    "1. As I said above I like movies and going to the cinema and was interested to visualise how the industry had been effected over the past quarter century.\n",
    "2. I wanted to see if the mutterings were true - was the cinema expierence dying pre covid anyway and the pandemic just sped up the process?\n",
    "3. The dataset was interesting as it has a couple of different distribution types that will be dicussed further on in the notebook - for example the avrage ticket price was almost certanly going to go up every year to match inflation, but would the attendance and box-office intake reflect that? These questions and analysis would determin what tools I used when simulating the data\n",
    "4. The dataset looked more interesting to me and I was able to make some obvious assumptions about which variables and their values were most closely related - this helped with the anxiety.\n",
    "\n",
    "\n",
    "\n",
    "https://www.kaggle.com/johnharshith/hollywood-theatrical-market-synopsis-1995-to-2021\n"
   ]
  },
  {
   "cell_type": "markdown",
   "id": "8722b578-11f0-4d2e-bc68-4efd3d714e11",
   "metadata": {},
   "source": [
    "### 1.4 Contents of the original data set"
   ]
  },
  {
   "cell_type": "markdown",
   "id": "1460c054-e8ad-466e-993e-2073a0d07c96",
   "metadata": {},
   "source": [
    "The original dataset consists of 5 columns each with 26 rows (one row for each year from 1995 - 2021).  \n",
    "The Column headers are:\n",
    "1. **YEAR** - Year in which the corresponding theatrical market data has been collected.  \n",
    "2. **TICKETS SOLD** - The total number of domestic movie tickets sold in each of the respective years,  \n",
    "3. **TOTAL BOX OFFICE** - Total box office collection combined of all movies released that particular year considered.  \n",
    "4. **TOTAL INFLATION ADJUSTED BOX OFFICE** - Adjusted box office collection with respect to the inflammation that has been caused over time.  \n",
    "5. **AVERAGE TICKET PRICE** - The average ticket price considering all films released that particular year considered.  \n",
    "\n",
    "There are 135 datapoints across the 5 columns. This is a small data set by any standards however because of the disrtibutions I will be able to expand this to 50 or 100 years in the simulation if I wish."
   ]
  },
  {
   "cell_type": "code",
   "execution_count": null,
   "id": "6683f72d-f1ec-486d-a296-a51be448eb61",
   "metadata": {},
   "outputs": [],
   "source": []
  },
  {
   "cell_type": "code",
   "execution_count": null,
   "id": "91b7c25f-f335-4abb-b3f2-38375f4a1b94",
   "metadata": {},
   "outputs": [],
   "source": []
  },
  {
   "cell_type": "code",
   "execution_count": null,
   "id": "50d25c2d-040d-4d1a-9167-048aaf1647df",
   "metadata": {},
   "outputs": [],
   "source": []
  },
  {
   "cell_type": "code",
   "execution_count": null,
   "id": "8938720a-46cc-446b-8bf7-61c8ed3ec632",
   "metadata": {},
   "outputs": [],
   "source": []
  },
  {
   "cell_type": "code",
   "execution_count": null,
   "id": "e0f0ed74-f2c2-4218-b16d-68eaa001fd44",
   "metadata": {},
   "outputs": [],
   "source": []
  },
  {
   "cell_type": "markdown",
   "id": "088fa308-8ad2-4900-a57c-17882a37cd28",
   "metadata": {},
   "source": [
    "### About this notebook and python libraries used\n",
    "\n",
    "This project was developed using python and its following packages:\n",
    "\n",
    " - Seaborn  is a Python data visualization library for making attractive and informative statistical graphics in Python.\n",
    " - Pandas  provides data analysis tools and is designed for working with tabular data that contains an ordered collection of columns where each column can have a different value type.\n",
    " - NumPy is the fundamental package for scientific computing in Python.  \n",
    " - Numpy.random is a subpackage of the NumPy package for working with random numbers. NumPy is one of the most important packages for numerical and scientific computing in Python.\n",
    " - Scipy is a collection of mathematical algorithms and convenience functions built on the NumPy extension of Python"
   ]
  },
  {
   "cell_type": "markdown",
   "id": "0a731b6e-cb87-4086-b228-fa88fadbc857",
   "metadata": {},
   "source": [
    "### Import Packages for notebook"
   ]
  },
  {
   "cell_type": "markdown",
   "id": "878e63f2-0cb3-4574-8854-bfcef996543e",
   "metadata": {},
   "source": [
    "Next I will import the packages I used in the creation of this notebook"
   ]
  },
  {
   "cell_type": "code",
   "execution_count": 1,
   "id": "6bdc8f14-8d3b-42df-bd88-3bc55f16f230",
   "metadata": {},
   "outputs": [],
   "source": [
    "import pandas as pd\n",
    "import numpy as np\n",
    "import numpy.random as rd\n",
    "import matplotlib.pyplot as plt \n",
    "import scipy as stats\n",
    "import seaborn as sns\n",
    "import random as random"
   ]
  },
  {
   "cell_type": "markdown",
   "id": "7c6dbd56-7f52-4cd6-8c87-3c5847ef0bf1",
   "metadata": {},
   "source": [
    "### Read in original data for analysis "
   ]
  },
  {
   "cell_type": "code",
   "execution_count": 2,
   "id": "93e3ac07-3f4a-4750-8f36-359fb119d4b9",
   "metadata": {},
   "outputs": [],
   "source": [
    "# Read in the data\n",
    "AnnualTicketSales = pd.read_csv('AnnualTicketSales.csv')"
   ]
  },
  {
   "cell_type": "code",
   "execution_count": 3,
   "id": "d64472d9-0d14-4d4f-b8ed-e2575f1c9700",
   "metadata": {},
   "outputs": [
    {
     "data": {
      "text/html": [
       "<div>\n",
       "<style scoped>\n",
       "    .dataframe tbody tr th:only-of-type {\n",
       "        vertical-align: middle;\n",
       "    }\n",
       "\n",
       "    .dataframe tbody tr th {\n",
       "        vertical-align: top;\n",
       "    }\n",
       "\n",
       "    .dataframe thead th {\n",
       "        text-align: right;\n",
       "    }\n",
       "</style>\n",
       "<table border=\"1\" class=\"dataframe\">\n",
       "  <thead>\n",
       "    <tr style=\"text-align: right;\">\n",
       "      <th></th>\n",
       "      <th>YEAR</th>\n",
       "      <th>TICKETS SOLD</th>\n",
       "      <th>TOTAL BOX OFFICE</th>\n",
       "      <th>TOTAL INFLATION ADJUSTED BOX OFFICE</th>\n",
       "      <th>AVERAGE TICKET PRICE</th>\n",
       "      <th>Unnamed: 5</th>\n",
       "    </tr>\n",
       "  </thead>\n",
       "  <tbody>\n",
       "    <tr>\n",
       "      <th>0</th>\n",
       "      <td>2021</td>\n",
       "      <td>42,37,74,881</td>\n",
       "      <td>$3,881,777,912</td>\n",
       "      <td>$3,881,777,912</td>\n",
       "      <td>$9.16</td>\n",
       "      <td>NaN</td>\n",
       "    </tr>\n",
       "    <tr>\n",
       "      <th>1</th>\n",
       "      <td>2020</td>\n",
       "      <td>22,36,38,958</td>\n",
       "      <td>$2,048,534,616</td>\n",
       "      <td>$2,048,534,616</td>\n",
       "      <td>$9.16</td>\n",
       "      <td>NaN</td>\n",
       "    </tr>\n",
       "    <tr>\n",
       "      <th>2</th>\n",
       "      <td>2019</td>\n",
       "      <td>1,22,85,41,629</td>\n",
       "      <td>$11,253,443,955</td>\n",
       "      <td>$11,253,444,050</td>\n",
       "      <td>$9.16</td>\n",
       "      <td>NaN</td>\n",
       "    </tr>\n",
       "    <tr>\n",
       "      <th>3</th>\n",
       "      <td>2018</td>\n",
       "      <td>1,31,15,36,128</td>\n",
       "      <td>$11,948,096,650</td>\n",
       "      <td>$12,013,670,952</td>\n",
       "      <td>$9.11</td>\n",
       "      <td>NaN</td>\n",
       "    </tr>\n",
       "    <tr>\n",
       "      <th>4</th>\n",
       "      <td>2017</td>\n",
       "      <td>1,22,56,39,761</td>\n",
       "      <td>$10,993,991,460</td>\n",
       "      <td>$11,226,860,216</td>\n",
       "      <td>$8.97</td>\n",
       "      <td>NaN</td>\n",
       "    </tr>\n",
       "    <tr>\n",
       "      <th>5</th>\n",
       "      <td>2016</td>\n",
       "      <td>1,30,25,56,378</td>\n",
       "      <td>$11,267,115,924</td>\n",
       "      <td>$11,931,416,424</td>\n",
       "      <td>$8.65</td>\n",
       "      <td>NaN</td>\n",
       "    </tr>\n",
       "    <tr>\n",
       "      <th>6</th>\n",
       "      <td>2015</td>\n",
       "      <td>1,32,33,56,776</td>\n",
       "      <td>$11,155,900,636</td>\n",
       "      <td>$12,121,948,075</td>\n",
       "      <td>$8.43</td>\n",
       "      <td>NaN</td>\n",
       "    </tr>\n",
       "    <tr>\n",
       "      <th>7</th>\n",
       "      <td>2014</td>\n",
       "      <td>1,25,74,02,920</td>\n",
       "      <td>$10,272,985,008</td>\n",
       "      <td>$11,517,810,744</td>\n",
       "      <td>$8.17</td>\n",
       "      <td>NaN</td>\n",
       "    </tr>\n",
       "    <tr>\n",
       "      <th>8</th>\n",
       "      <td>2013</td>\n",
       "      <td>1,33,91,68,926</td>\n",
       "      <td>$10,887,446,341</td>\n",
       "      <td>$12,266,787,382</td>\n",
       "      <td>$8.13</td>\n",
       "      <td>NaN</td>\n",
       "    </tr>\n",
       "    <tr>\n",
       "      <th>9</th>\n",
       "      <td>2012</td>\n",
       "      <td>1,38,09,21,942</td>\n",
       "      <td>$10,992,141,616</td>\n",
       "      <td>$12,649,244,986</td>\n",
       "      <td>$7.96</td>\n",
       "      <td>NaN</td>\n",
       "    </tr>\n",
       "    <tr>\n",
       "      <th>10</th>\n",
       "      <td>2011</td>\n",
       "      <td>1,28,29,15,168</td>\n",
       "      <td>$10,173,519,704</td>\n",
       "      <td>$11,751,502,955</td>\n",
       "      <td>$7.93</td>\n",
       "      <td>NaN</td>\n",
       "    </tr>\n",
       "    <tr>\n",
       "      <th>11</th>\n",
       "      <td>2010</td>\n",
       "      <td>1,32,85,49,021</td>\n",
       "      <td>$10,482,254,025</td>\n",
       "      <td>$12,169,509,032</td>\n",
       "      <td>$7.89</td>\n",
       "      <td>NaN</td>\n",
       "    </tr>\n",
       "    <tr>\n",
       "      <th>12</th>\n",
       "      <td>2009</td>\n",
       "      <td>1,41,85,67,388</td>\n",
       "      <td>$10,639,257,284</td>\n",
       "      <td>$12,994,051,137</td>\n",
       "      <td>$7.50</td>\n",
       "      <td>NaN</td>\n",
       "    </tr>\n",
       "    <tr>\n",
       "      <th>13</th>\n",
       "      <td>2008</td>\n",
       "      <td>1,35,80,42,073</td>\n",
       "      <td>$9,750,744,148</td>\n",
       "      <td>$12,439,665,380</td>\n",
       "      <td>$7.18</td>\n",
       "      <td>NaN</td>\n",
       "    </tr>\n",
       "    <tr>\n",
       "      <th>14</th>\n",
       "      <td>2007</td>\n",
       "      <td>1,42,00,36,680</td>\n",
       "      <td>$9,769,854,914</td>\n",
       "      <td>$13,007,535,993</td>\n",
       "      <td>$6.88</td>\n",
       "      <td>NaN</td>\n",
       "    </tr>\n",
       "    <tr>\n",
       "      <th>15</th>\n",
       "      <td>2006</td>\n",
       "      <td>1,39,87,38,283</td>\n",
       "      <td>$9,161,738,221</td>\n",
       "      <td>$12,812,442,671</td>\n",
       "      <td>$6.55</td>\n",
       "      <td>NaN</td>\n",
       "    </tr>\n",
       "    <tr>\n",
       "      <th>16</th>\n",
       "      <td>2005</td>\n",
       "      <td>1,37,29,80,280</td>\n",
       "      <td>$8,800,805,718</td>\n",
       "      <td>$12,576,499,367</td>\n",
       "      <td>$6.41</td>\n",
       "      <td>NaN</td>\n",
       "    </tr>\n",
       "    <tr>\n",
       "      <th>17</th>\n",
       "      <td>2004</td>\n",
       "      <td>1,49,56,51,298</td>\n",
       "      <td>$9,287,996,519</td>\n",
       "      <td>$13,700,165,883</td>\n",
       "      <td>$6.21</td>\n",
       "      <td>NaN</td>\n",
       "    </tr>\n",
       "    <tr>\n",
       "      <th>18</th>\n",
       "      <td>2003</td>\n",
       "      <td>1,52,45,89,620</td>\n",
       "      <td>$9,193,277,289</td>\n",
       "      <td>$13,965,240,914</td>\n",
       "      <td>$6.03</td>\n",
       "      <td>NaN</td>\n",
       "    </tr>\n",
       "    <tr>\n",
       "      <th>19</th>\n",
       "      <td>2002</td>\n",
       "      <td>1,57,57,56,527</td>\n",
       "      <td>$9,155,147,215</td>\n",
       "      <td>$14,433,929,789</td>\n",
       "      <td>$5.81</td>\n",
       "      <td>NaN</td>\n",
       "    </tr>\n",
       "    <tr>\n",
       "      <th>20</th>\n",
       "      <td>2001</td>\n",
       "      <td>1,46,58,74,205</td>\n",
       "      <td>$8,296,849,636</td>\n",
       "      <td>$13,427,407,722</td>\n",
       "      <td>$5.66</td>\n",
       "      <td>NaN</td>\n",
       "    </tr>\n",
       "    <tr>\n",
       "      <th>21</th>\n",
       "      <td>2000</td>\n",
       "      <td>1,39,74,60,079</td>\n",
       "      <td>$7,532,311,479</td>\n",
       "      <td>$12,800,734,319</td>\n",
       "      <td>$5.39</td>\n",
       "      <td>NaN</td>\n",
       "    </tr>\n",
       "    <tr>\n",
       "      <th>22</th>\n",
       "      <td>1999</td>\n",
       "      <td>1,44,46,64,086</td>\n",
       "      <td>$7,338,894,852</td>\n",
       "      <td>$13,233,123,027</td>\n",
       "      <td>$5.08</td>\n",
       "      <td>NaN</td>\n",
       "    </tr>\n",
       "    <tr>\n",
       "      <th>23</th>\n",
       "      <td>1998</td>\n",
       "      <td>1,44,38,32,471</td>\n",
       "      <td>$6,771,575,283</td>\n",
       "      <td>$13,225,505,439</td>\n",
       "      <td>$4.69</td>\n",
       "      <td>NaN</td>\n",
       "    </tr>\n",
       "    <tr>\n",
       "      <th>24</th>\n",
       "      <td>1997</td>\n",
       "      <td>1,35,73,49,648</td>\n",
       "      <td>$6,230,235,770</td>\n",
       "      <td>$12,433,322,785</td>\n",
       "      <td>$4.59</td>\n",
       "      <td>NaN</td>\n",
       "    </tr>\n",
       "    <tr>\n",
       "      <th>25</th>\n",
       "      <td>1996</td>\n",
       "      <td>1,30,52,21,290</td>\n",
       "      <td>$5,769,078,886</td>\n",
       "      <td>$11,955,781,912</td>\n",
       "      <td>$4.42</td>\n",
       "      <td>NaN</td>\n",
       "    </tr>\n",
       "    <tr>\n",
       "      <th>26</th>\n",
       "      <td>1995</td>\n",
       "      <td>1,22,17,05,907</td>\n",
       "      <td>$5,314,421,390</td>\n",
       "      <td>$11,190,826,105</td>\n",
       "      <td>$4.35</td>\n",
       "      <td>NaN</td>\n",
       "    </tr>\n",
       "  </tbody>\n",
       "</table>\n",
       "</div>"
      ],
      "text/plain": [
       "    YEAR    TICKETS SOLD TOTAL BOX OFFICE TOTAL INFLATION ADJUSTED BOX OFFICE  \\\n",
       "0   2021    42,37,74,881   $3,881,777,912                      $3,881,777,912   \n",
       "1   2020    22,36,38,958   $2,048,534,616                      $2,048,534,616   \n",
       "2   2019  1,22,85,41,629  $11,253,443,955                     $11,253,444,050   \n",
       "3   2018  1,31,15,36,128  $11,948,096,650                     $12,013,670,952   \n",
       "4   2017  1,22,56,39,761  $10,993,991,460                     $11,226,860,216   \n",
       "5   2016  1,30,25,56,378  $11,267,115,924                     $11,931,416,424   \n",
       "6   2015  1,32,33,56,776  $11,155,900,636                     $12,121,948,075   \n",
       "7   2014  1,25,74,02,920  $10,272,985,008                     $11,517,810,744   \n",
       "8   2013  1,33,91,68,926  $10,887,446,341                     $12,266,787,382   \n",
       "9   2012  1,38,09,21,942  $10,992,141,616                     $12,649,244,986   \n",
       "10  2011  1,28,29,15,168  $10,173,519,704                     $11,751,502,955   \n",
       "11  2010  1,32,85,49,021  $10,482,254,025                     $12,169,509,032   \n",
       "12  2009  1,41,85,67,388  $10,639,257,284                     $12,994,051,137   \n",
       "13  2008  1,35,80,42,073   $9,750,744,148                     $12,439,665,380   \n",
       "14  2007  1,42,00,36,680   $9,769,854,914                     $13,007,535,993   \n",
       "15  2006  1,39,87,38,283   $9,161,738,221                     $12,812,442,671   \n",
       "16  2005  1,37,29,80,280   $8,800,805,718                     $12,576,499,367   \n",
       "17  2004  1,49,56,51,298   $9,287,996,519                     $13,700,165,883   \n",
       "18  2003  1,52,45,89,620   $9,193,277,289                     $13,965,240,914   \n",
       "19  2002  1,57,57,56,527   $9,155,147,215                     $14,433,929,789   \n",
       "20  2001  1,46,58,74,205   $8,296,849,636                     $13,427,407,722   \n",
       "21  2000  1,39,74,60,079   $7,532,311,479                     $12,800,734,319   \n",
       "22  1999  1,44,46,64,086   $7,338,894,852                     $13,233,123,027   \n",
       "23  1998  1,44,38,32,471   $6,771,575,283                     $13,225,505,439   \n",
       "24  1997  1,35,73,49,648   $6,230,235,770                     $12,433,322,785   \n",
       "25  1996  1,30,52,21,290   $5,769,078,886                     $11,955,781,912   \n",
       "26  1995  1,22,17,05,907   $5,314,421,390                     $11,190,826,105   \n",
       "\n",
       "   AVERAGE TICKET PRICE  Unnamed: 5  \n",
       "0                 $9.16         NaN  \n",
       "1                 $9.16         NaN  \n",
       "2                 $9.16         NaN  \n",
       "3                 $9.11         NaN  \n",
       "4                 $8.97         NaN  \n",
       "5                 $8.65         NaN  \n",
       "6                 $8.43         NaN  \n",
       "7                 $8.17         NaN  \n",
       "8                 $8.13         NaN  \n",
       "9                 $7.96         NaN  \n",
       "10                $7.93         NaN  \n",
       "11                $7.89         NaN  \n",
       "12                $7.50         NaN  \n",
       "13                $7.18         NaN  \n",
       "14                $6.88         NaN  \n",
       "15                $6.55         NaN  \n",
       "16                $6.41         NaN  \n",
       "17                $6.21         NaN  \n",
       "18                $6.03         NaN  \n",
       "19                $5.81         NaN  \n",
       "20                $5.66         NaN  \n",
       "21                $5.39         NaN  \n",
       "22                $5.08         NaN  \n",
       "23                $4.69         NaN  \n",
       "24                $4.59         NaN  \n",
       "25                $4.42         NaN  \n",
       "26                $4.35         NaN  "
      ]
     },
     "execution_count": 3,
     "metadata": {},
     "output_type": "execute_result"
    }
   ],
   "source": [
    "# Have a look at the data set\n",
    "AnnualTicketSales"
   ]
  },
  {
   "cell_type": "markdown",
   "id": "e7087f04-97ea-4dde-a30c-e03632fef263",
   "metadata": {},
   "source": [
    "There are a number of things I can see from the original dataset that may cause me problems when I try to do some analysis\n",
    "1. Straight away I can see the original dataset is bringing in an unnamed column so I am going to get rid of that before starting my analysis.  \n",
    "2. Secondly the dollar signs in front of the figures may cause a problem later so I will also remove then.\n",
    "3. Also I can see that in the TICKETS SOLD column there are commas in the incorrect places - so I am going to remove all commas from the data - I should be able to remove the commas and $ at the same time.\n"
   ]
  },
  {
   "cell_type": "code",
   "execution_count": 4,
   "id": "b5630a31-a0ef-451d-843a-9d9f58bf8b6a",
   "metadata": {},
   "outputs": [],
   "source": [
    "# Remove unnamed column\n",
    "AnnualTicketSales = AnnualTicketSales.loc[:, ~AnnualTicketSales.columns.str.contains('^Unnamed')]"
   ]
  },
  {
   "cell_type": "code",
   "execution_count": 5,
   "id": "0798ef63-f367-419a-91cd-9cbea6e4bc8a",
   "metadata": {},
   "outputs": [
    {
     "data": {
      "text/html": [
       "<div>\n",
       "<style scoped>\n",
       "    .dataframe tbody tr th:only-of-type {\n",
       "        vertical-align: middle;\n",
       "    }\n",
       "\n",
       "    .dataframe tbody tr th {\n",
       "        vertical-align: top;\n",
       "    }\n",
       "\n",
       "    .dataframe thead th {\n",
       "        text-align: right;\n",
       "    }\n",
       "</style>\n",
       "<table border=\"1\" class=\"dataframe\">\n",
       "  <thead>\n",
       "    <tr style=\"text-align: right;\">\n",
       "      <th></th>\n",
       "      <th>YEAR</th>\n",
       "      <th>TICKETS SOLD</th>\n",
       "      <th>TOTAL BOX OFFICE</th>\n",
       "      <th>TOTAL INFLATION ADJUSTED BOX OFFICE</th>\n",
       "      <th>AVERAGE TICKET PRICE</th>\n",
       "    </tr>\n",
       "  </thead>\n",
       "  <tbody>\n",
       "    <tr>\n",
       "      <th>0</th>\n",
       "      <td>2021</td>\n",
       "      <td>42,37,74,881</td>\n",
       "      <td>$3,881,777,912</td>\n",
       "      <td>$3,881,777,912</td>\n",
       "      <td>$9.16</td>\n",
       "    </tr>\n",
       "    <tr>\n",
       "      <th>1</th>\n",
       "      <td>2020</td>\n",
       "      <td>22,36,38,958</td>\n",
       "      <td>$2,048,534,616</td>\n",
       "      <td>$2,048,534,616</td>\n",
       "      <td>$9.16</td>\n",
       "    </tr>\n",
       "    <tr>\n",
       "      <th>2</th>\n",
       "      <td>2019</td>\n",
       "      <td>1,22,85,41,629</td>\n",
       "      <td>$11,253,443,955</td>\n",
       "      <td>$11,253,444,050</td>\n",
       "      <td>$9.16</td>\n",
       "    </tr>\n",
       "    <tr>\n",
       "      <th>3</th>\n",
       "      <td>2018</td>\n",
       "      <td>1,31,15,36,128</td>\n",
       "      <td>$11,948,096,650</td>\n",
       "      <td>$12,013,670,952</td>\n",
       "      <td>$9.11</td>\n",
       "    </tr>\n",
       "    <tr>\n",
       "      <th>4</th>\n",
       "      <td>2017</td>\n",
       "      <td>1,22,56,39,761</td>\n",
       "      <td>$10,993,991,460</td>\n",
       "      <td>$11,226,860,216</td>\n",
       "      <td>$8.97</td>\n",
       "    </tr>\n",
       "  </tbody>\n",
       "</table>\n",
       "</div>"
      ],
      "text/plain": [
       "   YEAR    TICKETS SOLD TOTAL BOX OFFICE TOTAL INFLATION ADJUSTED BOX OFFICE  \\\n",
       "0  2021    42,37,74,881   $3,881,777,912                      $3,881,777,912   \n",
       "1  2020    22,36,38,958   $2,048,534,616                      $2,048,534,616   \n",
       "2  2019  1,22,85,41,629  $11,253,443,955                     $11,253,444,050   \n",
       "3  2018  1,31,15,36,128  $11,948,096,650                     $12,013,670,952   \n",
       "4  2017  1,22,56,39,761  $10,993,991,460                     $11,226,860,216   \n",
       "\n",
       "  AVERAGE TICKET PRICE  \n",
       "0                $9.16  \n",
       "1                $9.16  \n",
       "2                $9.16  \n",
       "3                $9.11  \n",
       "4                $8.97  "
      ]
     },
     "execution_count": 5,
     "metadata": {},
     "output_type": "execute_result"
    }
   ],
   "source": [
    "# check to make sure column is removed\n",
    "AnnualTicketSales.head()"
   ]
  },
  {
   "cell_type": "code",
   "execution_count": 6,
   "id": "0afd2bf0-a853-42d1-94ca-6f58d8ec8bb9",
   "metadata": {},
   "outputs": [
    {
     "data": {
      "text/plain": [
       "YEAR                                    int64\n",
       "TICKETS SOLD                           object\n",
       "TOTAL BOX OFFICE                       object\n",
       "TOTAL INFLATION ADJUSTED BOX OFFICE    object\n",
       "AVERAGE TICKET PRICE                   object\n",
       "dtype: object"
      ]
     },
     "execution_count": 6,
     "metadata": {},
     "output_type": "execute_result"
    }
   ],
   "source": [
    "# Check what the real world data set columns look like\n",
    "AnnualTicketSales.dtypes"
   ]
  },
  {
   "cell_type": "markdown",
   "id": "cbc0a8cd-e02f-4316-99ec-f1e29780d25b",
   "metadata": {},
   "source": [
    "The year is INT but the rest of the data types are objects - I think this may need to be changed later.  \n",
    "But first I will remove the commas and $."
   ]
  },
  {
   "cell_type": "code",
   "execution_count": 7,
   "id": "dade826c-90c9-4f11-bbd4-14ed22b85ab0",
   "metadata": {},
   "outputs": [],
   "source": [
    "# Grouping the columns so I can remove the specific characters\n",
    "cols = ['TICKETS SOLD','TOTAL BOX OFFICE', \n",
    "        'TOTAL INFLATION ADJUSTED BOX OFFICE','AVERAGE TICKET PRICE']"
   ]
  },
  {
   "cell_type": "code",
   "execution_count": 8,
   "id": "d67d3041-ec65-4d57-a457-a387df14d2bf",
   "metadata": {},
   "outputs": [
    {
     "name": "stderr",
     "output_type": "stream",
     "text": [
      "C:\\Users\\lynch08\\Anaconda3\\lib\\site-packages\\pandas\\core\\frame.py:3191: SettingWithCopyWarning: \n",
      "A value is trying to be set on a copy of a slice from a DataFrame.\n",
      "Try using .loc[row_indexer,col_indexer] = value instead\n",
      "\n",
      "See the caveats in the documentation: https://pandas.pydata.org/pandas-docs/stable/user_guide/indexing.html#returning-a-view-versus-a-copy\n",
      "  self[k1] = value[k2]\n"
     ]
    }
   ],
   "source": [
    "AnnualTicketSales[cols] = AnnualTicketSales[cols].replace({'\\$': '', ',': ''}, regex=True)"
   ]
  },
  {
   "cell_type": "code",
   "execution_count": 9,
   "id": "881d4786-0b99-43bb-8d4a-9f91001d6bc0",
   "metadata": {},
   "outputs": [
    {
     "data": {
      "text/html": [
       "<div>\n",
       "<style scoped>\n",
       "    .dataframe tbody tr th:only-of-type {\n",
       "        vertical-align: middle;\n",
       "    }\n",
       "\n",
       "    .dataframe tbody tr th {\n",
       "        vertical-align: top;\n",
       "    }\n",
       "\n",
       "    .dataframe thead th {\n",
       "        text-align: right;\n",
       "    }\n",
       "</style>\n",
       "<table border=\"1\" class=\"dataframe\">\n",
       "  <thead>\n",
       "    <tr style=\"text-align: right;\">\n",
       "      <th></th>\n",
       "      <th>YEAR</th>\n",
       "      <th>TICKETS SOLD</th>\n",
       "      <th>TOTAL BOX OFFICE</th>\n",
       "      <th>TOTAL INFLATION ADJUSTED BOX OFFICE</th>\n",
       "      <th>AVERAGE TICKET PRICE</th>\n",
       "    </tr>\n",
       "  </thead>\n",
       "  <tbody>\n",
       "    <tr>\n",
       "      <th>0</th>\n",
       "      <td>2021</td>\n",
       "      <td>423774881</td>\n",
       "      <td>3881777912</td>\n",
       "      <td>3881777912</td>\n",
       "      <td>9.16</td>\n",
       "    </tr>\n",
       "    <tr>\n",
       "      <th>1</th>\n",
       "      <td>2020</td>\n",
       "      <td>223638958</td>\n",
       "      <td>2048534616</td>\n",
       "      <td>2048534616</td>\n",
       "      <td>9.16</td>\n",
       "    </tr>\n",
       "    <tr>\n",
       "      <th>2</th>\n",
       "      <td>2019</td>\n",
       "      <td>1228541629</td>\n",
       "      <td>11253443955</td>\n",
       "      <td>11253444050</td>\n",
       "      <td>9.16</td>\n",
       "    </tr>\n",
       "    <tr>\n",
       "      <th>3</th>\n",
       "      <td>2018</td>\n",
       "      <td>1311536128</td>\n",
       "      <td>11948096650</td>\n",
       "      <td>12013670952</td>\n",
       "      <td>9.11</td>\n",
       "    </tr>\n",
       "    <tr>\n",
       "      <th>4</th>\n",
       "      <td>2017</td>\n",
       "      <td>1225639761</td>\n",
       "      <td>10993991460</td>\n",
       "      <td>11226860216</td>\n",
       "      <td>8.97</td>\n",
       "    </tr>\n",
       "    <tr>\n",
       "      <th>5</th>\n",
       "      <td>2016</td>\n",
       "      <td>1302556378</td>\n",
       "      <td>11267115924</td>\n",
       "      <td>11931416424</td>\n",
       "      <td>8.65</td>\n",
       "    </tr>\n",
       "    <tr>\n",
       "      <th>6</th>\n",
       "      <td>2015</td>\n",
       "      <td>1323356776</td>\n",
       "      <td>11155900636</td>\n",
       "      <td>12121948075</td>\n",
       "      <td>8.43</td>\n",
       "    </tr>\n",
       "    <tr>\n",
       "      <th>7</th>\n",
       "      <td>2014</td>\n",
       "      <td>1257402920</td>\n",
       "      <td>10272985008</td>\n",
       "      <td>11517810744</td>\n",
       "      <td>8.17</td>\n",
       "    </tr>\n",
       "    <tr>\n",
       "      <th>8</th>\n",
       "      <td>2013</td>\n",
       "      <td>1339168926</td>\n",
       "      <td>10887446341</td>\n",
       "      <td>12266787382</td>\n",
       "      <td>8.13</td>\n",
       "    </tr>\n",
       "    <tr>\n",
       "      <th>9</th>\n",
       "      <td>2012</td>\n",
       "      <td>1380921942</td>\n",
       "      <td>10992141616</td>\n",
       "      <td>12649244986</td>\n",
       "      <td>7.96</td>\n",
       "    </tr>\n",
       "    <tr>\n",
       "      <th>10</th>\n",
       "      <td>2011</td>\n",
       "      <td>1282915168</td>\n",
       "      <td>10173519704</td>\n",
       "      <td>11751502955</td>\n",
       "      <td>7.93</td>\n",
       "    </tr>\n",
       "    <tr>\n",
       "      <th>11</th>\n",
       "      <td>2010</td>\n",
       "      <td>1328549021</td>\n",
       "      <td>10482254025</td>\n",
       "      <td>12169509032</td>\n",
       "      <td>7.89</td>\n",
       "    </tr>\n",
       "    <tr>\n",
       "      <th>12</th>\n",
       "      <td>2009</td>\n",
       "      <td>1418567388</td>\n",
       "      <td>10639257284</td>\n",
       "      <td>12994051137</td>\n",
       "      <td>7.50</td>\n",
       "    </tr>\n",
       "    <tr>\n",
       "      <th>13</th>\n",
       "      <td>2008</td>\n",
       "      <td>1358042073</td>\n",
       "      <td>9750744148</td>\n",
       "      <td>12439665380</td>\n",
       "      <td>7.18</td>\n",
       "    </tr>\n",
       "    <tr>\n",
       "      <th>14</th>\n",
       "      <td>2007</td>\n",
       "      <td>1420036680</td>\n",
       "      <td>9769854914</td>\n",
       "      <td>13007535993</td>\n",
       "      <td>6.88</td>\n",
       "    </tr>\n",
       "    <tr>\n",
       "      <th>15</th>\n",
       "      <td>2006</td>\n",
       "      <td>1398738283</td>\n",
       "      <td>9161738221</td>\n",
       "      <td>12812442671</td>\n",
       "      <td>6.55</td>\n",
       "    </tr>\n",
       "    <tr>\n",
       "      <th>16</th>\n",
       "      <td>2005</td>\n",
       "      <td>1372980280</td>\n",
       "      <td>8800805718</td>\n",
       "      <td>12576499367</td>\n",
       "      <td>6.41</td>\n",
       "    </tr>\n",
       "    <tr>\n",
       "      <th>17</th>\n",
       "      <td>2004</td>\n",
       "      <td>1495651298</td>\n",
       "      <td>9287996519</td>\n",
       "      <td>13700165883</td>\n",
       "      <td>6.21</td>\n",
       "    </tr>\n",
       "    <tr>\n",
       "      <th>18</th>\n",
       "      <td>2003</td>\n",
       "      <td>1524589620</td>\n",
       "      <td>9193277289</td>\n",
       "      <td>13965240914</td>\n",
       "      <td>6.03</td>\n",
       "    </tr>\n",
       "    <tr>\n",
       "      <th>19</th>\n",
       "      <td>2002</td>\n",
       "      <td>1575756527</td>\n",
       "      <td>9155147215</td>\n",
       "      <td>14433929789</td>\n",
       "      <td>5.81</td>\n",
       "    </tr>\n",
       "    <tr>\n",
       "      <th>20</th>\n",
       "      <td>2001</td>\n",
       "      <td>1465874205</td>\n",
       "      <td>8296849636</td>\n",
       "      <td>13427407722</td>\n",
       "      <td>5.66</td>\n",
       "    </tr>\n",
       "    <tr>\n",
       "      <th>21</th>\n",
       "      <td>2000</td>\n",
       "      <td>1397460079</td>\n",
       "      <td>7532311479</td>\n",
       "      <td>12800734319</td>\n",
       "      <td>5.39</td>\n",
       "    </tr>\n",
       "    <tr>\n",
       "      <th>22</th>\n",
       "      <td>1999</td>\n",
       "      <td>1444664086</td>\n",
       "      <td>7338894852</td>\n",
       "      <td>13233123027</td>\n",
       "      <td>5.08</td>\n",
       "    </tr>\n",
       "    <tr>\n",
       "      <th>23</th>\n",
       "      <td>1998</td>\n",
       "      <td>1443832471</td>\n",
       "      <td>6771575283</td>\n",
       "      <td>13225505439</td>\n",
       "      <td>4.69</td>\n",
       "    </tr>\n",
       "    <tr>\n",
       "      <th>24</th>\n",
       "      <td>1997</td>\n",
       "      <td>1357349648</td>\n",
       "      <td>6230235770</td>\n",
       "      <td>12433322785</td>\n",
       "      <td>4.59</td>\n",
       "    </tr>\n",
       "    <tr>\n",
       "      <th>25</th>\n",
       "      <td>1996</td>\n",
       "      <td>1305221290</td>\n",
       "      <td>5769078886</td>\n",
       "      <td>11955781912</td>\n",
       "      <td>4.42</td>\n",
       "    </tr>\n",
       "    <tr>\n",
       "      <th>26</th>\n",
       "      <td>1995</td>\n",
       "      <td>1221705907</td>\n",
       "      <td>5314421390</td>\n",
       "      <td>11190826105</td>\n",
       "      <td>4.35</td>\n",
       "    </tr>\n",
       "  </tbody>\n",
       "</table>\n",
       "</div>"
      ],
      "text/plain": [
       "    YEAR TICKETS SOLD TOTAL BOX OFFICE TOTAL INFLATION ADJUSTED BOX OFFICE  \\\n",
       "0   2021    423774881       3881777912                          3881777912   \n",
       "1   2020    223638958       2048534616                          2048534616   \n",
       "2   2019   1228541629      11253443955                         11253444050   \n",
       "3   2018   1311536128      11948096650                         12013670952   \n",
       "4   2017   1225639761      10993991460                         11226860216   \n",
       "5   2016   1302556378      11267115924                         11931416424   \n",
       "6   2015   1323356776      11155900636                         12121948075   \n",
       "7   2014   1257402920      10272985008                         11517810744   \n",
       "8   2013   1339168926      10887446341                         12266787382   \n",
       "9   2012   1380921942      10992141616                         12649244986   \n",
       "10  2011   1282915168      10173519704                         11751502955   \n",
       "11  2010   1328549021      10482254025                         12169509032   \n",
       "12  2009   1418567388      10639257284                         12994051137   \n",
       "13  2008   1358042073       9750744148                         12439665380   \n",
       "14  2007   1420036680       9769854914                         13007535993   \n",
       "15  2006   1398738283       9161738221                         12812442671   \n",
       "16  2005   1372980280       8800805718                         12576499367   \n",
       "17  2004   1495651298       9287996519                         13700165883   \n",
       "18  2003   1524589620       9193277289                         13965240914   \n",
       "19  2002   1575756527       9155147215                         14433929789   \n",
       "20  2001   1465874205       8296849636                         13427407722   \n",
       "21  2000   1397460079       7532311479                         12800734319   \n",
       "22  1999   1444664086       7338894852                         13233123027   \n",
       "23  1998   1443832471       6771575283                         13225505439   \n",
       "24  1997   1357349648       6230235770                         12433322785   \n",
       "25  1996   1305221290       5769078886                         11955781912   \n",
       "26  1995   1221705907       5314421390                         11190826105   \n",
       "\n",
       "   AVERAGE TICKET PRICE  \n",
       "0                  9.16  \n",
       "1                  9.16  \n",
       "2                  9.16  \n",
       "3                  9.11  \n",
       "4                  8.97  \n",
       "5                  8.65  \n",
       "6                  8.43  \n",
       "7                  8.17  \n",
       "8                  8.13  \n",
       "9                  7.96  \n",
       "10                 7.93  \n",
       "11                 7.89  \n",
       "12                 7.50  \n",
       "13                 7.18  \n",
       "14                 6.88  \n",
       "15                 6.55  \n",
       "16                 6.41  \n",
       "17                 6.21  \n",
       "18                 6.03  \n",
       "19                 5.81  \n",
       "20                 5.66  \n",
       "21                 5.39  \n",
       "22                 5.08  \n",
       "23                 4.69  \n",
       "24                 4.59  \n",
       "25                 4.42  \n",
       "26                 4.35  "
      ]
     },
     "execution_count": 9,
     "metadata": {},
     "output_type": "execute_result"
    }
   ],
   "source": [
    "AnnualTicketSales"
   ]
  },
  {
   "cell_type": "markdown",
   "id": "59151c03-1149-4122-97ee-6c830142a231",
   "metadata": {},
   "source": [
    "At this point I decided to use pairplot  to see how the data would plot for me - I was concerned that because all the data types outside of the YEAR column was object I had a feeling this wouldnt work and as you can see below this time my feeling was correct - I am a newbie to programming but I know that is not how pairplot from seaborn is supposed to look.  "
   ]
  },
  {
   "cell_type": "code",
   "execution_count": 10,
   "id": "83a9ceed-bc3c-411c-8c44-9d56e491669b",
   "metadata": {},
   "outputs": [
    {
     "data": {
      "text/plain": [
       "<seaborn.axisgrid.PairGrid at 0x1de2373e790>"
      ]
     },
     "execution_count": 10,
     "metadata": {},
     "output_type": "execute_result"
    },
    {
     "data": {
      "image/png": "[encoded data removed]",
      "text/plain": [
       "<Figure size 180x180 with 2 Axes>"
      ]
     },
     "metadata": {
      "needs_background": "light"
     },
     "output_type": "display_data"
    }
   ],
   "source": [
    "#peek at the data - test\n",
    "sns.pairplot(AnnualTicketSales)"
   ]
  },
  {
   "cell_type": "markdown",
   "id": "37477baa-a131-4433-991e-abbdc44a64c7",
   "metadata": {},
   "source": [
    "At this point I ran into some problems with manipulating and plotting the data so I changed them to the types that allowed for better analysis,"
   ]
  },
  {
   "cell_type": "code",
   "execution_count": 11,
   "id": "b0fde8fc-300d-44f8-ad35-4fa91fb1cbb9",
   "metadata": {},
   "outputs": [],
   "source": [
    "# Changing data types for easier analysis\n",
    "AnnualTicketSales = AnnualTicketSales.astype({\"TICKETS SOLD\": ('int64'), \n",
    "                                              \"TOTAL BOX OFFICE\": ('int64'),\n",
    "                                              \"TOTAL INFLATION ADJUSTED BOX OFFICE\": ('int64'), \n",
    "                                              \"AVERAGE TICKET PRICE\": float})"
   ]
  },
  {
   "cell_type": "code",
   "execution_count": 12,
   "id": "8a2e8249-7d18-4d92-b4ac-bb3080834461",
   "metadata": {},
   "outputs": [
    {
     "data": {
      "text/plain": [
       "YEAR                                     int64\n",
       "TICKETS SOLD                             int64\n",
       "TOTAL BOX OFFICE                         int64\n",
       "TOTAL INFLATION ADJUSTED BOX OFFICE      int64\n",
       "AVERAGE TICKET PRICE                   float64\n",
       "dtype: object"
      ]
     },
     "execution_count": 12,
     "metadata": {},
     "output_type": "execute_result"
    }
   ],
   "source": [
    "# Check to see data has changed\n",
    "AnnualTicketSales.dtypes"
   ]
  },
  {
   "cell_type": "code",
   "execution_count": 13,
   "id": "b130b1f3-d362-48b9-837d-cd89f54090f8",
   "metadata": {},
   "outputs": [
    {
     "data": {
      "text/html": [
       "<div>\n",
       "<style scoped>\n",
       "    .dataframe tbody tr th:only-of-type {\n",
       "        vertical-align: middle;\n",
       "    }\n",
       "\n",
       "    .dataframe tbody tr th {\n",
       "        vertical-align: top;\n",
       "    }\n",
       "\n",
       "    .dataframe thead th {\n",
       "        text-align: right;\n",
       "    }\n",
       "</style>\n",
       "<table border=\"1\" class=\"dataframe\">\n",
       "  <thead>\n",
       "    <tr style=\"text-align: right;\">\n",
       "      <th></th>\n",
       "      <th>YEAR</th>\n",
       "      <th>TICKETS SOLD</th>\n",
       "      <th>TOTAL BOX OFFICE</th>\n",
       "      <th>TOTAL INFLATION ADJUSTED BOX OFFICE</th>\n",
       "      <th>AVERAGE TICKET PRICE</th>\n",
       "    </tr>\n",
       "  </thead>\n",
       "  <tbody>\n",
       "    <tr>\n",
       "      <th>22</th>\n",
       "      <td>1999</td>\n",
       "      <td>1444664086</td>\n",
       "      <td>7338894852</td>\n",
       "      <td>13233123027</td>\n",
       "      <td>5.08</td>\n",
       "    </tr>\n",
       "    <tr>\n",
       "      <th>23</th>\n",
       "      <td>1998</td>\n",
       "      <td>1443832471</td>\n",
       "      <td>6771575283</td>\n",
       "      <td>13225505439</td>\n",
       "      <td>4.69</td>\n",
       "    </tr>\n",
       "    <tr>\n",
       "      <th>24</th>\n",
       "      <td>1997</td>\n",
       "      <td>1357349648</td>\n",
       "      <td>6230235770</td>\n",
       "      <td>12433322785</td>\n",
       "      <td>4.59</td>\n",
       "    </tr>\n",
       "    <tr>\n",
       "      <th>25</th>\n",
       "      <td>1996</td>\n",
       "      <td>1305221290</td>\n",
       "      <td>5769078886</td>\n",
       "      <td>11955781912</td>\n",
       "      <td>4.42</td>\n",
       "    </tr>\n",
       "    <tr>\n",
       "      <th>26</th>\n",
       "      <td>1995</td>\n",
       "      <td>1221705907</td>\n",
       "      <td>5314421390</td>\n",
       "      <td>11190826105</td>\n",
       "      <td>4.35</td>\n",
       "    </tr>\n",
       "  </tbody>\n",
       "</table>\n",
       "</div>"
      ],
      "text/plain": [
       "    YEAR  TICKETS SOLD  TOTAL BOX OFFICE  TOTAL INFLATION ADJUSTED BOX OFFICE  \\\n",
       "22  1999    1444664086        7338894852                          13233123027   \n",
       "23  1998    1443832471        6771575283                          13225505439   \n",
       "24  1997    1357349648        6230235770                          12433322785   \n",
       "25  1996    1305221290        5769078886                          11955781912   \n",
       "26  1995    1221705907        5314421390                          11190826105   \n",
       "\n",
       "    AVERAGE TICKET PRICE  \n",
       "22                  5.08  \n",
       "23                  4.69  \n",
       "24                  4.59  \n",
       "25                  4.42  \n",
       "26                  4.35  "
      ]
     },
     "execution_count": 13,
     "metadata": {},
     "output_type": "execute_result"
    }
   ],
   "source": [
    "# Spot Check to see if changes effected the data in any other way than intended\n",
    "AnnualTicketSales.tail()"
   ]
  },
  {
   "cell_type": "markdown",
   "id": "2eb20429-bfdc-43a8-bbee-25cf7fd6326f",
   "metadata": {},
   "source": [
    "Because I have now removed what currency the box office intake, adjusted intake and avrage ticket price  are using I added the symbol to the column header for clarity "
   ]
  },
  {
   "cell_type": "code",
   "execution_count": 14,
   "id": "6e5292f4-f6cc-41ed-bd9e-d9853421f149",
   "metadata": {},
   "outputs": [],
   "source": [
    "AnnualTicketSales = AnnualTicketSales.rename(columns={'TOTAL BOX OFFICE':'TOT BOX OFFICE($)','TOTAL INFLATION ADJUSTED BOX OFFICE': 'TOT INFLATION ADJ BOX OFFICE($)', 'AVERAGE TICKET PRICE': 'AVE TICKET PRICE($)'})"
   ]
  },
  {
   "cell_type": "code",
   "execution_count": 15,
   "id": "14e32ef2-4cf9-4d7c-8ea0-e249a10aee5b",
   "metadata": {},
   "outputs": [
    {
     "data": {
      "text/html": [
       "<div>\n",
       "<style scoped>\n",
       "    .dataframe tbody tr th:only-of-type {\n",
       "        vertical-align: middle;\n",
       "    }\n",
       "\n",
       "    .dataframe tbody tr th {\n",
       "        vertical-align: top;\n",
       "    }\n",
       "\n",
       "    .dataframe thead th {\n",
       "        text-align: right;\n",
       "    }\n",
       "</style>\n",
       "<table border=\"1\" class=\"dataframe\">\n",
       "  <thead>\n",
       "    <tr style=\"text-align: right;\">\n",
       "      <th></th>\n",
       "      <th>YEAR</th>\n",
       "      <th>TICKETS SOLD</th>\n",
       "      <th>TOT BOX OFFICE($)</th>\n",
       "      <th>TOT INFLATION ADJ BOX OFFICE($)</th>\n",
       "      <th>AVE TICKET PRICE($)</th>\n",
       "    </tr>\n",
       "  </thead>\n",
       "  <tbody>\n",
       "    <tr>\n",
       "      <th>0</th>\n",
       "      <td>2021</td>\n",
       "      <td>423774881</td>\n",
       "      <td>3881777912</td>\n",
       "      <td>3881777912</td>\n",
       "      <td>9.16</td>\n",
       "    </tr>\n",
       "    <tr>\n",
       "      <th>1</th>\n",
       "      <td>2020</td>\n",
       "      <td>223638958</td>\n",
       "      <td>2048534616</td>\n",
       "      <td>2048534616</td>\n",
       "      <td>9.16</td>\n",
       "    </tr>\n",
       "    <tr>\n",
       "      <th>2</th>\n",
       "      <td>2019</td>\n",
       "      <td>1228541629</td>\n",
       "      <td>11253443955</td>\n",
       "      <td>11253444050</td>\n",
       "      <td>9.16</td>\n",
       "    </tr>\n",
       "    <tr>\n",
       "      <th>3</th>\n",
       "      <td>2018</td>\n",
       "      <td>1311536128</td>\n",
       "      <td>11948096650</td>\n",
       "      <td>12013670952</td>\n",
       "      <td>9.11</td>\n",
       "    </tr>\n",
       "    <tr>\n",
       "      <th>4</th>\n",
       "      <td>2017</td>\n",
       "      <td>1225639761</td>\n",
       "      <td>10993991460</td>\n",
       "      <td>11226860216</td>\n",
       "      <td>8.97</td>\n",
       "    </tr>\n",
       "  </tbody>\n",
       "</table>\n",
       "</div>"
      ],
      "text/plain": [
       "   YEAR  TICKETS SOLD  TOT BOX OFFICE($)  TOT INFLATION ADJ BOX OFFICE($)  \\\n",
       "0  2021     423774881         3881777912                       3881777912   \n",
       "1  2020     223638958         2048534616                       2048534616   \n",
       "2  2019    1228541629        11253443955                      11253444050   \n",
       "3  2018    1311536128        11948096650                      12013670952   \n",
       "4  2017    1225639761        10993991460                      11226860216   \n",
       "\n",
       "   AVE TICKET PRICE($)  \n",
       "0                 9.16  \n",
       "1                 9.16  \n",
       "2                 9.16  \n",
       "3                 9.11  \n",
       "4                 8.97  "
      ]
     },
     "execution_count": 15,
     "metadata": {},
     "output_type": "execute_result"
    }
   ],
   "source": [
    "# Check to see changes took\n",
    "AnnualTicketSales.head()"
   ]
  },
  {
   "cell_type": "markdown",
   "id": "1dd96134-50bb-4db0-8055-5ce3f40557e0",
   "metadata": {},
   "source": [
    "### Beginning my analysis\n",
    "I now have the original data in the way I think will be best so I can investigate the types of variables involved, their likely distributions, and their relationships with each other.\n",
    "I will study their distributions by looking at descriptive statistics and generating relevent plots to the data. I will explore relationships that may exist between the variables using visualisations such as scatterplot and pairplots, and statistics such as correlation and covariance statistics.\n",
    "\n",
    "With this information in mind, I will try to create a simulated dataset that is as close to the real world phenomenon as possible."
   ]
  },
  {
   "cell_type": "markdown",
   "id": "d2b69327-d325-4447-bfd1-a405bdb88c7a",
   "metadata": {},
   "source": [
    "# First Plot\n",
    "\n",
    "The first plot I like to do on a dataset is usually the pairplot from seaborn.  \n",
    "As you can see below it is really simple to generate(once you have the correct datatypes).  \n",
    "It also gives a very good indication of how each of the variables relate to the others and can give a high level overview of them as an standalone variable(histograms) and how they correlate with each of the other variables"
   ]
  },
  {
   "cell_type": "code",
   "execution_count": 16,
   "id": "4043afa4-57ee-4e3a-94cd-e16b04518a8b",
   "metadata": {},
   "outputs": [
    {
     "data": {
      "text/plain": [
       "<seaborn.axisgrid.PairGrid at 0x1de24004850>"
      ]
     },
     "execution_count": 16,
     "metadata": {},
     "output_type": "execute_result"
    },
    {
     "data": {
      "image/png": "[encoded data removed]",
      "text/plain": [
       "<Figure size 900x900 with 30 Axes>"
      ]
     },
     "metadata": {
      "needs_background": "light"
     },
     "output_type": "display_data"
    }
   ],
   "source": [
    "#peek at the data \n",
    "sns.pairplot(AnnualTicketSales)"
   ]
  },
  {
   "cell_type": "markdown",
   "id": "0c072125-6c50-41d7-a2f5-44edde6cbd16",
   "metadata": {},
   "source": [
    "Once again some things stand out immediatly:  \n",
    "Firstly 3 of columns were hugely impacted by covid - the columns that had the data that was related to annual attendance and annual financial intake data. You can see immediatly that any of the plots that are using the data from the TICKETS SOLD, TOT BOX OFFICE and TOT INFLATION ADJ BOX OFFICE all seem to have two datapoints that are outside the normal trends, at a glance and uneducated guess, this is probably covid related.  \n",
    "Secondly the one trend that seems to go up no matter what is the avrage ticket price (suprise suprise!!!)  \n",
    "Finally one thing I noticed (because I was looking for it) is that the scatter plot that plots out the datapoints for YEAR and TICKETS SOLD(second from the top on the left) seems to indicate that the amount of tickets sold did seem to be trending downwards before the pandemic began, but not at the same rate of course.\n",
    "\n",
    "A pairplot is good for a high level overview but readability is not great so to see the detail I really need to see some of this data plotted individually."
   ]
  },
  {
   "cell_type": "markdown",
   "id": "d642721a-2292-40de-bcf0-3e3f254251e8",
   "metadata": {},
   "source": [
    "##### AVERAGE TICKET PRICE - Analysis\n",
    "The first attribute I decided to analyse was the one that was easiest for me. A simple barchart that shows me the the avrage ticket price each year from 1995-2021.\n",
    "First I used the describe funtion to show me some information about the data such as the (count, mean, min, max and standard deviation). This data is not too relevent here but I like to have it as an addendum to alot of my plots as it can sometimes higlight somthing that the plot may not visualise.\n",
    "The one bit of information I do get from this that did not jump out to me when looking at the bar chart was the standard diviation is 1.62. That seemed a little high to me since the varience was so small between the years - however when I thought about it, looked at the numbers and refreshed myself on the math behind standard diviation it began to make more sense. This could be important when I am synthesising this information may be useful. \n"
   ]
  },
  {
   "cell_type": "code",
   "execution_count": 40,
   "id": "d0ffd6e2-a94f-4f8e-a1c5-a994798faa0d",
   "metadata": {},
   "outputs": [
    {
     "data": {
      "text/plain": [
       "count    27.000000\n",
       "mean      7.017407\n",
       "std       1.629525\n",
       "min       4.350000\n",
       "25%       5.735000\n",
       "50%       7.180000\n",
       "75%       8.300000\n",
       "max       9.160000\n",
       "Name: AVE TICKET PRICE($), dtype: float64"
      ]
     },
     "execution_count": 40,
     "metadata": {},
     "output_type": "execute_result"
    }
   ],
   "source": [
    "AnnualTicketSales['AVE TICKET PRICE($)'].describe()"
   ]
  },
  {
   "cell_type": "markdown",
   "id": "ba16b0c9-5c88-48e8-b127-01bdc713150b",
   "metadata": {},
   "source": [
    "##### The Bar Chart"
   ]
  },
  {
   "cell_type": "code",
   "execution_count": 41,
   "id": "7ed6cf90-efae-4240-9742-5156dabe01fc",
   "metadata": {},
   "outputs": [
    {
     "data": {
      "text/plain": [
       "<BarContainer object of 27 artists>"
      ]
     },
     "execution_count": 41,
     "metadata": {},
     "output_type": "execute_result"
    },
    {
     "data": {
      "image/png": "[encoded data removed]",
      "text/plain": [
       "<Figure size 1152x720 with 1 Axes>"
      ]
     },
     "metadata": {
      "needs_background": "light"
     },
     "output_type": "display_data"
    }
   ],
   "source": [
    "# Set the figure size\n",
    "plt.figure(figsize = (16,10))\n",
    "\n",
    "# putting data into variable\n",
    "x = AnnualTicketSales['YEAR']\n",
    "y = AnnualTicketSales['AVE TICKET PRICE($)']\n",
    "\n",
    "# Adds title\n",
    "plt.title(\"Bar Chart to show increase in Average Price of Movie Tickets \")\n",
    "# Adds label for the x-axis\n",
    "plt.xlabel(\"Year\")\n",
    "# Adds label for the y-axis\n",
    "plt.ylabel(\"Ave Ticket Price($)\")\n",
    "\n",
    "# Add labels for each Year on x-axis\n",
    "plt.xticks(x, rotation = 45)\n",
    "\n",
    "plt.bar(x,y)"
   ]
  },
  {
   "cell_type": "markdown",
   "id": "253a5add-7fc2-4a88-907a-06e25cd2b742",
   "metadata": {},
   "source": [
    "##### Distribution I will use\n",
    "\n",
    "From this I now have to find a way to synthesise the data to reflect a similar trend/distribution."
   ]
  },
  {
   "cell_type": "code",
   "execution_count": null,
   "id": "5402c860-d164-4c98-aa6f-28e0570c8a8e",
   "metadata": {},
   "outputs": [],
   "source": []
  },
  {
   "cell_type": "code",
   "execution_count": null,
   "id": "0f9404ef-a4bf-44d3-b541-8a49dc087ca8",
   "metadata": {},
   "outputs": [],
   "source": []
  },
  {
   "cell_type": "code",
   "execution_count": 22,
   "id": "eef8ac83-af6a-45ed-8a3f-cf3cb5d8fc9a",
   "metadata": {},
   "outputs": [
    {
     "data": {
      "text/plain": [
       "<matplotlib.legend.Legend at 0x1de265364c0>"
      ]
     },
     "execution_count": 22,
     "metadata": {},
     "output_type": "execute_result"
    },
    {
     "data": {
      "image/png": "[encoded data removed]",
      "text/plain": [
       "<Figure size 1440x864 with 1 Axes>"
      ]
     },
     "metadata": {
      "needs_background": "light"
     },
     "output_type": "display_data"
    }
   ],
   "source": [
    "plt.figure(figsize = (20,12))\n",
    "\n",
    "x = AnnualTicketSales['YEAR']\n",
    "y1 = AnnualTicketSales['TOT BOX OFFICE($)']\n",
    "y2 = AnnualTicketSales['TOT INFLATION ADJ BOX OFFICE($)']\n",
    "\n",
    "# Adds a grid\n",
    "plt.grid(True)\n",
    "\n",
    "\n",
    "plt.title(\"Show Annual Box Office Intake with and Adjusted for Inflation\")\n",
    "plt.plot(x,y1, label ='TOTAL BOX OFFICE') \n",
    "plt.plot(x,y2, label ='TOT INFLATION ADJ BOX OFFICE')\n",
    "plt.legend()"
   ]
  },
  {
   "cell_type": "code",
   "execution_count": null,
   "id": "37465844-f0ef-4734-b1be-1b21283f75d3",
   "metadata": {},
   "outputs": [],
   "source": [
    "\n"
   ]
  },
  {
   "cell_type": "markdown",
   "id": "4eb7b831-ce88-41a8-b868-40a1e8562aa1",
   "metadata": {},
   "source": [
    "### Describing each Column"
   ]
  },
  {
   "cell_type": "code",
   "execution_count": null,
   "id": "fc3b1938-4c25-429a-bf0d-628abc9a2c37",
   "metadata": {},
   "outputs": [],
   "source": [
    "AnnualTicketSales.dtypes"
   ]
  },
  {
   "cell_type": "code",
   "execution_count": null,
   "id": "a15590d0-0a79-4bdb-8200-8eefdc4168f8",
   "metadata": {},
   "outputs": [],
   "source": [
    "# Tried to do describe on entire notbook but most of the columns came in with scientific notation\n",
    "AnnualTicketSales.describe()"
   ]
  },
  {
   "cell_type": "code",
   "execution_count": null,
   "id": "5b86b165-3eaf-4d3e-a918-853e933a9650",
   "metadata": {},
   "outputs": [],
   "source": [
    "# found code to get rid of scientific notation - for my own readability\n",
    "pd.set_option('display.float_format', lambda x: '%.3f' % x)\n",
    "AnnualTicketSales.describe().apply(lambda s: s.apply('{0:.5f}'.format))"
   ]
  },
  {
   "cell_type": "markdown",
   "id": "ec86e6b7-c269-4e23-b561-ac26f9910d4c",
   "metadata": {},
   "source": [
    "### Plotting each of the variables\n",
    "I will now begin plotting each of the variables in the real world data set to see what the distributions are like.  \n",
    "I know from seeing the data set that the years go up incrementaly in the data set from 1995-present(2021) so I dont really need to see that distribution. \n",
    "\n"
   ]
  },
  {
   "cell_type": "code",
   "execution_count": null,
   "id": "b4bf9694-b00d-4f03-993f-533f2712ec4d",
   "metadata": {},
   "outputs": [],
   "source": []
  },
  {
   "cell_type": "code",
   "execution_count": null,
   "id": "5e588f4c-0b40-48d5-a208-89d665ad4fa7",
   "metadata": {},
   "outputs": [],
   "source": [
    "\n",
    "# my variables\n",
    "year = AnnualTicketSales['YEAR']\n",
    "tickets_sold = AnnualTicketSales['TICKETS SOLD']\n",
    "total_box_off = AnnualTicketSales['TOT BOX OFFICE($)']\n",
    "total_inf_box_off = AnnualTicketSales['TOT INFLATION ADJ BOX OFFICE($)']\n",
    "ave_ticket_pri = AnnualTicketSales['AVE TICKET PRICE($)']\n",
    "\n"
   ]
  },
  {
   "cell_type": "code",
   "execution_count": null,
   "id": "2db12848-0646-4b63-9001-efedc42bb6d8",
   "metadata": {},
   "outputs": [],
   "source": []
  },
  {
   "cell_type": "code",
   "execution_count": null,
   "id": "fccb2795-ee4b-4503-ae7d-6ada9b28370f",
   "metadata": {},
   "outputs": [],
   "source": [
    "# Bar chart to show the ticket sales every year since 1995\n",
    "plt.figure(figsize = (12, 8))\n",
    "plt.bar(year,tickets_sold, label ='Tickets sold') \n",
    "\n",
    "plt.title('Movie ticket sales every year since 1995')\n",
    "plt.legend()"
   ]
  },
  {
   "cell_type": "code",
   "execution_count": null,
   "id": "e5c714ba-1528-4364-b83b-f9a9b8091649",
   "metadata": {},
   "outputs": [],
   "source": [
    "plt.figure(figsize = (12, 8))\n",
    "\n",
    "plt.title('Box Office sales vs Box Office inflation since 1995')\n",
    "\n",
    "# Adds a grid\n",
    "plt.grid(True)\n",
    "\n",
    "sns.lineplot(x=year,y=total_box_off, label ='TOTAL BOX OFFICE')\n",
    "sns.lineplot(x=year,y=total_inf_box_off, label ='TOT INFLATION ADJ BOX OFFICE') \n",
    "plt.legend()"
   ]
  },
  {
   "cell_type": "code",
   "execution_count": null,
   "id": "49c0d336-5c77-4821-84f4-44589a997015",
   "metadata": {},
   "outputs": [],
   "source": [
    "plt.figure(figsize = (18, 8))\n",
    "\n",
    "plt.title('Ticket Price annual increases since 1995')\n",
    "\n",
    "# Adds a grid\n",
    "plt.grid(True)\n",
    "\n",
    "sns.pointplot(x=year, y=ave_ticket_pri)\n",
    " \n"
   ]
  },
  {
   "cell_type": "code",
   "execution_count": null,
   "id": "f101afd9-cc12-49b1-a514-effd159533da",
   "metadata": {},
   "outputs": [],
   "source": [
    "AnnualTicketSales = AnnualTicketSales.set_index('YEAR')"
   ]
  },
  {
   "cell_type": "code",
   "execution_count": null,
   "id": "729f9eb9-5e3b-4c06-bbd5-8d3c40b5f241",
   "metadata": {},
   "outputs": [],
   "source": [
    "AnnualTicketSales['TOT BO vs TOT INFLATION ADJ BO'] = AnnualTicketSales['TOT INFLATION ADJ BOX OFFICE($)'] - AnnualTicketSales['TOT BOX OFFICE($)']"
   ]
  },
  {
   "cell_type": "code",
   "execution_count": null,
   "id": "f53552d3-48ae-4085-8b5f-81782cd4bd74",
   "metadata": {},
   "outputs": [],
   "source": [
    "pd.set_option('display.float_format', lambda x: '%.3f' % x)"
   ]
  },
  {
   "cell_type": "code",
   "execution_count": null,
   "id": "6a11bde9-a130-462f-84d4-858e993ca942",
   "metadata": {},
   "outputs": [],
   "source": [
    "perinc = AnnualTicketSales['TOT BO vs TOT INFLATION ADJ BO'] / AnnualTicketSales['TOT BOX OFFICE($)']\n",
    "perinc = perinc *100\n",
    "print((perinc),'%')\n",
    "#perinc1 = \"{:.7f}\".format(perinc)\n",
    "#print(str(perinc1)) \n"
   ]
  },
  {
   "cell_type": "code",
   "execution_count": null,
   "id": "057a09c7-953d-43e3-badc-745fb253dd92",
   "metadata": {},
   "outputs": [],
   "source": [
    "AnnualTicketSales['Per Inc Infl'] = perinc"
   ]
  },
  {
   "cell_type": "code",
   "execution_count": null,
   "id": "42aa16ec-5d72-4125-abdc-b270608053cc",
   "metadata": {},
   "outputs": [],
   "source": [
    "AnnualTicketSales"
   ]
  },
  {
   "cell_type": "code",
   "execution_count": null,
   "id": "6ec0c530-f365-4eb6-864f-4c5a2709b0b9",
   "metadata": {},
   "outputs": [],
   "source": [
    "print(AnnualTicketSales.shape)"
   ]
  },
  {
   "cell_type": "code",
   "execution_count": null,
   "id": "d1fdbe2d-7923-4d03-94d8-a6fbe682ec0f",
   "metadata": {},
   "outputs": [],
   "source": [
    "AnnualTicketSales['AVE TICKET PRICE($)'].describe()"
   ]
  },
  {
   "cell_type": "code",
   "execution_count": null,
   "id": "cde5676a-d4d6-47b2-bb0b-c159f9abf31c",
   "metadata": {},
   "outputs": [],
   "source": [
    "AnnualTicketSales['TOT BOX OFFICE($)'].describe()"
   ]
  },
  {
   "cell_type": "code",
   "execution_count": null,
   "id": "33dda171-d33a-4b2c-a26d-87f603306940",
   "metadata": {},
   "outputs": [],
   "source": [
    "AnnualTicketSales['TOT INFLATION ADJ BOX OFFICE($)'].describe()"
   ]
  },
  {
   "cell_type": "code",
   "execution_count": null,
   "id": "7cc2c29c-1b42-4d97-a013-e665f657eaff",
   "metadata": {},
   "outputs": [],
   "source": [
    "AnnualTicketSales['TICKETS SOLD'].describe()"
   ]
  },
  {
   "cell_type": "code",
   "execution_count": null,
   "id": "b9d38b4c-4277-45b9-9060-6740e55384df",
   "metadata": {},
   "outputs": [],
   "source": [
    "AnnualTicketSales['TICKETS SOLD'].describe()"
   ]
  },
  {
   "cell_type": "code",
   "execution_count": null,
   "id": "b1b320ff-a16a-49a3-acca-2a9229e6290e",
   "metadata": {},
   "outputs": [],
   "source": [
    "pd.reset_option('^display.', silent=True)"
   ]
  },
  {
   "cell_type": "code",
   "execution_count": null,
   "id": "1f81bc0d-07e5-4b7c-8a94-63302a460a7a",
   "metadata": {},
   "outputs": [],
   "source": [
    "test = random.sample(range(223638958, 1575756527), 10)"
   ]
  },
  {
   "cell_type": "code",
   "execution_count": null,
   "id": "a008a128-15fb-48e3-b280-c6d247a4936a",
   "metadata": {},
   "outputs": [],
   "source": [
    "trainATS = AnnualTicketSales['TICKETS SOLD']"
   ]
  },
  {
   "cell_type": "code",
   "execution_count": null,
   "id": "ea394e92-acc7-4dbc-9f1b-6aa2b7acfa7d",
   "metadata": {},
   "outputs": [],
   "source": [
    "plt.hist(AnnualTicketSales['TICKETS SOLD'], bins=10)\n",
    "plt.show()"
   ]
  },
  {
   "cell_type": "code",
   "execution_count": null,
   "id": "98e57b31-f5b0-44ec-b7f2-25676c462492",
   "metadata": {},
   "outputs": [],
   "source": []
  },
  {
   "cell_type": "code",
   "execution_count": null,
   "id": "cc5918ae-80e3-4358-b43d-dc3bd5a9a09d",
   "metadata": {},
   "outputs": [],
   "source": []
  },
  {
   "cell_type": "code",
   "execution_count": null,
   "id": "cf2129ea-2b09-46f6-bed6-f8c568ab649a",
   "metadata": {},
   "outputs": [],
   "source": []
  },
  {
   "cell_type": "code",
   "execution_count": null,
   "id": "9ed6496f-1723-4338-937c-c98a6bca9c16",
   "metadata": {},
   "outputs": [],
   "source": []
  },
  {
   "cell_type": "code",
   "execution_count": null,
   "id": "5baf678d-be77-41d4-95b7-52f09b2c6db3",
   "metadata": {},
   "outputs": [],
   "source": []
  },
  {
   "cell_type": "code",
   "execution_count": null,
   "id": "8ac16233-9705-4198-9c7c-c090361409b1",
   "metadata": {},
   "outputs": [],
   "source": []
  },
  {
   "cell_type": "markdown",
   "id": "ab3e0775-17fb-440d-97d0-ae665249262d",
   "metadata": {},
   "source": [
    "### Recreating the data"
   ]
  },
  {
   "cell_type": "code",
   "execution_count": null,
   "id": "0d31803b-17d6-4979-9ae1-fc8590f41035",
   "metadata": {},
   "outputs": [],
   "source": [
    "AnnualTicketSales.dtypes"
   ]
  },
  {
   "cell_type": "code",
   "execution_count": null,
   "id": "8629d424-a6cc-48b3-856e-ad9e54d92ec6",
   "metadata": {},
   "outputs": [],
   "source": []
  },
  {
   "cell_type": "code",
   "execution_count": null,
   "id": "6ddbd51b-a353-4f14-b6b7-d8dfb1f2b8f8",
   "metadata": {},
   "outputs": [],
   "source": []
  },
  {
   "cell_type": "code",
   "execution_count": null,
   "id": "7a99f516-634b-4b77-b0cd-fc36f2ca3bf5",
   "metadata": {},
   "outputs": [],
   "source": []
  },
  {
   "cell_type": "code",
   "execution_count": null,
   "id": "13df67e5-2d4f-4531-8347-392d45b27f46",
   "metadata": {},
   "outputs": [],
   "source": []
  },
  {
   "cell_type": "code",
   "execution_count": null,
   "id": "bc65a2d5-d563-4003-b15d-710b7a39ac60",
   "metadata": {},
   "outputs": [],
   "source": []
  },
  {
   "cell_type": "code",
   "execution_count": null,
   "id": "198b48e7-b661-45dd-b431-5651f2d7b66a",
   "metadata": {},
   "outputs": [],
   "source": [
    "AnnualTicketSales.dtypes"
   ]
  },
  {
   "cell_type": "code",
   "execution_count": null,
   "id": "79378060-0ec3-4c17-9246-32509921f2fb",
   "metadata": {},
   "outputs": [],
   "source": [
    "sns.pairplot(AnnualTicketSales)"
   ]
  },
  {
   "cell_type": "code",
   "execution_count": null,
   "id": "36129eaf-2621-4913-9a7d-78d1e0ad2ad8",
   "metadata": {},
   "outputs": [],
   "source": [
    "AnnualTicketSales"
   ]
  },
  {
   "cell_type": "code",
   "execution_count": null,
   "id": "a809f0fb-0780-4d62-897c-d42eb09f4aa7",
   "metadata": {},
   "outputs": [],
   "source": []
  }
 ],
 "metadata": {
  "kernelspec": {
   "display_name": "Python 3",
   "language": "python",
   "name": "python3"
  },
  "language_info": {
   "codemirror_mode": {
    "name": "ipython",
    "version": 3
   },
   "file_extension": ".py",
   "mimetype": "text/x-python",
   "name": "python",
   "nbconvert_exporter": "python",
   "pygments_lexer": "ipython3",
   "version": "3.8.8"
  }
 },
 "nbformat": 4,
 "nbformat_minor": 5
}
