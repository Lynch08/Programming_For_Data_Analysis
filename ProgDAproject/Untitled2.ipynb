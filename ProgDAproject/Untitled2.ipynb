{
 "cells": [
  {
   "cell_type": "code",
   "execution_count": null,
   "id": "8aff6c53-8658-41e5-bda1-53a498410517",
   "metadata": {},
   "outputs": [],
   "source": [
    "pip install sportsipy"
   ]
  },
  {
   "cell_type": "code",
   "execution_count": null,
   "id": "10f31220-05c4-4983-83d0-ec41a07dcbbe",
   "metadata": {},
   "outputs": [],
   "source": []
  },
  {
   "cell_type": "code",
   "execution_count": null,
   "id": "3cf46c98-3403-4862-af34-0d175050c667",
   "metadata": {},
   "outputs": [],
   "source": []
  },
  {
   "cell_type": "code",
   "execution_count": null,
   "id": "0385a074-ae6f-49c3-8d32-db9985307122",
   "metadata": {},
   "outputs": [],
   "source": []
  },
  {
   "cell_type": "code",
   "execution_count": null,
   "id": "11155ada-69e2-49e6-8f2c-0ec86e2add9d",
   "metadata": {},
   "outputs": [],
   "source": []
  },
  {
   "cell_type": "code",
   "execution_count": null,
   "id": "b90f45ce-b49f-4083-8dab-e2b548552d89",
   "metadata": {},
   "outputs": [],
   "source": []
  },
  {
   "cell_type": "code",
   "execution_count": null,
   "id": "d7f1c7be-107d-47d9-970f-2b08df48049d",
   "metadata": {},
   "outputs": [],
   "source": []
  },
  {
   "cell_type": "code",
   "execution_count": 1,
   "id": "58a1d93e-8916-4fab-a1f5-cd900b5e0ba2",
   "metadata": {},
   "outputs": [],
   "source": [
    "import pandas as pd\n",
    "\n",
    "import numpy as np\n",
    "\n",
    "import scipy.stats as stats"
   ]
  },
  {
   "cell_type": "code",
   "execution_count": 2,
   "id": "13b79046-5600-4ce5-b9ea-04bc32d3924c",
   "metadata": {},
   "outputs": [],
   "source": [
    "import sportsipy.nfl"
   ]
  },
  {
   "cell_type": "code",
   "execution_count": 3,
   "id": "a12208a3-4cda-48d0-baf1-e96f063e96f9",
   "metadata": {},
   "outputs": [],
   "source": [
    "from sportsipy.nfl.boxscore import Boxscore"
   ]
  },
  {
   "cell_type": "code",
   "execution_count": 4,
   "id": "1f19dfc2-7a6a-4fa2-a077-45ec77ce4527",
   "metadata": {},
   "outputs": [
    {
     "name": "stdout",
     "output_type": "stream",
     "text": [
      "3\n",
      "4\n"
     ]
    }
   ],
   "source": [
    "game_data = Boxscore('201802040nwe')\n",
    "print(game_data.home_pass_touchdowns)  # Prints 33\n",
    "print(game_data.away_pass_touchdowns)  # Prints 41\n",
    "df = game_data.dataframe  # Returns a Pandas DataFrame of game metrics"
   ]
  },
  {
   "cell_type": "code",
   "execution_count": 5,
   "id": "c0adc693-307c-4821-8027-a68b07d1ab54",
   "metadata": {},
   "outputs": [],
   "source": [
    "from sportsipy.nfl.boxscore import Boxscores"
   ]
  },
  {
   "cell_type": "code",
   "execution_count": 6,
   "id": "699e02ee-27a3-4994-8aac-301c7de2db59",
   "metadata": {},
   "outputs": [
    {
     "name": "stdout",
     "output_type": "stream",
     "text": [
      "{'1-2017': [{'boxscore': '201709070nwe', 'away_name': 'Kansas City Chiefs', 'away_abbr': 'kan', 'away_score': 42, 'home_name': 'New England Patriots', 'home_abbr': 'nwe', 'home_score': 27, 'winning_name': 'Kansas City Chiefs', 'winning_abbr': 'kan', 'losing_name': 'New England Patriots', 'losing_abbr': 'nwe'}, {'boxscore': '201709100chi', 'away_name': 'Atlanta Falcons', 'away_abbr': 'atl', 'away_score': 23, 'home_name': 'Chicago Bears', 'home_abbr': 'chi', 'home_score': 17, 'winning_name': 'Atlanta Falcons', 'winning_abbr': 'atl', 'losing_name': 'Chicago Bears', 'losing_abbr': 'chi'}, {'boxscore': '201709100buf', 'away_name': 'New York Jets', 'away_abbr': 'nyj', 'away_score': 12, 'home_name': 'Buffalo Bills', 'home_abbr': 'buf', 'home_score': 21, 'winning_name': 'Buffalo Bills', 'winning_abbr': 'buf', 'losing_name': 'New York Jets', 'losing_abbr': 'nyj'}, {'boxscore': '201709100was', 'away_name': 'Philadelphia Eagles', 'away_abbr': 'phi', 'away_score': 30, 'home_name': 'Washington Redskins', 'home_abbr': 'was', 'home_score': 17, 'winning_name': 'Philadelphia Eagles', 'winning_abbr': 'phi', 'losing_name': 'Washington Redskins', 'losing_abbr': 'was'}, {'boxscore': '201709100oti', 'away_name': 'Oakland Raiders', 'away_abbr': 'rai', 'away_score': 26, 'home_name': 'Tennessee Titans', 'home_abbr': 'oti', 'home_score': 16, 'winning_name': 'Oakland Raiders', 'winning_abbr': 'rai', 'losing_name': 'Tennessee Titans', 'losing_abbr': 'oti'}, {'boxscore': '201709100htx', 'away_name': 'Jacksonville Jaguars', 'away_abbr': 'jax', 'away_score': 29, 'home_name': 'Houston Texans', 'home_abbr': 'htx', 'home_score': 7, 'winning_name': 'Jacksonville Jaguars', 'winning_abbr': 'jax', 'losing_name': 'Houston Texans', 'losing_abbr': 'htx'}, {'boxscore': '201709100det', 'away_name': 'Arizona Cardinals', 'away_abbr': 'crd', 'away_score': 23, 'home_name': 'Detroit Lions', 'home_abbr': 'det', 'home_score': 35, 'winning_name': 'Detroit Lions', 'winning_abbr': 'det', 'losing_name': 'Arizona Cardinals', 'losing_abbr': 'crd'}, {'boxscore': '201709100cle', 'away_name': 'Pittsburgh Steelers', 'away_abbr': 'pit', 'away_score': 21, 'home_name': 'Cleveland Browns', 'home_abbr': 'cle', 'home_score': 18, 'winning_name': 'Pittsburgh Steelers', 'winning_abbr': 'pit', 'losing_name': 'Cleveland Browns', 'losing_abbr': 'cle'}, {'boxscore': '201709100cin', 'away_name': 'Baltimore Ravens', 'away_abbr': 'rav', 'away_score': 20, 'home_name': 'Cincinnati Bengals', 'home_abbr': 'cin', 'home_score': 0, 'winning_name': 'Baltimore Ravens', 'winning_abbr': 'rav', 'losing_name': 'Cincinnati Bengals', 'losing_abbr': 'cin'}, {'boxscore': '201709100ram', 'away_name': 'Indianapolis Colts', 'away_abbr': 'clt', 'away_score': 9, 'home_name': 'Los Angeles Rams', 'home_abbr': 'ram', 'home_score': 46, 'winning_name': 'Los Angeles Rams', 'winning_abbr': 'ram', 'losing_name': 'Indianapolis Colts', 'losing_abbr': 'clt'}, {'boxscore': '201709100sfo', 'away_name': 'Carolina Panthers', 'away_abbr': 'car', 'away_score': 23, 'home_name': 'San Francisco 49ers', 'home_abbr': 'sfo', 'home_score': 3, 'winning_name': 'Carolina Panthers', 'winning_abbr': 'car', 'losing_name': 'San Francisco 49ers', 'losing_abbr': 'sfo'}, {'boxscore': '201709100gnb', 'away_name': 'Seattle Seahawks', 'away_abbr': 'sea', 'away_score': 9, 'home_name': 'Green Bay Packers', 'home_abbr': 'gnb', 'home_score': 17, 'winning_name': 'Green Bay Packers', 'winning_abbr': 'gnb', 'losing_name': 'Seattle Seahawks', 'losing_abbr': 'sea'}, {'boxscore': '201709100dal', 'away_name': 'New York Giants', 'away_abbr': 'nyg', 'away_score': 3, 'home_name': 'Dallas Cowboys', 'home_abbr': 'dal', 'home_score': 19, 'winning_name': 'Dallas Cowboys', 'winning_abbr': 'dal', 'losing_name': 'New York Giants', 'losing_abbr': 'nyg'}, {'boxscore': '201709110min', 'away_name': 'New Orleans Saints', 'away_abbr': 'nor', 'away_score': 19, 'home_name': 'Minnesota Vikings', 'home_abbr': 'min', 'home_score': 29, 'winning_name': 'Minnesota Vikings', 'winning_abbr': 'min', 'losing_name': 'New Orleans Saints', 'losing_abbr': 'nor'}, {'boxscore': '201709110den', 'away_name': 'Los Angeles Chargers', 'away_abbr': 'sdg', 'away_score': 21, 'home_name': 'Denver Broncos', 'home_abbr': 'den', 'home_score': 24, 'winning_name': 'Denver Broncos', 'winning_abbr': 'den', 'losing_name': 'Los Angeles Chargers', 'losing_abbr': 'sdg'}]}\n"
     ]
    }
   ],
   "source": [
    "games_today = Boxscores(1, 2017)\n",
    "# Prints a dictionary of all matchups for week 1 of 2017\n",
    "print(games_today.games)"
   ]
  },
  {
   "cell_type": "code",
   "execution_count": null,
   "id": "6282080b-949c-47d3-9d26-97ebb3c0dfd0",
   "metadata": {},
   "outputs": [],
   "source": [
    "def get_schedule(year):\n",
    "    weeks = list(range(1,18))\n",
    "    schedule_df = pd.DataFrame()\n",
    "    for w in range(len(weeks)):\n",
    "        date_string = str(weeks) + '-' + str(year)\n",
    "        week_scores = Boxscores(weeks,year)\n",
    "        week_games_df = pd.DataFrame()\n",
    "        for g in range(len(week_scores.games[date_string])):\n",
    "            game = pd.DataFrame(week_scores.games[date_string][g], index = [0])[['away_name', 'away_abbr','home_name', 'home_abbr','winning_name', 'winning_abbr' ]]\n",
    "            game['week'] = weeks\n",
    "            week_games_df = pd.concat([week_games_df,game])\n",
    "        schedule_df = pd.concat([schedule_df, week_games_df]).reset_index().drop(columns = 'index')\n",
    "    return schedule_df"
   ]
  },
  {
   "cell_type": "code",
   "execution_count": 7,
   "id": "ba42465a-e905-4591-bfa2-b47cc679a17b",
   "metadata": {
    "scrolled": true,
    "tags": []
   },
   "outputs": [],
   "source": [
    "def game_data(game_df,game_stats):\n",
    "    try:\n",
    "        away_team_df = game_df[['away_name', 'away_abbr', 'away_score']].rename(columns = {'away_name': 'team_name', 'away_abbr': 'team_abbr', 'away_score': 'score'})\n",
    "        home_team_df = game_df[['home_name','home_abbr', 'home_score']].rename(columns = {'home_name': 'team_name', 'home_abbr': 'team_abbr', 'home_score': 'score'})\n",
    "        try:\n",
    "            if game_df.loc[0,'away_score'] > game_df.loc[0,'home_score']:\n",
    "                away_team_df = pd.merge(away_team_df, pd.DataFrame({'game_won' : [1], 'game_lost' : [0]}),left_index = True, right_index = True)\n",
    "                home_team_df = pd.merge(home_team_df, pd.DataFrame({'game_won' : [0], 'game_lost' : [1]}),left_index = True, right_index = True)\n",
    "            elif game_df.loc[0,'away_score'] < game_df.loc[0,'home_score']:\n",
    "                away_team_df = pd.merge(away_team_df, pd.DataFrame({'game_won' : [0], 'game_lost' : [1]}),left_index = True, right_index = True)\n",
    "                home_team_df = pd.merge(home_team_df, pd.DataFrame({'game_won' : [1], 'game_lost' : [0]}),left_index = True, right_index = True)\n",
    "            else: \n",
    "                away_team_df = pd.merge(away_team_df, pd.DataFrame({'game_won' : [0], 'game_lost' : [0]}),left_index = True, right_index = True)\n",
    "                home_team_df = pd.merge(home_team_df, pd.DataFrame({'game_won' : [0], 'game_lost' : [0]}),left_index = True, right_index = True)\n",
    "        except TypeError:\n",
    "                away_team_df = pd.merge(away_team_df, pd.DataFrame({'game_won' : [np.nan], 'game_lost' : [np.nan]}),left_index = True, right_index = True)\n",
    "                home_team_df = pd.merge(home_team_df, pd.DataFrame({'game_won' : [np.nan], 'game_lost' : [np.nan]}),left_index = True, right_index = True)        \n",
    "\n",
    "        away_stats_df = game_stats.dataframe[['away_first_downs', 'away_fourth_down_attempts',\n",
    "               'away_fourth_down_conversions', 'away_fumbles', 'away_fumbles_lost',\n",
    "               'away_interceptions', 'away_net_pass_yards', 'away_pass_attempts',\n",
    "               'away_pass_completions', 'away_pass_touchdowns', 'away_pass_yards',\n",
    "               'away_penalties', 'away_points', 'away_rush_attempts',\n",
    "               'away_rush_touchdowns', 'away_rush_yards', 'away_third_down_attempts',\n",
    "               'away_third_down_conversions', 'away_time_of_possession',\n",
    "               'away_times_sacked', 'away_total_yards', 'away_turnovers',\n",
    "               'away_yards_from_penalties', 'away_yards_lost_from_sacks']].reset_index().drop(columns ='index').rename(columns = {\n",
    "               'away_first_downs': 'first_downs', 'away_fourth_down_attempts':'fourth_down_attempts',\n",
    "               'away_fourth_down_conversions':'fourth_down_conversions' , 'away_fumbles': 'fumbles', 'away_fumbles_lost': 'fumbles_lost',\n",
    "               'away_interceptions': 'interceptions', 'away_net_pass_yards':'net_pass_yards' , 'away_pass_attempts': 'pass_attempts',\n",
    "               'away_pass_completions':'pass_completions' , 'away_pass_touchdowns': 'pass_touchdowns', 'away_pass_yards': 'pass_yards',\n",
    "               'away_penalties': 'penalties', 'away_points': 'points', 'away_rush_attempts': 'rush_attempts',\n",
    "               'away_rush_touchdowns': 'rush_touchdowns', 'away_rush_yards': 'rush_yards', 'away_third_down_attempts': 'third_down_attempts',\n",
    "               'away_third_down_conversions': 'third_down_conversions', 'away_time_of_possession': 'time_of_possession',\n",
    "               'away_times_sacked': 'times_sacked', 'away_total_yards': 'total_yards', 'away_turnovers': 'turnovers',\n",
    "               'away_yards_from_penalties':'yards_from_penalties', 'away_yards_lost_from_sacks': 'yards_lost_from_sacks'})\n",
    "\n",
    "        home_stats_df = game_stats.dataframe[['home_first_downs', 'home_fourth_down_attempts',\n",
    "               'home_fourth_down_conversions', 'home_fumbles', 'home_fumbles_lost',\n",
    "               'home_interceptions', 'home_net_pass_yards', 'home_pass_attempts',\n",
    "               'home_pass_completions', 'home_pass_touchdowns', 'home_pass_yards',\n",
    "               'home_penalties', 'home_points', 'home_rush_attempts',\n",
    "               'home_rush_touchdowns', 'home_rush_yards', 'home_third_down_attempts',\n",
    "               'home_third_down_conversions', 'home_time_of_possession',\n",
    "               'home_times_sacked', 'home_total_yards', 'home_turnovers',\n",
    "               'home_yards_from_penalties', 'home_yards_lost_from_sacks']].reset_index().drop(columns = 'index').rename(columns = {\n",
    "               'home_first_downs': 'first_downs', 'home_fourth_down_attempts':'fourth_down_attempts',\n",
    "               'home_fourth_down_conversions':'fourth_down_conversions' , 'home_fumbles': 'fumbles', 'home_fumbles_lost': 'fumbles_lost',\n",
    "               'home_interceptions': 'interceptions', 'home_net_pass_yards':'net_pass_yards' , 'home_pass_attempts': 'pass_attempts',\n",
    "               'home_pass_completions':'pass_completions' , 'home_pass_touchdowns': 'pass_touchdowns', 'home_pass_yards': 'pass_yards',\n",
    "               'home_penalties': 'penalties', 'home_points': 'points', 'home_rush_attempts': 'rush_attempts',\n",
    "               'home_rush_touchdowns': 'rush_touchdowns', 'home_rush_yards': 'rush_yards', 'home_third_down_attempts': 'third_down_attempts',\n",
    "               'home_third_down_conversions': 'third_down_conversions', 'home_time_of_possession': 'time_of_possession',\n",
    "               'home_times_sacked': 'times_sacked', 'home_total_yards': 'total_yards', 'home_turnovers': 'turnovers',\n",
    "               'home_yards_from_penalties':'yards_from_penalties', 'home_yards_lost_from_sacks': 'yards_lost_from_sacks'})\n",
    "\n",
    "        away_team_df = pd.merge(away_team_df, away_stats_df,left_index = True, right_index = True)\n",
    "        home_team_df = pd.merge(home_team_df, home_stats_df,left_index = True, right_index = True)\n",
    "        try:\n",
    "            away_team_df['time_of_possession'] = (int(away_team_df['time_of_possession'].loc[0][0:2]) * 60) + int(away_team_df['time_of_possession'].loc[0][3:5])\n",
    "            home_team_df['time_of_possession'] = (int(home_team_df['time_of_possession'].loc[0][0:2]) * 60) + int(home_team_df['time_of_possession'].loc[0][3:5])\n",
    "        except TypeError:\n",
    "            away_team_df['time_of_possession'] = np.nan\n",
    "            home_team_df['time_of_possession'] = np.nan\n",
    "    except TypeError:\n",
    "        away_team_df = pd.DataFrame()\n",
    "        home_team_df = pd.DataFrame()\n",
    "    return away_team_df, home_team_df"
   ]
  },
  {
   "cell_type": "code",
   "execution_count": null,
   "id": "f057289d-aa1b-484c-84a6-951d804daa25",
   "metadata": {},
   "outputs": [],
   "source": [
    "def game_data_up_to_week(weeks,year):\n",
    "\n",
    "    weeks_games_df = pd.DataFrame()\n",
    "\n",
    "    for w in range(weeks):\n",
    "\n",
    "        date_string = str(weeks) + '-' + str(year)\n",
    "        week_scores = Boxscores(weeks,year)\n",
    "        week_games_df = pd.DataFrame()\n",
    "        for g in range(len(week_scores.games[date_string])):\n",
    "            game_str = week_scores.games[date_string][g]['boxscore']\n",
    "            game_stats = Boxscore(game_str)\n",
    "            game_df = pd.DataFrame(week_scores.games[date_string][g], index = [0])\n",
    "            away_team_df, home_team_df = game_data(game_df,game_stats)\n",
    "            away_team_df['week'] = weeks\n",
    "            home_team_df['week'] = weeks\n",
    "            week_games_df = pd.concat([week_games_df,away_team_df])\n",
    "            week_games_df = pd.concat([week_games_df,home_team_df])\n",
    "        weeks_games_df = pd.concat([weeks_games_df,week_games_df])\n",
    "    return weeks_games_df"
   ]
  },
  {
   "cell_type": "code",
   "execution_count": null,
   "id": "f49c9850-bd0e-4f5d-94ed-c4bb59788dae",
   "metadata": {
    "scrolled": true,
    "tags": []
   },
   "outputs": [],
   "source": [
    "df = game_data_up_to_week(2,2017)"
   ]
  },
  {
   "cell_type": "code",
   "execution_count": null,
   "id": "5d9521a9-15b9-4b4a-a893-d31ee378d240",
   "metadata": {},
   "outputs": [],
   "source": [
    "df"
   ]
  },
  {
   "cell_type": "code",
   "execution_count": null,
   "id": "9d575641-5302-413c-b638-ff1f732f72ce",
   "metadata": {},
   "outputs": [],
   "source": [
    "get_schedule(1)"
   ]
  },
  {
   "cell_type": "code",
   "execution_count": null,
   "id": "d7d203c4-f848-4be4-b167-5a02a8ceea53",
   "metadata": {},
   "outputs": [],
   "source": []
  },
  {
   "cell_type": "code",
   "execution_count": 8,
   "id": "5de0a6c2-0e9a-41cc-a7c9-ff0fb7c37c6b",
   "metadata": {},
   "outputs": [
    {
     "ename": "NameError",
     "evalue": "name 'home_stats_df' is not defined",
     "output_type": "error",
     "traceback": [
      "\u001b[1;31m---------------------------------------------------------------------------\u001b[0m",
      "\u001b[1;31mNameError\u001b[0m                                 Traceback (most recent call last)",
      "\u001b[1;32m<ipython-input-8-41c7b03a582a>\u001b[0m in \u001b[0;36m<module>\u001b[1;34m\u001b[0m\n\u001b[1;32m----> 1\u001b[1;33m \u001b[0mhome_stats_df\u001b[0m\u001b[1;33m\u001b[0m\u001b[1;33m\u001b[0m\u001b[0m\n\u001b[0m",
      "\u001b[1;31mNameError\u001b[0m: name 'home_stats_df' is not defined"
     ]
    }
   ],
   "source": [
    "home_stats_df"
   ]
  },
  {
   "cell_type": "code",
   "execution_count": null,
   "id": "3fd38328-f647-4c40-812e-e4bfef60079c",
   "metadata": {},
   "outputs": [],
   "source": []
  }
 ],
 "metadata": {
  "kernelspec": {
   "display_name": "Python 3",
   "language": "python",
   "name": "python3"
  },
  "language_info": {
   "codemirror_mode": {
    "name": "ipython",
    "version": 3
   },
   "file_extension": ".py",
   "mimetype": "text/x-python",
   "name": "python",
   "nbconvert_exporter": "python",
   "pygments_lexer": "ipython3",
   "version": "3.8.8"
  }
 },
 "nbformat": 4,
 "nbformat_minor": 5
}
